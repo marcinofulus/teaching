{
 "cells": [
  {
   "cell_type": "code",
   "execution_count": 1,
   "metadata": {
    "collapsed": true
   },
   "outputs": [],
   "source": [
    "%matplotlib inline\n",
    "import os\n",
    "import tensorflow as tf\n",
    "import numpy as np\n",
    "import matplotlib.pyplot as plt"
   ]
  },
  {
   "cell_type": "code",
   "execution_count": 2,
   "metadata": {
    "collapsed": true
   },
   "outputs": [],
   "source": [
    "from IPython.display import clear_output"
   ]
  },
  {
   "cell_type": "code",
   "execution_count": 3,
   "metadata": {
    "collapsed": true
   },
   "outputs": [],
   "source": [
    "dane = \"/DATA/shared/datasets/cifar10/cifar10_test.tfrecord\"\n",
    "dane_train = \"/DATA/shared/datasets/cifar10/cifar10_train.tfrecord\""
   ]
  },
  {
   "cell_type": "markdown",
   "metadata": {},
   "source": [
    "## Input pipeline\n",
    "\n",
    "Zastosowano tu następującą strategie:\n",
    "\n",
    " - do trenowania używamy kolejki zarządzanej przez tensorflow\n",
    " - to testowania, pobieramy z kolejki dane w postaci tablic numpy i przekazujemy je do tensorflow z użyciem `feed_dict`"
   ]
  },
  {
   "cell_type": "markdown",
   "metadata": {},
   "source": [
    "### net"
   ]
  },
  {
   "cell_type": "code",
   "execution_count": 4,
   "metadata": {
    "collapsed": true
   },
   "outputs": [],
   "source": [
    "def read_data(filename_queue):\n",
    "    reader = tf.TFRecordReader()\n",
    "    _, se = reader.read(filename_queue)\n",
    "    f = tf.parse_single_example(se,features={'image/encoded':tf.FixedLenFeature([],tf.string),\n",
    "                                            'image/class/label':tf.FixedLenFeature([],tf.int64),\n",
    "                                            'image/height':tf.FixedLenFeature([],tf.int64),\n",
    "                                            'image/width':tf.FixedLenFeature([],tf.int64)})\n",
    "    image = tf.image.decode_png(f['image/encoded'],channels=3)\n",
    "    image.set_shape( (32,32,3) ) \n",
    "    return image,f['image/class/label']"
   ]
  },
  {
   "cell_type": "code",
   "execution_count": 5,
   "metadata": {
    "collapsed": true
   },
   "outputs": [],
   "source": [
    "tf.reset_default_graph()"
   ]
  },
  {
   "cell_type": "code",
   "execution_count": 6,
   "metadata": {
    "collapsed": true
   },
   "outputs": [],
   "source": [
    "fq = tf.train.string_input_producer([dane_train])\n",
    "image_data, label = read_data(filename_queue=fq)"
   ]
  },
  {
   "cell_type": "code",
   "execution_count": 7,
   "metadata": {
    "collapsed": true
   },
   "outputs": [],
   "source": [
    "batch_size = 128\n",
    "images, sparse_labels = tf.train.shuffle_batch( [image_data,label],batch_size=batch_size,\n",
    "                                               num_threads=2,\n",
    "                                               capacity=1000+3*batch_size,\n",
    "                                               min_after_dequeue=1000\n",
    "                                               )\n",
    "images = (tf.cast(images,tf.float32)-128.0)/33.0"
   ]
  },
  {
   "cell_type": "markdown",
   "metadata": {
    "collapsed": true
   },
   "source": [
    "## test queue\n"
   ]
  },
  {
   "cell_type": "code",
   "execution_count": 8,
   "metadata": {
    "collapsed": true
   },
   "outputs": [],
   "source": [
    "fq_test = tf.train.string_input_producer([dane])\n",
    "test_image_data, test_label = read_data(filename_queue=fq_test)\n",
    "batch_size = 128\n",
    "test_images, test_sparse_labels = tf.train.batch( [test_image_data,test_label],batch_size=batch_size,\n",
    "                                               num_threads=2,\n",
    "                                               capacity=1000+3*batch_size,\n",
    "                                               )\n",
    "test_images = (tf.cast(test_images,tf.float32)-128.0)/33.0"
   ]
  },
  {
   "cell_type": "code",
   "execution_count": 9,
   "metadata": {},
   "outputs": [],
   "source": [
    "net = tf.contrib.layers.conv2d( images, 32, 3, padding='VALID')\n",
    "net = tf.contrib.layers.max_pool2d( net, 2, 2, padding='VALID')\n",
    "\n",
    "net = tf.contrib.layers.conv2d( net, 32, 3, padding='VALID')\n",
    "net = tf.contrib.layers.max_pool2d( net, 2, 2, padding='VALID')\n",
    "\n",
    "net = tf.contrib.layers.conv2d( net, 32, 3, padding='VALID')\n",
    "net = tf.contrib.layers.max_pool2d( net, 2, 2, padding='VALID')\n",
    "\n",
    "net = tf.contrib.layers.fully_connected(tf.reshape(net,[-1,2*2*32]), 32)\n",
    "net = tf.contrib.layers.fully_connected(net, 10, activation_fn=None)\n",
    "logits = net\n",
    "\n",
    "xent = tf.losses.sparse_softmax_cross_entropy(sparse_labels,net)\n",
    "loss = tf.reduce_mean( xent)\n",
    "\n",
    "opt = tf.train.GradientDescentOptimizer(learning_rate=0.01)\n",
    "train_op = opt.minimize(loss)"
   ]
  },
  {
   "cell_type": "code",
   "execution_count": null,
   "metadata": {
    "collapsed": true
   },
   "outputs": [],
   "source": []
  },
  {
   "cell_type": "code",
   "execution_count": 10,
   "metadata": {
    "collapsed": true
   },
   "outputs": [],
   "source": [
    "config = tf.ConfigProto()\n",
    "config.gpu_options.allow_growth = True\n",
    "\n",
    "sess = tf.InteractiveSession(config=config)\n",
    "tf.global_variables_initializer().run()\n",
    "coord = tf.train.Coordinator()\n",
    "threads = tf.train.start_queue_runners(sess=sess,coord=coord)"
   ]
  },
  {
   "cell_type": "code",
   "execution_count": 63,
   "metadata": {},
   "outputs": [
    {
     "name": "stdout",
     "output_type": "stream",
     "text": [
      "cifar_convet.ckpt-141000.data-00000-of-00001\r\n",
      "cifar_convet.ckpt-141000.index\r\n",
      "cifar_convet.ckpt-141000.meta\r\n",
      "cifar_convet.ckpt-41000.data-00000-of-00001\r\n",
      "cifar_convet.ckpt-41000.index\r\n",
      "cifar_convet.ckpt-41000.meta\r\n"
     ]
    }
   ],
   "source": [
    "!ls cifar_convet.ckpt*"
   ]
  },
  {
   "cell_type": "code",
   "execution_count": 11,
   "metadata": {
    "collapsed": true
   },
   "outputs": [],
   "source": [
    "global_step = 0"
   ]
  },
  {
   "cell_type": "code",
   "execution_count": 12,
   "metadata": {},
   "outputs": [],
   "source": [
    "if global_step>0:\n",
    "    saver=tf.train.Saver()\n",
    "    saver.restore(sess,'cifar_convet.ckpt-%d'%global_step)\n"
   ]
  },
  {
   "cell_type": "code",
   "execution_count": null,
   "metadata": {
    "scrolled": false
   },
   "outputs": [
    {
     "name": "stdout",
     "output_type": "stream",
     "text": [
      "0.172429 191881\n"
     ]
    }
   ],
   "source": [
    "%%time\n",
    "lvals = []\n",
    "\n",
    "\n",
    "for i in range(global_step,global_step+200000):\n",
    "    l, _ = sess.run([loss,train_op])\n",
    "    if i%10==0:   \n",
    "        clear_output(wait=True)\n",
    "        print(l,i+1)\n",
    "    if i%100==0:\n",
    "        Images,Labels = sess.run([test_images,test_sparse_labels])\n",
    "        predicted = np.argmax(sess.run(logits,feed_dict={images: Images}),axis=1)\n",
    "        r_test = np.sum(predicted==Labels)/Labels.size\n",
    "        \n",
    "        Images,Labels = sess.run([images,sparse_labels])\n",
    "        predicted = np.argmax(sess.run(logits,feed_dict={images: Images}),axis=1)\n",
    "        r = np.sum(predicted==Labels)/Labels.size\n",
    "        lvals.append([i,l,r,r_test])\n",
    "\n",
    "global_step = i+1"
   ]
  },
  {
   "cell_type": "code",
   "execution_count": 14,
   "metadata": {},
   "outputs": [
    {
     "data": {
      "text/plain": [
       "200000"
      ]
     },
     "execution_count": 14,
     "metadata": {},
     "output_type": "execute_result"
    }
   ],
   "source": [
    "global_step"
   ]
  },
  {
   "cell_type": "code",
   "execution_count": 19,
   "metadata": {},
   "outputs": [
    {
     "data": {
      "text/plain": [
       "[<matplotlib.lines.Line2D at 0x7f43a4752358>]"
      ]
     },
     "execution_count": 19,
     "metadata": {},
     "output_type": "execute_result"
    },
    {
     "data": {
      "image/png": "[encoded data removed]",
      "text/plain": [
       "<matplotlib.figure.Figure at 0x7f43a4789f60>"
      ]
     },
     "metadata": {},
     "output_type": "display_data"
    }
   ],
   "source": [
    "lvals = np.array(lvals)\n",
    "plt.plot(lvals[:,0],lvals[:,1])\n",
    "\n",
    "plt.plot(lvals[:,0],lvals[:,3])\n",
    "plt.plot(lvals[:,0],lvals[:,2])"
   ]
  },
  {
   "cell_type": "code",
   "execution_count": 64,
   "metadata": {},
   "outputs": [
    {
     "name": "stdout",
     "output_type": "stream",
     "text": [
      "INFO:tensorflow:Restoring parameters from cifar_convet.ckpt\n"
     ]
    }
   ],
   "source": [
    "saver.restore(sess,'cifar_convet.ckpt')"
   ]
  },
  {
   "cell_type": "code",
   "execution_count": 16,
   "metadata": {},
   "outputs": [
    {
     "data": {
      "text/plain": [
       "(128,)"
      ]
     },
     "execution_count": 16,
     "metadata": {},
     "output_type": "execute_result"
    }
   ],
   "source": [
    "sess.run(test_sparse_labels).shape"
   ]
  },
  {
   "cell_type": "code",
   "execution_count": 17,
   "metadata": {},
   "outputs": [
    {
     "data": {
      "text/plain": [
       "(128,)"
      ]
     },
     "execution_count": 17,
     "metadata": {},
     "output_type": "execute_result"
    }
   ],
   "source": [
    "sess.run(test_sparse_labels).shape"
   ]
  },
  {
   "cell_type": "code",
   "execution_count": null,
   "metadata": {},
   "outputs": [],
   "source": []
  },
  {
   "cell_type": "code",
   "execution_count": 18,
   "metadata": {
    "collapsed": true
   },
   "outputs": [],
   "source": [
    "label2txt = [\"airplane\",\n",
    "\"automobile\",\n",
    "\"bird\",\n",
    "\"cat\",\n",
    "\"deer\",\n",
    "\"dog\",\n",
    "\"frog\",\n",
    "\"horse\",\n",
    "\"ship\",\n",
    "\"truck\" ]\n"
   ]
  },
  {
   "cell_type": "markdown",
   "metadata": {},
   "source": [
    "### Testing\n",
    "\n",
    "Możemy wykorzystać `feed_dict` by wykonać graf operacji na ndanych testowych.\n"
   ]
  },
  {
   "cell_type": "code",
   "execution_count": 20,
   "metadata": {},
   "outputs": [
    {
     "data": {
      "text/plain": [
       "0.6171875"
      ]
     },
     "execution_count": 20,
     "metadata": {},
     "output_type": "execute_result"
    }
   ],
   "source": [
    "Images,Labels = sess.run([test_images,test_sparse_labels])\n",
    "\n",
    "predicted = np.argmax(sess.run(logits,feed_dict={images: Images}),axis=1)\n",
    "np.sum(predicted==Labels)/Labels.size"
   ]
  },
  {
   "cell_type": "code",
   "execution_count": 57,
   "metadata": {
    "scrolled": false
   },
   "outputs": [
    {
     "name": "stdout",
     "output_type": "stream",
     "text": [
      "automobile automobile\n"
     ]
    },
    {
     "data": {
      "image/png": "[encoded data removed]",
      "text/plain": [
       "<matplotlib.figure.Figure at 0x7fd5ac7a0d68>"
      ]
     },
     "metadata": {},
     "output_type": "display_data"
    },
    {
     "name": "stdout",
     "output_type": "stream",
     "text": [
      "dog dog\n"
     ]
    },
    {
     "data": {
      "image/png": "[encoded data removed]",
      "text/plain": [
       "<matplotlib.figure.Figure at 0x7fd5ac695c50>"
      ]
     },
     "metadata": {},
     "output_type": "display_data"
    },
    {
     "name": "stdout",
     "output_type": "stream",
     "text": [
      "automobile airplane\n"
     ]
    },
    {
     "data": {
      "image/png": "[encoded data removed]",
      "text/plain": [
       "<matplotlib.figure.Figure at 0x7fd57c787f28>"
      ]
     },
     "metadata": {},
     "output_type": "display_data"
    },
    {
     "name": "stdout",
     "output_type": "stream",
     "text": [
      "airplane airplane\n"
     ]
    },
    {
     "data": {
      "image/png": "[encoded data removed]",
      "text/plain": [
       "<matplotlib.figure.Figure at 0x7fd57c7465c0>"
      ]
     },
     "metadata": {},
     "output_type": "display_data"
    },
    {
     "name": "stdout",
     "output_type": "stream",
     "text": [
      "bird bird\n"
     ]
    },
    {
     "data": {
      "image/png": "[encoded data removed]",
      "text/plain": [
       "<matplotlib.figure.Figure at 0x7fd57c78e6d8>"
      ]
     },
     "metadata": {},
     "output_type": "display_data"
    }
   ],
   "source": [
    "for ith in range(5):\n",
    "    print (label2txt[Labels[ith]],(label2txt[predicted[ith]]))\n",
    "    plt.imshow((Images[ith]*33+128).astype(np.uint8))\n",
    "    plt.show()"
   ]
  },
  {
   "cell_type": "code",
   "execution_count": 78,
   "metadata": {},
   "outputs": [
    {
     "name": "stdout",
     "output_type": "stream",
     "text": [
      "0.7734375\n",
      "CPU times: user 28 ms, sys: 0 ns, total: 28 ms\n",
      "Wall time: 7.75 ms\n"
     ]
    }
   ],
   "source": [
    "%%time\n",
    "l_lst =[]\n",
    "for i in range(1):\n",
    "    Images,Labels = sess.run([test_images,test_sparse_labels])\n",
    "    predicted = np.argmax(sess.run(logits,feed_dict={images: Images}),axis=1)\n",
    "    rlst = np.sum(predicted==Labels)/Labels.size\n",
    "print(rlst)"
   ]
  },
  {
   "cell_type": "code",
   "execution_count": 17,
   "metadata": {},
   "outputs": [],
   "source": [
    "saver = tf.train.Saver()"
   ]
  },
  {
   "cell_type": "code",
   "execution_count": 18,
   "metadata": {},
   "outputs": [
    {
     "data": {
      "text/plain": [
       "'cifar_convet.ckpt-200000'"
      ]
     },
     "execution_count": 18,
     "metadata": {},
     "output_type": "execute_result"
    }
   ],
   "source": [
    "saver.save(sess,'cifar_convet.ckpt',global_step=global_step)"
   ]
  },
  {
   "cell_type": "code",
   "execution_count": null,
   "metadata": {
    "collapsed": true
   },
   "outputs": [],
   "source": []
  },
  {
   "cell_type": "code",
   "execution_count": null,
   "metadata": {
    "collapsed": true
   },
   "outputs": [],
   "source": []
  }
 ],
 "metadata": {
  "kernelspec": {
   "display_name": "Python 3",
   "language": "python",
   "name": "python3"
  },
  "language_info": {
   "codemirror_mode": {
    "name": "ipython",
    "version": 3
   },
   "file_extension": ".py",
   "mimetype": "text/x-python",
   "name": "python",
   "nbconvert_exporter": "python",
   "pygments_lexer": "ipython3",
   "version": "3.5.2"
  }
 },
 "nbformat": 4,
 "nbformat_minor": 1
}
