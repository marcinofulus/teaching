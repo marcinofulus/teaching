{
 "cells": [
  {
   "cell_type": "markdown",
   "metadata": {},
   "source": [
    "## Input pipeline\n",
    "https://www.tensorflow.org/api_guides/python/io_ops#Input_pipeline"
   ]
  },
  {
   "cell_type": "code",
   "execution_count": 1,
   "metadata": {
    "collapsed": true
   },
   "outputs": [],
   "source": [
    "%matplotlib inline\n",
    "import os\n",
    "import tensorflow as tf\n",
    "import numpy as np\n",
    "import matplotlib.pyplot as plt\n",
    "\n",
    "from ipywidgets import widgets,interact\n",
    "from IPython.display import clear_output\n",
    "\n",
    "import os\n",
    "os.environ[\"CUDA_VISIBLE_DEVICES\"] = \"\""
   ]
  },
  {
   "cell_type": "code",
   "execution_count": 2,
   "metadata": {
    "collapsed": true
   },
   "outputs": [],
   "source": [
    "dane = \"/DATA/shared/datasets/cifar10/cifar10_test.tfrecord\"\n",
    "dane_train = \"/DATA/shared/datasets/cifar10/cifar10_train.tfrecord\""
   ]
  },
  {
   "cell_type": "code",
   "execution_count": 3,
   "metadata": {
    "collapsed": true
   },
   "outputs": [],
   "source": [
    "label2txt = [\"airplane\",\n",
    "\"automobile\",\n",
    "\"bird\",\n",
    "\"cat\",\n",
    "\"deer\",\n",
    "\"dog\",\n",
    "\"frog\",\n",
    "\"horse\",\n",
    "\"ship\",\n",
    "\"truck\" ]\n"
   ]
  },
  {
   "cell_type": "code",
   "execution_count": 4,
   "metadata": {
    "collapsed": true
   },
   "outputs": [],
   "source": [
    "def read_data(filename_queue):\n",
    "    reader = tf.TFRecordReader()\n",
    "    _, se = reader.read(filename_queue)\n",
    "    f = tf.parse_single_example(se,features={'image/encoded':tf.FixedLenFeature([],tf.string),\n",
    "                                            'image/class/label':tf.FixedLenFeature([],tf.int64),\n",
    "                                            'image/height':tf.FixedLenFeature([],tf.int64),\n",
    "                                            'image/width':tf.FixedLenFeature([],tf.int64)})\n",
    "    image = tf.image.decode_png(f['image/encoded'],channels=3)\n",
    "    image.set_shape( (32,32,3) ) \n",
    "    return image,f['image/class/label']"
   ]
  },
  {
   "cell_type": "code",
   "execution_count": null,
   "metadata": {
    "collapsed": true
   },
   "outputs": [],
   "source": []
  },
  {
   "cell_type": "code",
   "execution_count": 5,
   "metadata": {
    "collapsed": true
   },
   "outputs": [],
   "source": [
    "fq = tf.train.string_input_producer([dane_train])\n",
    "image_data, label = read_data(filename_queue=fq)"
   ]
  },
  {
   "cell_type": "code",
   "execution_count": 6,
   "metadata": {
    "collapsed": true
   },
   "outputs": [],
   "source": [
    "batch_size = 128\n",
    "images, sparse_labels = tf.train.shuffle_batch( [image_data,label],batch_size=batch_size,\n",
    "                                               num_threads=2,\n",
    "                                               capacity=1000+3*batch_size,\n",
    "                                               min_after_dequeue=1000\n",
    "                                               )\n",
    "images = (tf.cast(images,tf.float32)-128.0)/33.0"
   ]
  },
  {
   "cell_type": "code",
   "execution_count": 7,
   "metadata": {
    "collapsed": true
   },
   "outputs": [],
   "source": [
    "config = tf.ConfigProto()\n",
    "config.gpu_options.allow_growth = True\n",
    "sess = tf.InteractiveSession(config=config)\n",
    "tf.global_variables_initializer().run()\n",
    "coord = tf.train.Coordinator()\n",
    "threads = tf.train.start_queue_runners(sess=sess,coord=coord)"
   ]
  },
  {
   "cell_type": "code",
   "execution_count": 8,
   "metadata": {
    "collapsed": true
   },
   "outputs": [],
   "source": [
    "im,l = sess.run([images, sparse_labels])"
   ]
  },
  {
   "cell_type": "markdown",
   "metadata": {
    "collapsed": true
   },
   "source": [
    "### *Caution:* this will use different batches!\n",
    "\n",
    "    im = sess.run(images)\n",
    "    l = sess.run(sparse_labels)"
   ]
  },
  {
   "cell_type": "code",
   "execution_count": 9,
   "metadata": {},
   "outputs": [
    {
     "name": "stderr",
     "output_type": "stream",
     "text": [
      "Widget Javascript not detected.  It may not be installed or enabled properly.\n"
     ]
    },
    {
     "data": {
      "application/vnd.jupyter.widget-view+json": {
       "model_id": "43cf39c737d64cdfb16cd451af98f927"
      }
     },
     "metadata": {},
     "output_type": "display_data"
    }
   ],
   "source": [
    "@interact(ith=widgets.IntSlider(max=im.shape[0]))\n",
    "def show_ith(ith):\n",
    "    clear_output(wait=True)\n",
    "    plt.imshow((128+33*im[ith,:,:,:]).astype(np.uint8))\n",
    "    plt.title(label2txt[l[ith]])\n",
    "    plt.show()\n",
    "    "
   ]
  },
  {
   "cell_type": "code",
   "execution_count": null,
   "metadata": {},
   "outputs": [],
   "source": []
  },
  {
   "cell_type": "code",
   "execution_count": null,
   "metadata": {
    "collapsed": true
   },
   "outputs": [],
   "source": []
  }
 ],
 "metadata": {
  "kernelspec": {
   "display_name": "Python 3",
   "language": "python",
   "name": "python3"
  },
  "language_info": {
   "codemirror_mode": {
    "name": "ipython",
    "version": 3
   },
   "file_extension": ".py",
   "mimetype": "text/x-python",
   "name": "python",
   "nbconvert_exporter": "python",
   "pygments_lexer": "ipython3",
   "version": "3.5.2"
  }
 },
 "nbformat": 4,
 "nbformat_minor": 1
}
