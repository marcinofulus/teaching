{
 "cells": [
  {
   "cell_type": "markdown",
   "metadata": {},
   "source": [
    "## Zadanie 1\n",
    "<p>Znaleźć miejsce zerowe wielomianu Lagrange'a, zdefiniowanego przez następujące pary punkt&oacute;w.</p>\n",
    "<table style=\"color: #000000; border-color: #000000; border-width: 1px;\" border=\"1\" frame=\"box\">\n",
    "<tbody>\n",
    "<tr>\n",
    "<td>x</td>\n",
    "<td style=\"text-align: center;\">4.0</td>\n",
    "<td style=\"text-align: center;\">3.9</td>\n",
    "<td style=\"text-align: center;\">3.8</td>\n",
    "<td style=\"text-align: center;\">3.7</td>\n",
    "</tr>\n",
    "<tr>\n",
    "<td>y</td>\n",
    "<td style=\"text-align: center;\">-0.06604</td>\n",
    "<td style=\"text-align: center;\">\n",
    "<div id=\"_mcePaste\" style=\"position: absolute; left: -10000px; top: 53px; width: 1px; height: 1px; overflow: hidden;\">&minus;0.02724&nbsp;</div>\n",
    "-0.02724</td>\n",
    "<td style=\"text-align: center;\">0.01282</td>\n",
    "<td style=\"text-align: center;\">0.05383</td>\n",
    "</tr>\n",
    "</tbody>\n",
    "</table>\n",
    "<p>Narysować ten wielomian interpolacyjny.</p>"
   ]
  },
  {
   "cell_type": "code",
   "execution_count": null,
   "metadata": {
    "collapsed": true
   },
   "outputs": [],
   "source": []
  },
  {
   "cell_type": "markdown",
   "metadata": {},
   "source": [
    "## Zadanie 2\n",
    "<p>Użyć regresji liniowej aby znaleźć prostą najlepiej pasującą do podanych danych.</p>\n",
    "<table border=\"1\">\n",
    "<tbody>\n",
    "<tr>\n",
    "<td>x</td>\n",
    "<td>-1.0</td>\n",
    "<td>-0.5</td>\n",
    "<td>0</td>\n",
    "<td>0.5</td>\n",
    "<td>1.0</td>\n",
    "</tr>\n",
    "<tr>\n",
    "<td>y</td>\n",
    "<td>-1.00</td>\n",
    "<td>-0.55</td>\n",
    "<td>0.00</td>\n",
    "<td>0.45</td>\n",
    "<td>1.00</td>\n",
    "</tr>\n",
    "</tbody>\n",
    "</table>\n",
    "<p>&nbsp;</p>"
   ]
  },
  {
   "cell_type": "code",
   "execution_count": null,
   "metadata": {
    "collapsed": true
   },
   "outputs": [],
   "source": []
  },
  {
   "cell_type": "markdown",
   "metadata": {},
   "source": [
    "## Zadanie 3\n",
    "\n",
    "<p>Zbadaj ruch punktu materialnego w poniższym potencjale:</p>\n",
    "<ol>\n",
    "<li>Dla przypadku zachowawczego, narysuj portret fazowy, separatryse i punkty r&oacute;wnowagi.</li>\n",
    "<li>Narysuj kilka &nbsp;rozwiązań układu z tarciem (liniowym mokrym).</li>\n",
    "<li>Wyznacz częstości małych drgań w dla obu minim&oacute;w potencjału.</li>\n",
    "<li>Czy dla dużych aplitud ruchu, częstość zależy od amplitudy? Czy rośnie z amplitudą czy maleje?&nbsp;</li>\n",
    "</ol>"
   ]
  },
  {
   "cell_type": "code",
   "execution_count": 3,
   "metadata": {
    "collapsed": false
   },
   "outputs": [
    {
     "data": {
      "image/png": "[encoded data removed]",
      "text/plain": [
       "Graphics object consisting of 1 graphics primitive"
      ]
     },
     "execution_count": 3,
     "metadata": {},
     "output_type": "execute_result"
    }
   ],
   "source": [
    "U(x) = x^4+1/4*x-x^2\n",
    "plot(U(x),(x,-1.2,1.2),figsize=5)"
   ]
  },
  {
   "cell_type": "code",
   "execution_count": null,
   "metadata": {
    "collapsed": true
   },
   "outputs": [],
   "source": []
  },
  {
   "cell_type": "markdown",
   "metadata": {},
   "source": [
    "## Zadanie 4\n",
    "\n",
    "Rozwiąż numerycznie zagadnienie rzutu ukośnego dla prędkości $v_0=2 m/s$ oraz kąta rzutu $\\alpha=27$ stopni, wyznacz zasięg rzutu, czas trwania lotu oraz wysokość maksymalną. Narysuj trajektorię. Porównaj otrzymane wartości z wynikami analitycznymi."
   ]
  },
  {
   "cell_type": "code",
   "execution_count": null,
   "metadata": {
    "collapsed": true
   },
   "outputs": [],
   "source": []
  },
  {
   "cell_type": "markdown",
   "metadata": {},
   "source": [
    "## Zadanie 5\n",
    "\n",
    "Rozwiązać numerycznie równanie  Fishera-Kolomogorowa.\n",
    "$$\\frac{ \\partial u(x,t)}{\\partial t} = u (1-u) + \\frac{ \\partial^2 u(x,t)}{\\partial x^2} $$\n",
    "\n",
    "\n",
    "Model ten wykazuje rozwiązanie będące frontem falowym poruszającym się ze stałą prędkością. \n",
    "Obliczyć z otrzymanego rozwiązania numerycznego  prędkość frontu falowego w modelu i porównać z wartością przewidywaną przez teorię.\n"
   ]
  },
  {
   "cell_type": "code",
   "execution_count": 7,
   "metadata": {
    "collapsed": false
   },
   "outputs": [
    {
     "data": {
      "text/html": [
       "<html><script type=\"math/tex; mode=display\">\\newcommand{\\Bold}[1]{\\mathbf{#1}}\\frac{1}{{\\left(e^{\\left(-\\frac{1}{36} \\, \\sqrt{6} {\\left(5 \\, \\sqrt{6} t - 6 \\, x\\right)}\\right)} + 1\\right)}^{2}}</script></html>"
      ],
      "text/plain": [
       "(e^(-1/36*sqrt(6)*(5*sqrt(6)*t - 6*x)) + 1)^(-2)"
      ]
     },
     "metadata": {},
     "output_type": "display_data"
    },
    {
     "data": {
      "text/plain": [
       "True"
      ]
     },
     "execution_count": 7,
     "metadata": {},
     "output_type": "execute_result"
    }
   ],
   "source": [
    "var('x,t')\n",
    "b=5/sqrt(6)                                      \n",
    "cs = 1/(1+ exp((x-b*t)/sqrt(6)))^2 ## rozwiązanie dokładne\n",
    "show(cs)\n",
    "bool(cs.diff(t)==cs*(1-cs)+cs.diff(x,2))"
   ]
  },
  {
   "cell_type": "code",
   "execution_count": null,
   "metadata": {
    "collapsed": true
   },
   "outputs": [],
   "source": []
  }
 ],
 "metadata": {
  "kernelspec": {
   "display_name": "SageMath 7.3",
   "language": "",
   "name": "sagemath"
  },
  "language_info": {
   "codemirror_mode": {
    "name": "ipython",
    "version": 2
   },
   "file_extension": ".py",
   "mimetype": "text/x-python",
   "name": "python",
   "nbconvert_exporter": "python",
   "pygments_lexer": "ipython2",
   "version": "2.7.10"
  }
 },
 "nbformat": 4,
 "nbformat_minor": 1
}
