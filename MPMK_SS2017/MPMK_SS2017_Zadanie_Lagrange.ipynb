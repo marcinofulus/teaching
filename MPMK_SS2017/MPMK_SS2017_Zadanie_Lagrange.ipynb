{
 "cells": [
  {
   "cell_type": "markdown",
   "metadata": {},
   "source": [
    "<h2>Baza Lagrange'a i wzór interpolacyjny Langrange'a</h2>\n",
    "<p>Dla $n+1$ punktów możemy zdefiniować $n+1$ wielomianów:</p>\n",
    "<p>$$ L_i(x)=\\prod_{j = 0 , j\\ne i}^n \\frac{x-x_j}{x_i-x_j}\\ \\ \\ \\ \\ \\quad i\\in {0,1\\cdots ,n}$$</p>\n",
    "<p>Na przykład dla trzech punktów  $x_i, \\; i=0,1,2$ mamy wielomiany:</p>\n",
    "<p>$$ L_0(x)=\\frac{(x-x_1)(x-x_2)}{(x_0-x_1)(x_0-x_2)} $$</p>\n",
    "<p>$$ L_1(x)=\\frac{(x-x_0)(x-x_2)}{(x_1-x_0)(x_1-x_2)} $$</p>\n",
    "<p>$$ L_2(x)=\\frac{(x-x_0)(x-x_1)}{(x_2-x_0)(x_2-x_1)} $$</p>\n",
    "<p>Mają one następujące właściwości:</p>\n",
    "<ol>\n",
    "<li>wielomian $L_i(x)=0$ dla $x=x_j,\\; i \\neq j$</li>\n",
    "<li>wielomian $L_i(x)=1$ dla $x=x_i$</li>\n",
    "</ol>\n",
    "<p>Z powyższego wynika, że mając pary punktów $(x_i,y_i)\\; i=0,\\dots,n$, możemy utworzyć sumę:</p>\n",
    "<p>$$W(x)=y_0\\cdot L_0(x) + y_1\\cdot L_1(x) + y_2\\cdot L_2(x) + \\cdots + y_n\\cdot L_n(x),$$</p>\n",
    "<p>która będzie wielomianem stopnia $n$. $W(x)$ będzie przyjmował wartości $y_i$ w punktach $x_i$:</p>\n",
    "<p>$$ W(x_i)=y_i\\; i=0,\\dots,n$$.</p>\n",
    "<p>Wynika z tego, że $W(x)$ będzie wielomianem spełniającym zagadnienie interpolacyjne Lagrange'a. Baza $L_i$ jest zwana bazą Lagrange'a. </p>\n",
    "<p> </p>\n",
    "<p> </p>\n",
    "<p> </p>\n",
    "<p>$$a_{ij} = L_j(x_i)$$</p>"
   ]
  },
  {
   "cell_type": "markdown",
   "metadata": {},
   "source": [
    "## Zaimplementować konstrukcję bazy i wielomianu Lagrange'a"
   ]
  },
  {
   "cell_type": "code",
   "execution_count": 19,
   "metadata": {
    "collapsed": false
   },
   "outputs": [
    {
     "data": {
      "text/plain": [
       "x"
      ]
     },
     "execution_count": 19,
     "metadata": {},
     "output_type": "execute_result"
    }
   ],
   "source": [
    "var('x')"
   ]
  },
  {
   "cell_type": "code",
   "execution_count": 25,
   "metadata": {
    "collapsed": true
   },
   "outputs": [],
   "source": [
    "x_lst = [1.2,2.1,3.1]\n",
    "y_lst = [2.2,.1,3.]\n",
    "\n",
    "n = len(x_lst)"
   ]
  },
  {
   "cell_type": "code",
   "execution_count": 21,
   "metadata": {
    "collapsed": false
   },
   "outputs": [
    {
     "data": {
      "text/plain": [
       "[x - 2.10000000000000, x - 3.10000000000000]"
      ]
     },
     "execution_count": 21,
     "metadata": {},
     "output_type": "execute_result"
    }
   ],
   "source": [
    "[(x-x_lst[i]) for i in range(n) if i != 0 ]"
   ]
  },
  {
   "cell_type": "code",
   "execution_count": 22,
   "metadata": {
    "collapsed": false
   },
   "outputs": [
    {
     "data": {
      "text/plain": [
       "[-0.900000000000000, -1.90000000000000]"
      ]
     },
     "execution_count": 22,
     "metadata": {},
     "output_type": "execute_result"
    }
   ],
   "source": [
    "[(x_lst[0]-x_lst[i]) for i in range(n) if i != 0 ]"
   ]
  },
  {
   "cell_type": "code",
   "execution_count": 23,
   "metadata": {
    "collapsed": false
   },
   "outputs": [
    {
     "data": {
      "text/plain": [
       "(x - 2.10000000000000)*(x - 3.10000000000000)"
      ]
     },
     "execution_count": 23,
     "metadata": {},
     "output_type": "execute_result"
    }
   ],
   "source": [
    "prod([(x-x_lst[i]) for i in range(n) if i != 0 ])"
   ]
  },
  {
   "cell_type": "code",
   "execution_count": 24,
   "metadata": {
    "collapsed": false
   },
   "outputs": [
    {
     "data": {
      "text/plain": [
       "[(x - 2.10000000000000)*(x - 3.10000000000000)]"
      ]
     },
     "execution_count": 24,
     "metadata": {},
     "output_type": "execute_result"
    }
   ],
   "source": [
    "L=[]\n",
    "L.append( prod([(x-x_lst[i]) for i in range(n) if i != 0 ]) ) \n",
    "L"
   ]
  },
  {
   "cell_type": "code",
   "execution_count": null,
   "metadata": {
    "collapsed": true
   },
   "outputs": [],
   "source": []
  }
 ],
 "metadata": {
  "kernelspec": {
   "display_name": "SageMath 7.3",
   "language": "",
   "name": "sagemath"
  },
  "language": "python",
  "language_info": {
   "codemirror_mode": {
    "name": "ipython",
    "version": 2
   },
   "file_extension": ".py",
   "mimetype": "text/x-python",
   "name": "python",
   "nbconvert_exporter": "python",
   "pygments_lexer": "ipython2",
   "version": "2.7.10"
  }
 },
 "nbformat": 4,
 "nbformat_minor": 1
}
