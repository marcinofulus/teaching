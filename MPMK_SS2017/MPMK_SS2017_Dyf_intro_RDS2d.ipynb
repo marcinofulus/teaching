{
 "cells": [
  {
   "cell_type": "markdown",
   "metadata": {},
   "source": [
    "<h2>Równanie dyfuzji (1d)</h2>\n",
    "<p>Równanie dyfuzji w jednym wymiarze przyjmuje następującą postać:</p>\n",
    "<p>$$ \\frac{\\partial u}{\\partial t}= D \\frac{\\partial^2u}{\\partial x^2}$$</p>\n",
    "<p> </p>\n",
    "<p>Aby określić funkcje $u(x,t)$ musimy znać stan początkowy i warunku brzegowe.</p>\n",
    "<p>$$ u(x=a,t=0)=u_a \\textbf{ oraz } u(x=b,t=0)=u_b$$  </p>\n",
    "<p>lub</p>\n",
    "<p>$$ u'(x=a,t=0)=J_a \\textbf{ oraz } u'(x=b,t=0)=J_b$$</p>"
   ]
  },
  {
   "cell_type": "code",
   "execution_count": null,
   "metadata": {
    "collapsed": false
   },
   "outputs": [],
   "source": []
  },
  {
   "cell_type": "markdown",
   "metadata": {},
   "source": [
    "<h2>Dyskretny operator Laplace'a</h2>\n",
    "<p>Zaczynamy od dyskretnej postaci operatora Laplace'a:</p>\n",
    "<p>Można przestawić go jako złożenie dwóch operatorów różnic skończonych, najlepiej w przód i w tył, tak by efekt był symetryczny.</p>"
   ]
  },
  {
   "cell_type": "code",
   "execution_count": 1,
   "metadata": {
    "collapsed": false
   },
   "outputs": [
    {
     "data": {
      "text/html": [
       "<html><script type=\"math/tex; mode=display\">\\newcommand{\\Bold}[1]{\\mathbf{#1}}\\left(\\begin{array}{rrrrrrr}\n",
       "-1 & 1 & 0 & 0 & 0 & 0 & 0 \\\\\n",
       "0 & -1 & 1 & 0 & 0 & 0 & 0 \\\\\n",
       "0 & 0 & -1 & 1 & 0 & 0 & 0 \\\\\n",
       "0 & 0 & 0 & -1 & 1 & 0 & 0 \\\\\n",
       "0 & 0 & 0 & 0 & -1 & 1 & 0 \\\\\n",
       "0 & 0 & 0 & 0 & 0 & -1 & 1 \\\\\n",
       "0 & 0 & 0 & 0 & 0 & 0 & -1\n",
       "\\end{array}\\right) \\left(\\begin{array}{rrrrrrr}\n",
       "1 & 0 & 0 & 0 & 0 & 0 & 0 \\\\\n",
       "-1 & 1 & 0 & 0 & 0 & 0 & 0 \\\\\n",
       "0 & -1 & 1 & 0 & 0 & 0 & 0 \\\\\n",
       "0 & 0 & -1 & 1 & 0 & 0 & 0 \\\\\n",
       "0 & 0 & 0 & -1 & 1 & 0 & 0 \\\\\n",
       "0 & 0 & 0 & 0 & -1 & 1 & 0 \\\\\n",
       "0 & 0 & 0 & 0 & 0 & -1 & 1\n",
       "\\end{array}\\right) \\verb|=|</script></html>"
      ],
      "text/plain": [
       "[-1  1  0  0  0  0  0]\n",
       "[ 0 -1  1  0  0  0  0]\n",
       "[ 0  0 -1  1  0  0  0]\n",
       "[ 0  0  0 -1  1  0  0]\n",
       "[ 0  0  0  0 -1  1  0]\n",
       "[ 0  0  0  0  0 -1  1]\n",
       "[ 0  0  0  0  0  0 -1] [ 1  0  0  0  0  0  0]\n",
       "[-1  1  0  0  0  0  0]\n",
       "[ 0 -1  1  0  0  0  0]\n",
       "[ 0  0 -1  1  0  0  0]\n",
       "[ 0  0  0 -1  1  0  0]\n",
       "[ 0  0  0  0 -1  1  0]\n",
       "[ 0  0  0  0  0 -1  1] '='"
      ]
     },
     "metadata": {},
     "output_type": "display_data"
    },
    {
     "data": {
      "text/html": [
       "<html><script type=\"math/tex; mode=display\">\\newcommand{\\Bold}[1]{\\mathbf{#1}}\\left(\\begin{array}{rrrrrrr}\n",
       "-2 & 1 & 0 & 0 & 0 & 0 & 0 \\\\\n",
       "1 & -2 & 1 & 0 & 0 & 0 & 0 \\\\\n",
       "0 & 1 & -2 & 1 & 0 & 0 & 0 \\\\\n",
       "0 & 0 & 1 & -2 & 1 & 0 & 0 \\\\\n",
       "0 & 0 & 0 & 1 & -2 & 1 & 0 \\\\\n",
       "0 & 0 & 0 & 0 & 1 & -2 & 1 \\\\\n",
       "0 & 0 & 0 & 0 & 0 & 1 & -1\n",
       "\\end{array}\\right)</script></html>"
      ],
      "text/plain": [
       "[-2  1  0  0  0  0  0]\n",
       "[ 1 -2  1  0  0  0  0]\n",
       "[ 0  1 -2  1  0  0  0]\n",
       "[ 0  0  1 -2  1  0  0]\n",
       "[ 0  0  0  1 -2  1  0]\n",
       "[ 0  0  0  0  1 -2  1]\n",
       "[ 0  0  0  0  0  1 -1]"
      ]
     },
     "metadata": {},
     "output_type": "display_data"
    }
   ],
   "source": [
    "N=7\n",
    "B=-identity_matrix(N)\n",
    "for i in range(1,B.ncols()):\n",
    "    B[i-1,i]=1\n",
    "A=identity_matrix(N)\n",
    "for i in range(1,A.ncols()):\n",
    "    A[i,i-1]=-1\n",
    "show(B,A,\"=\")\n",
    "show(B*A)"
   ]
  },
  {
   "cell_type": "code",
   "execution_count": 2,
   "metadata": {
    "collapsed": false
   },
   "outputs": [
    {
     "data": {
      "text/html": [
       "<html><script type=\"math/tex; mode=display\">\\newcommand{\\Bold}[1]{\\mathbf{#1}}\\left(\\begin{array}{r}\n",
       "f_{0} \\\\\n",
       "f_{1} \\\\\n",
       "f_{2} \\\\\n",
       "f_{3} \\\\\n",
       "f_{4} \\\\\n",
       "f_{5} \\\\\n",
       "f_{6}\n",
       "\\end{array}\\right)</script></html>"
      ],
      "text/plain": [
       "[f0]\n",
       "[f1]\n",
       "[f2]\n",
       "[f3]\n",
       "[f4]\n",
       "[f5]\n",
       "[f6]"
      ]
     },
     "metadata": {},
     "output_type": "display_data"
    }
   ],
   "source": [
    "f = vector( [var('f%d'%i) for i in range(N)])\n",
    "show(f.column())"
   ]
  },
  {
   "cell_type": "markdown",
   "metadata": {},
   "source": [
    "Poniżej zastąp `A*f` np. przez `A*B*f`:"
   ]
  },
  {
   "cell_type": "code",
   "execution_count": 6,
   "metadata": {
    "collapsed": false
   },
   "outputs": [
    {
     "data": {
      "text/html": [
       "<html><script type=\"math/tex; mode=display\">\\newcommand{\\Bold}[1]{\\mathbf{#1}}\\left(\\begin{array}{rrrrrrr}\n",
       "-1 & 1 & 0 & 0 & 0 & 0 & 0 \\\\\n",
       "0 & -1 & 1 & 0 & 0 & 0 & 0 \\\\\n",
       "0 & 0 & -1 & 1 & 0 & 0 & 0 \\\\\n",
       "0 & 0 & 0 & -1 & 1 & 0 & 0 \\\\\n",
       "0 & 0 & 0 & 0 & -1 & 1 & 0 \\\\\n",
       "0 & 0 & 0 & 0 & 0 & -1 & 1 \\\\\n",
       "0 & 0 & 0 & 0 & 0 & 0 & -1\n",
       "\\end{array}\\right) \\left(\\begin{array}{r}\n",
       "f_{0} \\\\\n",
       "f_{1} \\\\\n",
       "f_{2} \\\\\n",
       "f_{3} \\\\\n",
       "f_{4} \\\\\n",
       "f_{5} \\\\\n",
       "f_{6}\n",
       "\\end{array}\\right) \\verb|=| \\left(\\begin{array}{r}\n",
       "f_{0} \\\\\n",
       "-f_{0} + f_{1} \\\\\n",
       "-f_{1} + f_{2} \\\\\n",
       "-f_{2} + f_{3} \\\\\n",
       "-f_{3} + f_{4} \\\\\n",
       "-f_{4} + f_{5} \\\\\n",
       "-f_{5} + f_{6}\n",
       "\\end{array}\\right)</script></html>"
      ],
      "text/plain": [
       "[-1  1  0  0  0  0  0]\n",
       "[ 0 -1  1  0  0  0  0]\n",
       "[ 0  0 -1  1  0  0  0]\n",
       "[ 0  0  0 -1  1  0  0]\n",
       "[ 0  0  0  0 -1  1  0]\n",
       "[ 0  0  0  0  0 -1  1]\n",
       "[ 0  0  0  0  0  0 -1] [f0]\n",
       "[f1]\n",
       "[f2]\n",
       "[f3]\n",
       "[f4]\n",
       "[f5]\n",
       "[f6] '=' [      f0]\n",
       "[-f0 + f1]\n",
       "[-f1 + f2]\n",
       "[-f2 + f3]\n",
       "[-f3 + f4]\n",
       "[-f4 + f5]\n",
       "[-f5 + f6]"
      ]
     },
     "metadata": {},
     "output_type": "display_data"
    }
   ],
   "source": [
    "show(B,f.column(),\"=\",(A*f).column())"
   ]
  },
  {
   "cell_type": "code",
   "execution_count": null,
   "metadata": {
    "collapsed": false
   },
   "outputs": [],
   "source": []
  },
  {
   "cell_type": "code",
   "execution_count": null,
   "metadata": {
    "collapsed": false
   },
   "outputs": [],
   "source": []
  },
  {
   "cell_type": "markdown",
   "metadata": {},
   "source": [
    "<p>Można też wykonać bezpośrednią konstrukcję korzystając z przybliżenia drugiej pochodnej:</p>\n",
    "<p>$$ \\displaystyle \\frac{f(x_{i+1})-2 f(x_i)+f(x_{i-1}) }{h^2}\\simeq  \\frac{\\partial^2f(x)}{\\partial x^2}(x_i)$$</p>\n",
    "<p>Możemy napisać:</p>\n",
    "<p>$$\\nabla^2 f(x) = \\frac{1}{h^2} L \\mathbf{f},  $$</p>\n",
    "<p>gdzie:</p>\n",
    "<p>$$ L = \\left(\\begin{array}{rrrr} -2.0 & 1.0 & 0.0 & 0.0 \\\\ 1.0 & -2.0 & 1.0 & 0.0 \\\\ 0.0 & 1.0 & -2.0 & 1.0 \\\\ 0.0 & 0.0 & 1.0 & -2.0 \\end{array}\\right)$$</p>\n",
    "<p>a $\\mathbf{f}$ jest wektorem wartości funkcji wypróbkowanym na dziedzinie.</p>\n",
    "<p> </p>\n",
    "<p> </p>"
   ]
  },
  {
   "cell_type": "markdown",
   "metadata": {},
   "source": [
    "Konstrukcja macierzy $L$ przez iterację po elementach:"
   ]
  },
  {
   "cell_type": "code",
   "execution_count": 6,
   "metadata": {
    "collapsed": false
   },
   "outputs": [
    {
     "data": {
      "text/html": [
       "<html><script type=\"math/tex; mode=display\">\\newcommand{\\Bold}[1]{\\mathbf{#1}}\\left(\\begin{array}{rrrrrrr}\n",
       "-2.0 & 1.0 & 0.0 & 0.0 & 0.0 & 0.0 & 1.0 \\\\\n",
       "1.0 & -2.0 & 1.0 & 0.0 & 0.0 & 0.0 & 0.0 \\\\\n",
       "0.0 & 1.0 & -2.0 & 1.0 & 0.0 & 0.0 & 0.0 \\\\\n",
       "0.0 & 0.0 & 1.0 & -2.0 & 1.0 & 0.0 & 0.0 \\\\\n",
       "0.0 & 0.0 & 0.0 & 1.0 & -2.0 & 1.0 & 0.0 \\\\\n",
       "0.0 & 0.0 & 0.0 & 0.0 & 1.0 & -2.0 & 1.0 \\\\\n",
       "1.0 & 0.0 & 0.0 & 0.0 & 0.0 & 1.0 & -2.0\n",
       "\\end{array}\\right)</script></html>"
      ],
      "text/plain": [
       "[-2.0  1.0  0.0  0.0  0.0  0.0  1.0]\n",
       "[ 1.0 -2.0  1.0  0.0  0.0  0.0  0.0]\n",
       "[ 0.0  1.0 -2.0  1.0  0.0  0.0  0.0]\n",
       "[ 0.0  0.0  1.0 -2.0  1.0  0.0  0.0]\n",
       "[ 0.0  0.0  0.0  1.0 -2.0  1.0  0.0]\n",
       "[ 0.0  0.0  0.0  0.0  1.0 -2.0  1.0]\n",
       "[ 1.0  0.0  0.0  0.0  0.0  1.0 -2.0]"
      ]
     },
     "metadata": {},
     "output_type": "display_data"
    }
   ],
   "source": [
    "N=7\n",
    "L = matrix(RDF,N)\n",
    "for i in range(1,N-1):\n",
    "    L[i,i-1],L[i,i],L[i,i+1] = 1,-2, 1\n",
    "L[0,0],L[0,1],L[0,-1] = -2, 1, 1\n",
    "L[-1,-1],L[-1,-2],L[-1,0] = -2, 1, 1    \n",
    "show(L[:10,:10])"
   ]
  },
  {
   "cell_type": "markdown",
   "metadata": {},
   "source": [
    "<p>Można też skorzystać z definicji i obliczyć przybliżenie pochodnej stosując technikę \"array slicing\". Na przykład używając wydajnych numerycznie tablic numpy mamy:</p>"
   ]
  },
  {
   "cell_type": "code",
   "execution_count": null,
   "metadata": {
    "collapsed": true
   },
   "outputs": [],
   "source": []
  },
  {
   "cell_type": "code",
   "execution_count": 7,
   "metadata": {
    "collapsed": false
   },
   "outputs": [],
   "source": [
    "import numpy as np\n",
    "u = np.random.randint(5,size=10)*1.0\n",
    "a = np.zeros_like(u)\n",
    "b = np.zeros_like(u)\n",
    "c = np.zeros_like(u)\n",
    "d = np.zeros_like(u)\n",
    "a[1:-1]=u[2:]-2.0*u[1:-1]+u[:-2]\n",
    "b[1:-1]=u[2:]\n",
    "c[1:-1]=-2.0*u[1:-1]\n",
    "d[1:-1]=u[:-2]"
   ]
  },
  {
   "cell_type": "code",
   "execution_count": 8,
   "metadata": {
    "collapsed": false
   },
   "outputs": [
    {
     "data": {
      "text/plain": [
       "(array([ 3.,  3.,  4.,  2.,  1.,  0.,  4.,  3.,  4.,  3.]),\n",
       " array([ 0.,  3.,  3.,  4.,  2.,  1.,  0.,  4.,  3.,  0.]),\n",
       " array([ 0.,  4.,  2.,  1.,  0.,  4.,  3.,  4.,  3.,  0.]),\n",
       " array([ 0., -6., -8., -4., -2., -0., -8., -6., -8.,  0.]))"
      ]
     },
     "execution_count": 8,
     "metadata": {},
     "output_type": "execute_result"
    }
   ],
   "source": [
    "u,d,b,c"
   ]
  },
  {
   "cell_type": "markdown",
   "metadata": {},
   "source": [
    "<p>Dalej, będziemy dla wygody stosować skonczony operator liniowy $L$.  Zobaczny jak działa taki operator na dolowlną funkcję wypróbkowaną na równoodległych punktach</p>"
   ]
  },
  {
   "cell_type": "code",
   "execution_count": 9,
   "metadata": {
    "collapsed": false
   },
   "outputs": [
    {
     "data": {
      "text/html": [
       "<html><script type=\"math/tex; mode=display\">\\newcommand{\\Bold}[1]{\\mathbf{#1}}\\left(\\begin{array}{rrrrrrr}\n",
       "-2.0 & 1.0 & 0.0 & 0.0 & 0.0 & 0.0 & 1.0 \\\\\n",
       "1.0 & -2.0 & 1.0 & 0.0 & 0.0 & 0.0 & 0.0 \\\\\n",
       "0.0 & 1.0 & -2.0 & 1.0 & 0.0 & 0.0 & 0.0 \\\\\n",
       "0.0 & 0.0 & 1.0 & -2.0 & 1.0 & 0.0 & 0.0 \\\\\n",
       "0.0 & 0.0 & 0.0 & 1.0 & -2.0 & 1.0 & 0.0 \\\\\n",
       "0.0 & 0.0 & 0.0 & 0.0 & 1.0 & -2.0 & 1.0 \\\\\n",
       "1.0 & 0.0 & 0.0 & 0.0 & 0.0 & 1.0 & -2.0\n",
       "\\end{array}\\right) . \\left(\\begin{array}{r}\n",
       "f_{0} \\\\\n",
       "f_{1} \\\\\n",
       "f_{2} \\\\\n",
       "f_{3} \\\\\n",
       "f_{4} \\\\\n",
       "f_{5} \\\\\n",
       "f_{6}\n",
       "\\end{array}\\right) \\verb|=| \\left(\\begin{array}{r}\n",
       "-2.0 \\, f_{0} + 1.0 \\, f_{1} + 1.0 \\, f_{6} \\\\\n",
       "f_{0} - 2.0 \\, f_{1} + 1.0 \\, f_{2} \\\\\n",
       "f_{1} - 2.0 \\, f_{2} + 1.0 \\, f_{3} \\\\\n",
       "f_{2} - 2.0 \\, f_{3} + 1.0 \\, f_{4} \\\\\n",
       "f_{3} - 2.0 \\, f_{4} + 1.0 \\, f_{5} \\\\\n",
       "f_{4} - 2.0 \\, f_{5} + 1.0 \\, f_{6} \\\\\n",
       "f_{0} + 1.0 \\, f_{5} - 2.0 \\, f_{6}\n",
       "\\end{array}\\right)</script></html>"
      ],
      "text/plain": [
       "[-2.0  1.0  0.0  0.0  0.0  0.0  1.0]\n",
       "[ 1.0 -2.0  1.0  0.0  0.0  0.0  0.0]\n",
       "[ 0.0  1.0 -2.0  1.0  0.0  0.0  0.0]\n",
       "[ 0.0  0.0  1.0 -2.0  1.0  0.0  0.0]\n",
       "[ 0.0  0.0  0.0  1.0 -2.0  1.0  0.0]\n",
       "[ 0.0  0.0  0.0  0.0  1.0 -2.0  1.0]\n",
       "[ 1.0  0.0  0.0  0.0  0.0  1.0 -2.0] '.' [f0]\n",
       "[f1]\n",
       "[f2]\n",
       "[f3]\n",
       "[f4]\n",
       "[f5]\n",
       "[f6] '=' [-2.0*f0 + 1.0*f1 + 1.0*f6]\n",
       "[     f0 - 2.0*f1 + 1.0*f2]\n",
       "[     f1 - 2.0*f2 + 1.0*f3]\n",
       "[     f2 - 2.0*f3 + 1.0*f4]\n",
       "[     f3 - 2.0*f4 + 1.0*f5]\n",
       "[     f4 - 2.0*f5 + 1.0*f6]\n",
       "[     f0 + 1.0*f5 - 2.0*f6]"
      ]
     },
     "metadata": {},
     "output_type": "display_data"
    }
   ],
   "source": [
    "f = vector( [var('f%d'%i) for i in range(N)])\n",
    "show(L,\".\",f.column(), \"=\", (L*f).column() )"
   ]
  },
  {
   "cell_type": "code",
   "execution_count": 10,
   "metadata": {
    "collapsed": false
   },
   "outputs": [],
   "source": [
    "#print  latex(L), latex(f.column()), latex((L*f).column() )\n",
    "#var('dt,D')\n",
    "#f = vector( [var('u_i%d'%i) for i in range(N)])\n",
    "#print latex(identity_matrix(N)),latex(dt*D), latex(L), latex(f.column()), latex((L*f).column() )"
   ]
  },
  {
   "cell_type": "code",
   "execution_count": null,
   "metadata": {
    "collapsed": false
   },
   "outputs": [],
   "source": []
  },
  {
   "cell_type": "markdown",
   "metadata": {},
   "source": [
    "<h2>Numeryczne rozwiązywanie jednowymiarowego równania dyfuzji</h2>\n",
    "<p>Równanie dyfuzji możemy zdyskretyzować w dziedzinie czasowej stosując  jawny lub niejawny schemat Eulera i zastępując Laplace'an jego dyskretnym odpowiednikiem:</p>\n",
    "<p>$$u^{i+1}  = u^i + \\left[ \\frac{D dt}{h^2} \\right] Lu^i.$$</p>\n",
    "<p>Schemat, jak i jego zbieżność zależą od jednej stałej $\\frac{D dt}{h^2}$, zwanej też <a title=\"CFL\" href=\"http://pl.wikipedia.org/wiki/Warunek_Couranta-Friedrichsa-Lewy'ego\" target=\"_blank\">liczbą Couranta</a>, w której tkwią zarówno wielkości fizyczne jak i dyskretyzacja układu. Dalej, zapisując układ iteracji jako:</p>\n",
    "<p>$$u^{i+1}  = \\left( I + L\\frac{D dt}{h^2}  \\right) u^i,$$</p>\n",
    "<p>widzimy, że rozwiązanie jest potęgami $L_t^1,L_t^2,L_t^3,\\dots,L_t^n$ operatora</p>\n",
    "<p>$$L_t= I +  \\frac{D dt}{h^2}  L.$$</p>\n",
    "<p>Schemat niejawny zawiera wartość $u$ w  chwili $i+1$ po prawej stronie:</p>\n",
    "<p>$$u^{i+1}  = u^i + \\left[ \\frac{D dt}{h^2} \\right] Lu^{i+1},$$</p>\n",
    "<p>co przepisując szukaną $u_{i+1}$ na prawą stronę daje nam niejednorodny układ rówń liniowych:</p>\n",
    "<p>$$ \\left( I - \\frac{D dt}{h^2} L \\right) u^{i+1}= u^{i}.$$</p>\n",
    "<p>W przypadku małego $dt$ schematy te są równoważne. Korzystając z twierdzenia o macierzowym szeregu geometrycznym, lub rozwinięcia  w szereg Taylora funkcji  macierzowej (<a href=\"http://en.wikipedia.org/wiki/Matrix_function\">link</a>) mamy:</p>\n",
    "<p>$$ \\left({I -\\epsilon A}\\right)^{-1} = I+\\epsilon A+ \\epsilon^2 A^2 \\dots $$</p>\n",
    "<p>Widzimy, że formalnie rozwiązując układ równań liniowych ze schematu niejawnego, biorąc wyrazy liniowe w $dt$ dostajemy schemat jawny.</p>\n",
    "<p> </p>\n",
    "<p> </p>"
   ]
  },
  {
   "cell_type": "code",
   "execution_count": 11,
   "metadata": {
    "collapsed": false
   },
   "outputs": [
    {
     "name": "stdout",
     "output_type": "stream",
     "text": [
      "(0.0, 0.0, 0.0, 1.0, 0.0, 0.0, 0.0)\n",
      "(0.0, 0.0, 1.0, -2.0, 1.0, 0.0, 0.0)\n"
     ]
    }
   ],
   "source": [
    "u = vector(RDF,[0,0,0,1,0,0,0])\n",
    "print u\n",
    "print L*u"
   ]
  },
  {
   "cell_type": "code",
   "execution_count": null,
   "metadata": {
    "collapsed": false
   },
   "outputs": [],
   "source": []
  },
  {
   "cell_type": "markdown",
   "metadata": {},
   "source": [
    "<h2>Warunki brzegowe.</h2>\n",
    "<p>Dyskretny operator Laplace'a w 1d potrzebuje wartości funkcji z dwóch węzłów sąsiadujących z węzłem w którym obliczamy wartosc laplasjanu. Jeśli punkt ten znajduje się na brzegu obszaru to brakuje informacji by obliczyć poprawny operator. Informację tą trzeba dostarczyc w postaci warunku brzegowego by problem miał jednoznaczne rozwiązanie. Przykładem warunku brzegowego może być:</p>\n",
    "<ol>\n",
    "<li>Warunek Dirichleta: $u(0)=u_0$. Np. wartość koncentracji na brzegu. Jeśli wartość ta jest zero to taka sytuacja jest zwana warunkiem pochłaniającym.</li>\n",
    "<li>Warunek von Neumanna: $J(0) =( \\partial_x u)(0)=J_0$. Np. wielkość strumienia na brzegu. Jeśli dla równania adwekcji-dyfuzji strumień przez ściankę wynosi zero to warunek jest nazywany odbijającym. </li>\n",
    "<li>Okresowy warunek brzegowy: efektywne pozbycie się brzegu przez wprowadzenie innej topologii. Każdy węzeł ma identyczną wartość jak węzeł po drugiej stronie układu, którym jest najczęściej kostka n-wymiarowa. W przypadku odcinka, warunek efektywnie rozwiązuje badanie równanie na okręgu. </li>\n",
    "</ol>"
   ]
  },
  {
   "cell_type": "code",
   "execution_count": null,
   "metadata": {
    "collapsed": false
   },
   "outputs": [],
   "source": []
  },
  {
   "cell_type": "markdown",
   "metadata": {},
   "source": [
    "## Warunki Dirichleta\n",
    "\n",
    "Załóżmy, że nakładamy warunek Dirichleta na końcach przedziału: $u_0=1$ i $u_{N-1}=2$. Oznacza to, że w ewolucji czasonej wektora $u$, wartości na brzegu będą zawsze utrzymywane \"zewnetrznie\" na zadanych wartościach. Biorąc jawny schemat mamy:\n",
    "\n",
    "$$\n",
    "\\left(\\begin{array}{r}\\mathbf{u_0^{i+1}}\\\\u_1^{i+1}\\\\u_2^{i+1}\\\\u_3^{i+1}\\\\\\mathbf{u_4^{i+1}}\\end{array}\\right) =</p>\n",
    "\\underbrace{\n",
    "\\left[    \\left(\\begin{array}{rrrrr}\\mathbf{ 1 }& 0 & 0 & 0 & 0 \\\\ 0 & 1 & 0 & 0 & 0 \\\\ 0 & 0 & 1 & 0 & 0 \\\\ 0 & 0 & 0 & 1 & 0 \\\\ 0 & 0 & 0 & 0 & 1 \\end{array}\\right) +\\frac{dt  D}{h^2}  \\left(\\begin{array}{rrrrr} -2.0 & 1.0 & 0.0 & 0.0 & 0.0 \\\\ 1.0 & -2.0 & 1.0 & 0.0 & 0.0 \\\\ 0.0 & 1.0 & -2.0 & 1.0 & 0.0 \\\\ 0.0 & 0.0 & 1.0 & -2.0 & 1.0 \\\\ 0.0 & 0.0 & 0.0 & 1.0 & -2.0 \\end{array}\\right)\\right]\n",
    "}_{L_t}\\left(\\begin{array}{r}\\mathbf{u_0^i}\\\\u_1^i\\\\u_2^i\\\\u_3^i\\\\\\mathbf{u_4^i}\\end{array}\\right)$$\n",
    "\n",
    "otrzymamy po każdym kroku wartości $u_0^{i+1}$ i $u_4^{i+1}$, które nie będą spełniały dokładnie warunku brzegowego. Należy wieć po każdym kroku wymusić wartości:\n",
    "\n",
    "$$u_0^{i+1}=1 \\quad u_4^{i+1}=2$$ \n",
    "\n",
    "Zauważmy, że wtedy w kolejnym kroku wartościami krańcowymi wektora $u$ będą wielkości zgodne z warunkami i będą dawały poprawny przyczynek do swoich sąsiadów.\n",
    "\n",
    "Warunki Dirichleta, są zwane \"istotnymi warunkami brzegowymi\" (essential boundary conditions). Nie da się tak zmodyfikować dyskretnego operatora $L$ by automatycznie spełniał te warunki i muszą być dołączone dodatkowo w schemacie numerycznym.\n"
   ]
  },
  {
   "cell_type": "code",
   "execution_count": 10,
   "metadata": {
    "collapsed": false
   },
   "outputs": [
    {
     "data": {
      "text/html": [
       "<html><script type=\"math/tex; mode=display\">\\newcommand{\\Bold}[1]{\\mathbf{#1}}\\left(\\begin{array}{rrrrrrr}\n",
       "1.0 & 0.0 & 0.0 & 0.0 & 0.0 & 0.0 & 0.0 \\\\\n",
       "1.0 & -2.0 & 1.0 & 0.0 & 0.0 & 0.0 & 0.0 \\\\\n",
       "0.0 & 1.0 & -2.0 & 1.0 & 0.0 & 0.0 & 0.0 \\\\\n",
       "0.0 & 0.0 & 1.0 & -2.0 & 1.0 & 0.0 & 0.0 \\\\\n",
       "0.0 & 0.0 & 0.0 & 1.0 & -2.0 & 1.0 & 0.0 \\\\\n",
       "0.0 & 0.0 & 0.0 & 0.0 & 1.0 & -2.0 & 1.0 \\\\\n",
       "0.0 & 0.0 & 0.0 & 0.0 & 0.0 & 0.0 & 1.0\n",
       "\\end{array}\\right)</script></html>"
      ],
      "text/plain": [
       "[ 1.0  0.0  0.0  0.0  0.0  0.0  0.0]\n",
       "[ 1.0 -2.0  1.0  0.0  0.0  0.0  0.0]\n",
       "[ 0.0  1.0 -2.0  1.0  0.0  0.0  0.0]\n",
       "[ 0.0  0.0  1.0 -2.0  1.0  0.0  0.0]\n",
       "[ 0.0  0.0  0.0  1.0 -2.0  1.0  0.0]\n",
       "[ 0.0  0.0  0.0  0.0  1.0 -2.0  1.0]\n",
       "[ 0.0  0.0  0.0  0.0  0.0  0.0  1.0]"
      ]
     },
     "metadata": {},
     "output_type": "display_data"
    }
   ],
   "source": [
    "# Dirichlet\n",
    "def init_L(N=7):\n",
    "\n",
    "    L = matrix(RDF,N)\n",
    "    for i in range(1,N-1):\n",
    "        L[i,i-1],L[i,i],L[i,i+1] = 1,-2, 1\n",
    "    L[0,0],L[-1,-1] = 1, 1\n",
    "    return L\n",
    "    \n",
    "def essential_boundary_conditions(u):\n",
    "    u[0] = 1.2\n",
    "    u[-1] = 2.1\n",
    "\n",
    "L = init_L(7)\n",
    "\n",
    "show(L[:10,:10])"
   ]
  },
  {
   "cell_type": "markdown",
   "metadata": {},
   "source": [
    "<h2>Okresowy warunek brzegowy</h2>\n",
    "<p>Okresowy warunek brzegowy w przypadku jednowymiarowym polega na utożsamieniu $u_0=u_{N}$. Obszar na którym rozwiązywane jest równanie jest topologicznie równoważny okręgowi. Okrąg nie posiada brzegu więc problem jest dobrze określony - nie ma gdzie zadawać warunku brzegowego. </p>\n",
    "<p>Warunek ten można zaimplementowac modyfikująć dyskretny operator Laplace'a $L$ tak by:</p>\n",
    "<p>$L_{0,N-1}=1$ i $L_{N-1,0}=1$. Niech $N=5$, mamy:</p>\n",
    "<p>$$  \\left(\\begin{array}{rrrrr} -2.0 & 1.0 & 0.0 & 0.0 & 1.0 \\\\ 1.0 & -2.0 & 1.0 & 0.0 & 0.0 \\\\ 0.0 & 1.0 & -2.0 & 1.0 & 0.0 \\\\ 0.0 & 0.0 & 1.0 & -2.0 & 1.0 \\\\ 1.0 & 0.0 & 0.0 & 1.0 & -2.0 \\end{array}\\right) \\left(\\begin{array}{r} f_{0} \\\\ f_{1} \\\\ f_{2} \\\\ f_{3} \\\\ f_{4} \\end{array}\\right) \\left(\\begin{array}{r} -2.0 \\, f_{0} + f_{1} + f_{4} \\\\ f_{0} - 2.0 \\, f_{1} + f_{2} \\\\ f_{1} - 2.0 \\, f_{2} + f_{3} \\\\ f_{2} - 2.0 \\, f_{3} + f_{4} \\\\ f_{0} + f_{3} - 2.0 \\, f_{4} \\end{array}\\right)   $$</p>\n",
    "<p>Widać, że taki operator oblicza poprawnie Laplacjan dla punktów skrajcym, biarąc za brakujące punkty $u_{-1}$ i  $u_5$, odpowiednio: $u_{4}$ oraz  $u_0$.</p>\n",
    "<p> </p>"
   ]
  },
  {
   "cell_type": "code",
   "execution_count": 11,
   "metadata": {
    "collapsed": false
   },
   "outputs": [
    {
     "data": {
      "text/html": [
       "<html><script type=\"math/tex; mode=display\">\\newcommand{\\Bold}[1]{\\mathbf{#1}}\\left(\\begin{array}{rrrrrrr}\n",
       "-2.0 & 1.0 & 0.0 & 0.0 & 0.0 & 0.0 & 1.0 \\\\\n",
       "1.0 & -2.0 & 1.0 & 0.0 & 0.0 & 0.0 & 0.0 \\\\\n",
       "0.0 & 1.0 & -2.0 & 1.0 & 0.0 & 0.0 & 0.0 \\\\\n",
       "0.0 & 0.0 & 1.0 & -2.0 & 1.0 & 0.0 & 0.0 \\\\\n",
       "0.0 & 0.0 & 0.0 & 1.0 & -2.0 & 1.0 & 0.0 \\\\\n",
       "0.0 & 0.0 & 0.0 & 0.0 & 1.0 & -2.0 & 1.0 \\\\\n",
       "1.0 & 0.0 & 0.0 & 0.0 & 0.0 & 1.0 & -2.0\n",
       "\\end{array}\\right)</script></html>"
      ],
      "text/plain": [
       "[-2.0  1.0  0.0  0.0  0.0  0.0  1.0]\n",
       "[ 1.0 -2.0  1.0  0.0  0.0  0.0  0.0]\n",
       "[ 0.0  1.0 -2.0  1.0  0.0  0.0  0.0]\n",
       "[ 0.0  0.0  1.0 -2.0  1.0  0.0  0.0]\n",
       "[ 0.0  0.0  0.0  1.0 -2.0  1.0  0.0]\n",
       "[ 0.0  0.0  0.0  0.0  1.0 -2.0  1.0]\n",
       "[ 1.0  0.0  0.0  0.0  0.0  1.0 -2.0]"
      ]
     },
     "metadata": {},
     "output_type": "display_data"
    }
   ],
   "source": [
    "# PBC\n",
    "def init_L_pbc(N=7):\n",
    "    L = matrix(RDF,N)\n",
    "    for i in range(1,N-1):\n",
    "        L[i,i-1],L[i,i],L[i,i+1] = 1,-2, 1\n",
    "    L[0,0],L[0,1],L[0,-1] = -2, 1, 1\n",
    "    L[-1,-1],L[-1,-2],L[-1,0] = -2, 1, 1    \n",
    "    return L    \n",
    "def essential_boundary_conditions(u):\n",
    "    pass\n",
    "\n",
    "L  = init_L_pbc(7)\n",
    "show(L[:10,:10])"
   ]
  },
  {
   "cell_type": "code",
   "execution_count": 12,
   "metadata": {
    "collapsed": false
   },
   "outputs": [
    {
     "data": {
      "text/plain": [
       "7"
      ]
     },
     "execution_count": 12,
     "metadata": {},
     "output_type": "execute_result"
    }
   ],
   "source": [
    "L.rank()"
   ]
  },
  {
   "cell_type": "code",
   "execution_count": null,
   "metadata": {
    "collapsed": false
   },
   "outputs": [],
   "source": []
  },
  {
   "cell_type": "markdown",
   "metadata": {},
   "source": [
    "<h2>Warunek von Neumanna</h2>\n",
    "<p>W przypadku ogólnym, rozważmy  równania dające się zapisać w postaci prawa zachowania:</p>\n",
    "<p>$$\\frac{\\partial u}{\\partial t} = -  \\nabla \\cdot \\vec J,$$</p>\n",
    "<p>gdzie $J$ to strumień pola $u$. Równanie dyfuzji można przedstawić z tej postaci przy założeniu że:</p>\n",
    "<p>$$\\vec J = - \\vec\\nabla u$$</p>\n",
    "<p>Jeśli równanie zawiera człon adwekcyjny (tzn proporcjonalny do pierwszej pochodnej) to strumień będzie zawierał dodatkowe człony.</p>\n",
    "<p>Widać, że przypadku jednowymiarowego równania dyfizji warunek von Neumanna jest efektywnie  warunkiem na pochodną funkcji na brzegu:</p>\n",
    "<p>$$\\frac{u_1-u_0}{h}=-J$$</p>\n",
    "<p>Przypadkiem szczególnym warunku Neumanna jest bariera odbijająca, w której zakładamy że strumień cząstek opisywanych gęstością lub stężeniem $u$ przez barierę wynosi zero. W takim przypadku można napisać operator Laplace'a, który będzie konsystentny z tym warunkiem:</p>\n",
    "\n",
    "$$\\left(\\begin{array}{rrrrr} -1.0 & 1.0 & 0.0 & 0.0 & 0.0 \\\\ 1.0 & -2.0 & 1.0 & 0.0 & 0.0 \\\\ 0.0 & 1.0 & -2.0 & 1.0 & 0.0 \\\\ 0.0 & 0.0 & 1.0 & -2.0 & 1.0 \\\\ 0.0 & 0.0 & 0.0 & 1.0 & -1.0 \\end{array}\\right) \\left(\\begin{array}{r} f_{0} \\\\ f_{1} \\\\ f_{2} \\\\ f_{3} \\\\ f_{4} \\end{array}\\right)= \\left(\\begin{array}{r} -f_{0} + f_{1} \\\\ f_{0} - 2.0 \\, f_{1} + f_{2} \\\\ f_{1} - 2.0 \\, f_{2} + f_{3} \\\\ f_{2} - 2.0 \\, f_{3} + f_{4} \\\\ f_{3} - f_{4} \\end{array}\\right) $$\n",
    "\n",
    "Widać, że taki operator, zamiast drugiej pochodnej w punktach skrajnych oblicza pierwszą pochodną. Intuicyjnie,  działanie operatora ewolucji  na dowolny wektor będzie poprawiało wartość w pierwszym i ostatnim węźle tak długo aż pierwsze pochodne będą zero.\n",
    "\n",
    "Warto odnotować, że taki operator ma rząd o jednej mniejszy od wymiaru. Wynika z tego, że rozwiązanie zerowe spełnia takie równanie. Rzeczywiście: równanie dyfuzji na obszarze z odbijającymi scianami jest spełnione jeśli w układzie nie ma cząstek! Ponadto widać, że jesli rozwiązanie jest określone co do wartości stałej multyplikatywnej.\n"
   ]
  },
  {
   "cell_type": "code",
   "execution_count": 13,
   "metadata": {
    "collapsed": false
   },
   "outputs": [
    {
     "data": {
      "text/html": [
       "<html><script type=\"math/tex; mode=display\">\\newcommand{\\Bold}[1]{\\mathbf{#1}}\\left(\\begin{array}{rrrrrrr}\n",
       "-1.0 & 1.0 & 0.0 & 0.0 & 0.0 & 0.0 & 0.0 \\\\\n",
       "1.0 & -2.0 & 1.0 & 0.0 & 0.0 & 0.0 & 0.0 \\\\\n",
       "0.0 & 1.0 & -2.0 & 1.0 & 0.0 & 0.0 & 0.0 \\\\\n",
       "0.0 & 0.0 & 1.0 & -2.0 & 1.0 & 0.0 & 0.0 \\\\\n",
       "0.0 & 0.0 & 0.0 & 1.0 & -2.0 & 1.0 & 0.0 \\\\\n",
       "0.0 & 0.0 & 0.0 & 0.0 & 1.0 & -2.0 & 1.0 \\\\\n",
       "0.0 & 0.0 & 0.0 & 0.0 & 0.0 & 1.0 & -1.0\n",
       "\\end{array}\\right)</script></html>"
      ],
      "text/plain": [
       "[-1.0  1.0  0.0  0.0  0.0  0.0  0.0]\n",
       "[ 1.0 -2.0  1.0  0.0  0.0  0.0  0.0]\n",
       "[ 0.0  1.0 -2.0  1.0  0.0  0.0  0.0]\n",
       "[ 0.0  0.0  1.0 -2.0  1.0  0.0  0.0]\n",
       "[ 0.0  0.0  0.0  1.0 -2.0  1.0  0.0]\n",
       "[ 0.0  0.0  0.0  0.0  1.0 -2.0  1.0]\n",
       "[ 0.0  0.0  0.0  0.0  0.0  1.0 -1.0]"
      ]
     },
     "metadata": {},
     "output_type": "display_data"
    }
   ],
   "source": [
    "# von Neumann/reflecting BC\n",
    "def init_L_ref(N=7):\n",
    "    L = matrix(RDF,N)\n",
    "    for i in range(1,N-1):\n",
    "        L[i,i-1],L[i,i],L[i,i+1] = 1,-2, 1\n",
    "    L[0,0],L[0,1] = -1, 1\n",
    "    L[-1,-1],L[-1,-2] = -1, 1\n",
    "    return L\n",
    "    \n",
    "def essential_boundary_conditions(u):\n",
    "    pass\n",
    "\n",
    "L = init_L_ref(7)\n",
    "\n",
    "show(L[:10,:10])"
   ]
  },
  {
   "cell_type": "code",
   "execution_count": 14,
   "metadata": {
    "collapsed": false
   },
   "outputs": [
    {
     "data": {
      "text/plain": [
       "6"
      ]
     },
     "execution_count": 14,
     "metadata": {},
     "output_type": "execute_result"
    }
   ],
   "source": [
    "L.rank()"
   ]
  },
  {
   "cell_type": "code",
   "execution_count": null,
   "metadata": {
    "collapsed": false
   },
   "outputs": [],
   "source": []
  },
  {
   "cell_type": "code",
   "execution_count": 15,
   "metadata": {
    "collapsed": false
   },
   "outputs": [
    {
     "data": {
      "text/html": [
       "<html><script type=\"math/tex; mode=display\">\\newcommand{\\Bold}[1]{\\mathbf{#1}}\\left[-0.521, -0.299, 0.0220, 0.378, 0.699, 0.921, 1.00\\right]</script></html>"
      ],
      "text/plain": [
       "[-0.521, -0.299, 0.0220, 0.378, 0.699, 0.921, 1.00]"
      ]
     },
     "metadata": {},
     "output_type": "display_data"
    }
   ],
   "source": [
    "Lt=identity_matrix(N)+0.40*L\n",
    "eig = list(Lt.eigenvalues())\n",
    "eig_s = sorted(map(lambda x:x.n(digits=3),map(real,eig)))\n",
    "show(eig_s)"
   ]
  },
  {
   "cell_type": "markdown",
   "metadata": {},
   "source": [
    "<h2>Stabilność i własności operatora $L_t$</h2>\n",
    "<p> </p>\n",
    "<p>Sprawdźmy wartości własne operatora $L_t=I+\\frac{D dt}{h^2}L$, dla różnych wartości stałej $C=\\frac{D dt}{h^2}$. Zacznijmy od małej wartości np: $C=0.2$. Dla $N=5$ i operatora z okresowymi warunkami brzegowymi otrzymujemy:</p>\n",
    "<p>$$\\left[0.240, 0.240, 0.511, 0.511, 0.849, 0.849, 1.00\\right].$$</p>\n",
    "<p>Widać, że wartości własne są rzeczywiste, dodatnie, mniejsze od jednego z wyjątkiem jednej. Ewolucja czasowa układu jest dana przez potęgi operatora $L_t$: $$L_t^1,L_t^2,L_t^3,\\dots,L_t^n.$$ Oznacza to, że kolejne iteracje będą wygaszać składowe wektora wzdłuż wszystkich wektorów własnych, z wyjątkiem tego należącego do wartości jeden, która to będzie stanem stacjonarnym.</p>\n",
    "<p>Niech $C=0.4$, otrzymujemy wtedy:</p>\n",
    "<p>$$\\left[-0.521, -0.521, 0.0220, 0.0220, 0.699, 0.699, 1.00\\right]$$</p>\n",
    "<p> Pojawiają  się ujemne wartości własnych, co oznacza oscylacje pomiędzy dodatnimi i ujemnymi wartościami np. stężenia w czasie. Nie jest to efekt fizyczny i jawny algorytm Eulera dla równaia dyfuzji dla $C=0.4$ jest robieżny.</p>\n",
    "<p>Warto odnotować, że stała od której zależy stabilnośc zawiera w liczniku  krok czasowu a w mianowniku kwadrat kroku przestrzennego. Oznacza to, że zmniejszając dyskretyzacje przestrzeni musimy jednocześnie używać mniejszego kroku czasowego, by schemat był stabilny.   </p>"
   ]
  },
  {
   "cell_type": "code",
   "execution_count": 16,
   "metadata": {
    "collapsed": false
   },
   "outputs": [
    {
     "name": "stdout",
     "output_type": "stream",
     "text": [
      "[0.962, 0.962, 0.976, 0.976, 0.992, 0.992] ... 1.00\n",
      "[0.582, 0.582, 0.731, 0.731, 0.917, 0.917] ... 1.00\n",
      "[0.202, 0.202, 0.487, 0.487, 0.842, 0.842] ... 1.00\n",
      "[-0.179, -0.179, 0.242, 0.242, 0.767, 0.767] ... 1.00\n",
      "[-0.559, -0.559, -0.00247, -0.00247, 0.691, 0.691] ... 1.00\n",
      "[-0.939, -0.939, -0.247, -0.247, 0.616, 0.616] ... 1.00\n",
      "[-1.32, -1.32, -0.491, -0.491, 0.541, 0.541] ... 1.00\n",
      "[-1.70, -1.70, -0.736, -0.736, 0.465, 0.465] ... 1.00\n",
      "[-2.08, -2.08, -0.980, -0.980, 0.390, 0.390] ... 1.00\n",
      "[-2.46, -2.46, -1.22, -1.22, 0.315, 0.315] ... 1.00\n"
     ]
    }
   ],
   "source": [
    "N=7\n",
    "L = matrix(RDF,N)\n",
    "for i in range(1,N-1):\n",
    "    L[i,i-1],L[i,i],L[i,i+1] = 1,-2, 1\n",
    "L[0,0],L[0,1],L[0,-1] = -2, 1, 1\n",
    "L[-1,-1],L[-1,-2],L[-1,0] = -2, 1, 1    \n",
    "\n",
    "def eig(C=0.01):\n",
    "    \n",
    "    Lt=matrix(RDF,identity_matrix(N)+C*L)\n",
    "    eig = list(Lt.eigenvalues())\n",
    "    l = sorted(map(lambda x:x.n(digits=3),map(real,eig)))\n",
    "    \n",
    "    print l[0:6],\"...\",l[-1]\n",
    "\n",
    "for C in srange(0.01,1,0.1):\n",
    "    eig(C)"
   ]
  },
  {
   "cell_type": "code",
   "execution_count": null,
   "metadata": {
    "collapsed": false
   },
   "outputs": [],
   "source": []
  },
  {
   "cell_type": "markdown",
   "metadata": {},
   "source": [
    "<p>Mając juz wszystkie składniki można napisać algorytm który będzie rozwiązywał numerycznie równanie dyfuzji przy zadanych warunkach brzegowych i początkowych.</p>"
   ]
  },
  {
   "cell_type": "code",
   "execution_count": null,
   "metadata": {
    "collapsed": false
   },
   "outputs": [],
   "source": []
  },
  {
   "cell_type": "code",
   "execution_count": 17,
   "metadata": {
    "collapsed": false
   },
   "outputs": [
    {
     "data": {
      "text/plain": [
       "(7, 7)"
      ]
     },
     "execution_count": 17,
     "metadata": {},
     "output_type": "execute_result"
    }
   ],
   "source": [
    "L.ncols(),L.rank()"
   ]
  },
  {
   "cell_type": "code",
   "execution_count": null,
   "metadata": {
    "collapsed": false
   },
   "outputs": [],
   "source": []
  },
  {
   "cell_type": "code",
   "execution_count": 18,
   "metadata": {
    "collapsed": false
   },
   "outputs": [],
   "source": [
    "L = init_L_ref(45)\n",
    "def essential_boundary_conditions(u):\n",
    "    pass\n",
    "    \n",
    "Tlst=[]\n",
    "\n",
    "Lt=matrix(RDF,identity_matrix(L.ncols())+0.2*L)\n",
    "u = zero_vector(RDF,L.ncols())\n",
    "u[ int(L.ncols()/2) ] = 1.0\n",
    "\n",
    "essential_boundary_conditions(u)\n",
    "\n",
    "for i in range(150):\n",
    "    Tlst.append(u)\n",
    "    u = Lt*u # schemat jawny\n",
    "    essential_boundary_conditions(u)"
   ]
  },
  {
   "cell_type": "markdown",
   "metadata": {},
   "source": [
    "    @interact\n",
    "    def _(ti=slider(range(len(Tlst)))):\n",
    "        p =list_plot(Tlst[ti],plotjoined=True)\n",
    "        p += list_plot(Tlst[-1],plotjoined=True,color='gray',ymin=-0.2,ymax=1.0)\n",
    "        p += list_plot(Tlst[0],plotjoined=True,color='gray')\n",
    "        p.show(figsize=(9,3))"
   ]
  },
  {
   "cell_type": "code",
   "execution_count": 19,
   "metadata": {
    "collapsed": false
   },
   "outputs": [
    {
     "data": {
      "image/png": "[encoded data removed]",
      "text/plain": [
       "Graphics object consisting of 3 graphics primitives"
      ]
     },
     "metadata": {},
     "output_type": "display_data"
    }
   ],
   "source": [
    "\n",
    "def vis(ti=1):\n",
    "    p =list_plot(Tlst[ti],plotjoined=True)\n",
    "    p += list_plot(Tlst[-1],plotjoined=True,color='gray',ymin=-0.2,ymax=1.0)\n",
    "    p += list_plot(Tlst[0],plotjoined=True,color='gray')\n",
    "    p.show(figsize=(9,3))\n",
    "vis(6)"
   ]
  },
  {
   "cell_type": "markdown",
   "metadata": {},
   "source": [
    "<p>Warunek unormowania:</p>"
   ]
  },
  {
   "cell_type": "code",
   "execution_count": 20,
   "metadata": {
    "collapsed": false,
    "scrolled": false
   },
   "outputs": [
    {
     "data": {
      "text/plain": [
       "[1.0,\n",
       " 1.0,\n",
       " 0.9999999999999998,\n",
       " 1.0,\n",
       " 1.0,\n",
       " 1.0000000000000002,\n",
       " 1.0000000000000002,\n",
       " 1.0000000000000002,\n",
       " 1.0000000000000002,\n",
       " 1.0000000000000002,\n",
       " 1.0000000000000002,\n",
       " 1.0000000000000002,\n",
       " 1.0,\n",
       " 1.0000000000000002,\n",
       " 1.0000000000000002]"
      ]
     },
     "execution_count": 20,
     "metadata": {},
     "output_type": "execute_result"
    }
   ],
   "source": [
    "[sum(T_) for T_ in Tlst[::10]]"
   ]
  },
  {
   "cell_type": "markdown",
   "metadata": {},
   "source": [
    "<h2>Numeryczne rozwiązanie równanie dyfuzji - porównanie z rozwiązaniem dokładnym.</h2>\n",
    "<p>Rozważmy równanie:</p>\n",
    "<p>$$ \\frac{\\partial u}{\\partial t}= D \\frac{\\partial^2u}{\\partial x^2}$$</p>\n",
    "<p>na odcinku $(0,l)$ z odbijającymi warunkami brzegowymi. W tym celu stosujemy jawny schemat Eulera. Krok przestrzenny $h$ jest równy:</p>\n",
    "<p>$$h  = \\frac{l^2}{(N-1)^2}.$$</p>\n",
    "<p>Wobec tego mamy następujący infinitezymalny operator ewolucji</p>\n",
    "<p>$$L_t= I +  dt\\frac{D  (N-1)^2}{l^2}  L u^i,$$</p>\n",
    "<p>przy czym maksymalny krok czasowy zależy od parametrów układu i jest ograniczony przez:</p>\n",
    "<p>$$dt_{max}<0.25 \\frac{l^2}{(N-1)^2 D}. $$</p>\n",
    "<p> </p>"
   ]
  },
  {
   "cell_type": "code",
   "execution_count": 21,
   "metadata": {
    "collapsed": false
   },
   "outputs": [
    {
     "name": "stdout",
     "output_type": "stream",
     "text": [
      "0.100000000000000 0.342935528120713 1.85185185185185\n"
     ]
    }
   ],
   "source": [
    "N = 55\n",
    "Dyf = 1.0\n",
    "l = 100.\n",
    "dx = l/(N-1)\n",
    "\n",
    "dt_max = 0.2*dx^2/Dyf\n",
    "dt = dt_max/2.0\n",
    "C = dt*Dyf/dx^2\n",
    "\n",
    "Nsteps = 1200\n",
    "\n",
    "print C,dt,dx"
   ]
  },
  {
   "cell_type": "code",
   "execution_count": 22,
   "metadata": {
    "collapsed": false
   },
   "outputs": [
    {
     "name": "stdout",
     "output_type": "stream",
     "text": [
      "Czas dyfuzyjny: 29160.0000000000\n"
     ]
    }
   ],
   "source": [
    "print \"Czas dyfuzyjny:\",l^2/Dyf/dt"
   ]
  },
  {
   "cell_type": "code",
   "execution_count": 23,
   "metadata": {
    "collapsed": false
   },
   "outputs": [],
   "source": [
    "Nsteps = int(l^2/Dyf/dt)"
   ]
  },
  {
   "cell_type": "code",
   "execution_count": 24,
   "metadata": {
    "collapsed": false
   },
   "outputs": [],
   "source": [
    "L = init_L_ref(N)\n",
    "def essential_boundary_conditions(u):\n",
    "    pass\n",
    "    \n",
    "Tlst=[]\n",
    "\n",
    "\n",
    "Lt=matrix(RDF,identity_matrix(L.ncols())+C*L)\n",
    "u = zero_vector(RDF,L.ncols())\n",
    "u[ int(L.ncols()/5) ] = 1.0/dx\n",
    "\n",
    "essential_boundary_conditions(u)\n",
    "\n",
    "for i in range(Nsteps):\n",
    "    Tlst.append(u)\n",
    "    u = Lt*u # schemat jawny\n",
    "    essential_boundary_conditions(u)\n",
    "# @interact\n",
    "# def vis(ti=slider(range(len(Tlst)))):\n",
    "def vis(ti=0):\n",
    "\n",
    "    p =  list_plot(Tlst[ti],plotjoined=True)\n",
    "    p += list_plot(Tlst[-1],plotjoined=True,color='gray',ymin=-0.2,ymax=0.5)\n",
    "    p += list_plot(Tlst[0],plotjoined=True,color='gray')\n",
    "    p.show(figsize=(9,3))"
   ]
  },
  {
   "cell_type": "code",
   "execution_count": 25,
   "metadata": {
    "collapsed": false
   },
   "outputs": [
    {
     "data": {
      "image/png": "[encoded data removed]",
      "text/plain": [
       "Graphics object consisting of 3 graphics primitives"
      ]
     },
     "metadata": {},
     "output_type": "display_data"
    }
   ],
   "source": [
    "vis(111)"
   ]
  },
  {
   "cell_type": "code",
   "execution_count": 26,
   "metadata": {
    "collapsed": false
   },
   "outputs": [
    {
     "name": "stdout",
     "output_type": "stream",
     "text": [
      "Unormowanie wzoru analitycznego: 1.0\n"
     ]
    }
   ],
   "source": [
    "c(x,t)=1/sqrt(4*pi*Dyf*t)*exp(-(x^2)/(4*Dyf*t) )\n",
    "\n",
    "print \"Unormowanie wzoru analitycznego:\",integrate(c(x,0.23),(x,-oo,oo))\n",
    "\n",
    "T = [i*dt for i in range(150)] \n",
    "X = [ (-l/5. + i*dx).n() for i in range(N)]\n",
    "\n",
    "#@interact\n",
    "#def _(ti=slider(range(1,len(Tlst)))):\n",
    "def vis(ti=0):\n",
    " \n",
    "    print \"t=\",dt*ti,\"Norma=\",sum(Tlst[ti])*(l/(N-1))\n",
    "    plt = point(zip(X,Tlst[ti]),figsize=(7,3),color='red') \n",
    "    plt +=  plot(c(x,dt*ti),(x,-l/2,l/2))\n",
    "    plt.show(figsize=(8,3))"
   ]
  },
  {
   "cell_type": "code",
   "execution_count": 27,
   "metadata": {
    "collapsed": false
   },
   "outputs": [
    {
     "name": "stdout",
     "output_type": "stream",
     "text": [
      "t= 11.6598079561043 Norma= 1.0\n"
     ]
    },
    {
     "data": {
      "image/png": "[encoded data removed]",
      "text/plain": [
       "Graphics object consisting of 2 graphics primitives"
      ]
     },
     "metadata": {},
     "output_type": "display_data"
    }
   ],
   "source": [
    "vis(34)"
   ]
  },
  {
   "cell_type": "code",
   "execution_count": null,
   "metadata": {
    "collapsed": false
   },
   "outputs": [],
   "source": []
  },
  {
   "cell_type": "markdown",
   "metadata": {},
   "source": [
    "## Układ reakcji-dyfuzji: Model Fishera Kołogomorowa\n",
    "\n",
    "Uwaga - wymaga wyjaśnienia uprzedniego operacji typu `np.diff.`\n"
   ]
  },
  {
   "cell_type": "code",
   "execution_count": 28,
   "metadata": {
    "collapsed": false
   },
   "outputs": [],
   "source": [
    "import numpy as np \n",
    "from scipy.sparse import dia_matrix"
   ]
  },
  {
   "cell_type": "code",
   "execution_count": 29,
   "metadata": {
    "collapsed": false
   },
   "outputs": [
    {
     "name": "stdout",
     "output_type": "stream",
     "text": [
      "sps= 119 dt= 0.00838696150062096 Nsteps= 11900\n",
      "Saved  100  from  11900\n",
      "CPU times: user 1.54 s, sys: 4 ms, total: 1.54 s\n",
      "Wall time: 1.54 s\n"
     ]
    }
   ],
   "source": [
    "%%time\n",
    "sparse = True\n",
    "slicing = False\n",
    "\n",
    "Dyf = 1.0\n",
    "r = 1.0\n",
    "l = 100.0 # dlugosc ukladu\n",
    "t_end = 100 # czas symulacje\n",
    "\n",
    "N = 250 # dyskretyzacja przestrzeni\n",
    "h = l/(N-1) \n",
    "dt = 0.052/(Dyf*(N-1)**2/l**2) # 0.2 z warunku CFL, krok nie moze byc wiekszy\n",
    "\n",
    "sps = int(1/dt) # liczba krokow na jednostke czasu\n",
    "Nsteps=sps*t_end  # calkowita liczba krotkow \n",
    "\n",
    "print \"sps=\",sps,\"dt=\",dt,'Nsteps=',Nsteps\n",
    "\n",
    "if sparse:\n",
    "    L = dia_matrix( (np.array([N*[-2.],N*[1.],N*[1.]]),np.array([0,-1,1])), shape=(N,N))\n",
    "if slicing:\n",
    "    one = np.identity(N)\n",
    "    L=np.roll(one,-1)+np.roll(one,1)-2*one\n",
    "    L[0,0]=1.\n",
    "    L[-1,-1]=1.\n",
    "\n",
    "\n",
    "\n",
    "\n",
    "# warunek poczatkowy\n",
    "u = np.zeros(N)\n",
    "#u[int(N/2)-20:int(N/2)+20]=1 # step\n",
    "\n",
    "\n",
    "#for i in range(1,3):\n",
    "#    u[i] = 1.0 - i/3.0\n",
    "u[:int(N/2)]=1\n",
    "\n",
    "def essential_boundary_conditions(u):\n",
    "    u[0] = 1.0\n",
    "    u[-1] = 0.0\n",
    "\n",
    "Tlst=[]\n",
    "essential_boundary_conditions(u)\n",
    "\n",
    "for i in range(Nsteps):\n",
    "    if not i%sps:\n",
    "        Tlst.append(list(u))\n",
    "    if slicing:\n",
    "        u[1:-1] = u[1:-1] + dt*(r*u[1:-1]*(1-u[1:-1]) + Dyf*(N-1)**2/l**2*np.diff(u,2))\n",
    "    else:    \n",
    "        u = u + dt*(r*u*(1-u)  + Dyf*(N-1)**2/l**2*L.dot(u))\n",
    "    \n",
    "    essential_boundary_conditions(u)\n",
    "print \"Saved \",len(Tlst), \" from \", Nsteps"
   ]
  },
  {
   "cell_type": "code",
   "execution_count": 30,
   "metadata": {
    "collapsed": false
   },
   "outputs": [
    {
     "data": {
      "image/png": "[encoded data removed]",
      "text/plain": [
       "Graphics object consisting of 1 graphics primitive"
      ]
     },
     "execution_count": 30,
     "metadata": {},
     "output_type": "execute_result"
    }
   ],
   "source": [
    "pos_lst = []\n",
    "for T_ in Tlst:\n",
    "    for (i,a),b in zip(enumerate(T_),T_[1:]):\n",
    "        if a>=0.5 and b<=0.5:\n",
    "            pos_lst.append( i+(a-0.5)/(a-b) ) \n",
    "        \n",
    "list_plot( [l/(N-1)*(b-a)/(sps*dt) for a,b in zip(pos_lst,pos_lst[1:])] , figsize=(7,3),gridlines=[[],[2]],ymax=2)"
   ]
  },
  {
   "cell_type": "code",
   "execution_count": 31,
   "metadata": {
    "collapsed": false
   },
   "outputs": [],
   "source": [
    "#@interact\n",
    "#def vis(ti=slider(range(len(Tlst)))):\n",
    "def vis(ti=0):\n",
    "    print r\"t=\",dt*ti\n",
    "    p =  list_plot(Tlst[ti],plotjoined=True)\n",
    "    p += list_plot(Tlst[-1],plotjoined=True,color='red',ymin=0,ymax=1.5)\n",
    "    p += list_plot(Tlst[0],plotjoined=True,color='gray')\n",
    "    p.show(figsize=(8,3))"
   ]
  },
  {
   "cell_type": "code",
   "execution_count": 34,
   "metadata": {
    "collapsed": false
   },
   "outputs": [
    {
     "name": "stdout",
     "output_type": "stream",
     "text": [
      "t= 0.000000000000000\n"
     ]
    },
    {
     "data": {
      "image/png": "[encoded data removed]",
      "text/plain": [
       "Graphics object consisting of 3 graphics primitives"
      ]
     },
     "metadata": {},
     "output_type": "display_data"
    },
    {
     "name": "stdout",
     "output_type": "stream",
     "text": [
      "t= 0.0838696150062096\n"
     ]
    },
    {
     "data": {
      "image/png": "[encoded data removed]",
      "text/plain": [
       "Graphics object consisting of 3 graphics primitives"
      ]
     },
     "metadata": {},
     "output_type": "display_data"
    },
    {
     "name": "stdout",
     "output_type": "stream",
     "text": [
      "t= 0.167739230012419\n"
     ]
    },
    {
     "data": {
      "image/png": "[encoded data removed]",
      "text/plain": [
       "Graphics object consisting of 3 graphics primitives"
      ]
     },
     "metadata": {},
     "output_type": "display_data"
    },
    {
     "name": "stdout",
     "output_type": "stream",
     "text": [
      "t= 0.251608845018629\n"
     ]
    },
    {
     "data": {
      "image/png": "[encoded data removed]",
      "text/plain": [
       "Graphics object consisting of 3 graphics primitives"
      ]
     },
     "metadata": {},
     "output_type": "display_data"
    },
    {
     "name": "stdout",
     "output_type": "stream",
     "text": [
      "t= 0.335478460024838\n"
     ]
    },
    {
     "data": {
      "image/png": "[encoded data removed]",
      "text/plain": [
       "Graphics object consisting of 3 graphics primitives"
      ]
     },
     "metadata": {},
     "output_type": "display_data"
    }
   ],
   "source": [
    "for ith in range(0,len(Tlst)//2,10):\n",
    "    vis(ith)"
   ]
  },
  {
   "cell_type": "markdown",
   "metadata": {},
   "source": [
    "## Przypadek dwuwymiarowy\n"
   ]
  },
  {
   "cell_type": "code",
   "execution_count": 35,
   "metadata": {
    "collapsed": false
   },
   "outputs": [
    {
     "name": "stdout",
     "output_type": "stream",
     "text": [
      "sps= 18 dt= 0.0530558106315682 Nsteps= 1800\n",
      "Saved  100  from  1800\n",
      "CPU times: user 644 ms, sys: 0 ns, total: 644 ms\n",
      "Wall time: 644 ms\n"
     ]
    }
   ],
   "source": [
    "%%time\n",
    "\n",
    "Dyf = 1.0\n",
    "r = 1.0\n",
    "l = 100.0 # dlugosc ukladu\n",
    "t_end = 100 # czas symulacje\n",
    "\n",
    "N = 100 # dyskretyzacja przestrzeni\n",
    "h = l/(N-1) \n",
    "dt = 0.052/(Dyf*(N-1)**2/l**2) # 0.2 z warunku CFL, krok nie moze byc wiekszy\n",
    "\n",
    "sps = int(1/dt) # liczba krokow na jednostke czasu\n",
    "Nsteps=sps*t_end  # calkowita liczba krotkow \n",
    "\n",
    "print \"sps=\",sps,\"dt=\",dt,'Nsteps=',Nsteps\n",
    "\n",
    "# warunek poczatkowy\n",
    "u = np.zeros((N,N))\n",
    "\n",
    "#u[int(N/2)-5:int(N/2)+5,int(N/2)-5:int(N/2)+5]=1 # step\n",
    "\n",
    "#u[:int(N/2)+5,:]=1.0 # step\n",
    "u[int(N/2),int(N/2)]=1.0\n",
    "\n",
    "\n",
    "def essential_boundary_conditions(u):\n",
    "    u[:,0] = 0.0\n",
    "    u[:,-1] = 0.0\n",
    "    u[-1,:] = 0.0\n",
    "    u[0,:] = 0.0\n",
    "\n",
    "Tlst=[]\n",
    "essential_boundary_conditions(u)\n",
    "\n",
    "for i in range(Nsteps):\n",
    "    if not i%sps:\n",
    "        Tlst.append(u.copy())\n",
    "    \n",
    "    u[1:-1,1:-1] = u[1:-1,1:-1] + dt*(r*u[1:-1,1:-1]*(1-u[1:-1,1:-1]) + \\\n",
    "     Dyf*(N-1)**2/l**2*(np.diff(u,2,axis=0)[:,1:-1]+np.diff(u,2,axis=1)[1:-1,:]))\n",
    "    \n",
    "    essential_boundary_conditions(u)\n",
    "\n",
    "print \"Saved \",len(Tlst), \" from \", Nsteps"
   ]
  },
  {
   "cell_type": "code",
   "execution_count": 36,
   "metadata": {
    "collapsed": false
   },
   "outputs": [],
   "source": [
    "import pylab\n",
    "\n",
    "#@interact\n",
    "def vis(ti=0):\n",
    "    print r\"t=\",dt*ti\n",
    "    if False: \n",
    "        pylab.clf()   \n",
    "        pylab.imshow(Tlst[ti],origin='top')\n",
    "        pylab.savefig('1.png',dpi=70)\n",
    "    else:\n",
    "        p =  matrix_plot(Tlst[ti])\n",
    "        p.show(figsize=(4,4))"
   ]
  },
  {
   "cell_type": "code",
   "execution_count": 37,
   "metadata": {
    "collapsed": false
   },
   "outputs": [
    {
     "name": "stdout",
     "output_type": "stream",
     "text": [
      "t= 0.000000000000000\n"
     ]
    },
    {
     "data": {
      "image/png": "[encoded data removed]",
      "text/plain": [
       "Graphics object consisting of 1 graphics primitive"
      ]
     },
     "metadata": {},
     "output_type": "display_data"
    },
    {
     "name": "stdout",
     "output_type": "stream",
     "text": [
      "t= 0.530558106315682\n"
     ]
    },
    {
     "data": {
      "image/png": "[encoded data removed]",
      "text/plain": [
       "Graphics object consisting of 1 graphics primitive"
      ]
     },
     "metadata": {},
     "output_type": "display_data"
    },
    {
     "name": "stdout",
     "output_type": "stream",
     "text": [
      "t= 1.06111621263136\n"
     ]
    },
    {
     "data": {
      "image/png": "[encoded data removed]",
      "text/plain": [
       "Graphics object consisting of 1 graphics primitive"
      ]
     },
     "metadata": {},
     "output_type": "display_data"
    },
    {
     "name": "stdout",
     "output_type": "stream",
     "text": [
      "t= 1.59167431894705\n"
     ]
    },
    {
     "data": {
      "image/png": "[encoded data removed]",
      "text/plain": [
       "Graphics object consisting of 1 graphics primitive"
      ]
     },
     "metadata": {},
     "output_type": "display_data"
    },
    {
     "name": "stdout",
     "output_type": "stream",
     "text": [
      "t= 2.12223242526273\n"
     ]
    },
    {
     "data": {
      "image/png": "[encoded data removed]",
      "text/plain": [
       "Graphics object consisting of 1 graphics primitive"
      ]
     },
     "metadata": {},
     "output_type": "display_data"
    },
    {
     "name": "stdout",
     "output_type": "stream",
     "text": [
      "t= 2.65279053157841\n"
     ]
    },
    {
     "data": {
      "image/png": "[encoded data removed]",
      "text/plain": [
       "Graphics object consisting of 1 graphics primitive"
      ]
     },
     "metadata": {},
     "output_type": "display_data"
    },
    {
     "name": "stdout",
     "output_type": "stream",
     "text": [
      "t= 3.18334863789409\n"
     ]
    },
    {
     "data": {
      "image/png": "[encoded data removed]",
      "text/plain": [
       "Graphics object consisting of 1 graphics primitive"
      ]
     },
     "metadata": {},
     "output_type": "display_data"
    },
    {
     "name": "stdout",
     "output_type": "stream",
     "text": [
      "t= 3.71390674420977\n"
     ]
    },
    {
     "data": {
      "image/png": "[encoded data removed]",
      "text/plain": [
       "Graphics object consisting of 1 graphics primitive"
      ]
     },
     "metadata": {},
     "output_type": "display_data"
    },
    {
     "name": "stdout",
     "output_type": "stream",
     "text": [
      "t= 4.24446485052546\n"
     ]
    },
    {
     "data": {
      "image/png": "[encoded data removed]",
      "text/plain": [
       "Graphics object consisting of 1 graphics primitive"
      ]
     },
     "metadata": {},
     "output_type": "display_data"
    },
    {
     "name": "stdout",
     "output_type": "stream",
     "text": [
      "t= 4.77502295684114\n"
     ]
    },
    {
     "data": {
      "image/png": "[encoded data removed]",
      "text/plain": [
       "Graphics object consisting of 1 graphics primitive"
      ]
     },
     "metadata": {},
     "output_type": "display_data"
    }
   ],
   "source": [
    "for ith in range(0,len(Tlst),10):\n",
    "    vis(ith)"
   ]
  },
  {
   "cell_type": "markdown",
   "metadata": {},
   "source": [
    "## Rozwiązania spiralne w układzie reakcji z dyfuzją (Bielousow-Zabotyński)\n"
   ]
  },
  {
   "cell_type": "code",
   "execution_count": null,
   "metadata": {
    "collapsed": false
   },
   "outputs": [],
   "source": []
  },
  {
   "cell_type": "markdown",
   "metadata": {},
   "source": [
    "<p>Dynamika modelu bez dyfuzji.</p>"
   ]
  },
  {
   "cell_type": "code",
   "execution_count": 38,
   "metadata": {
    "collapsed": false
   },
   "outputs": [
    {
     "data": {
      "image/png": "[encoded data removed]",
      "text/plain": [
       "Graphics object consisting of 3 graphics primitives"
      ]
     },
     "metadata": {},
     "output_type": "display_data"
    },
    {
     "data": {
      "image/png": "[encoded data removed]",
      "text/plain": [
       "Graphics object consisting of 1 graphics primitive"
      ]
     },
     "metadata": {},
     "output_type": "display_data"
    }
   ],
   "source": [
    "a=1.0\n",
    "b=0.1\n",
    "eps=0.1\n",
    "\n",
    "a = 0.75\n",
    "b = 0.0006\n",
    "eps = 0.072\n",
    "\n",
    "var('u v')\n",
    "f(u,v) = u*(1-u)*(u-(v-b)/a)\n",
    "g(u,v) = u-v\n",
    "V = vector( (1/eps*f,g))\n",
    "V=V/V.norm()\n",
    "vfield=plot_vector_field(V,(u,0,1),(v,0,1))+implicit_plot(g,(u,0,1),(v,0,1))\n",
    "t = srange(0,4/eps,0.01)\n",
    "sol = desolve_odeint([19*f,g], [0.5,0.0], t, [u,v])  \n",
    "plt_phase = vfield+line(sol,color='red',figsize=5)\n",
    "plt_time = line(zip(t,sol[:,0]),figsize=5)\n",
    "show(plt_phase)\n",
    "show(plt_time)"
   ]
  },
  {
   "cell_type": "code",
   "execution_count": null,
   "metadata": {
    "collapsed": false
   },
   "outputs": [],
   "source": []
  },
  {
   "cell_type": "code",
   "execution_count": 39,
   "metadata": {
    "collapsed": false
   },
   "outputs": [
    {
     "name": "stdout",
     "output_type": "stream",
     "text": [
      "dt,dt_dyn 0.0205688066136624 0.111111111111111\n",
      "sps= 48 dt= 0.0205688066136624 Nsteps= 4800\n",
      "Saved  100  from  4800\n",
      "CPU times: user 4.54 s, sys: 8 ms, total: 4.54 s\n",
      "Wall time: 4.54 s\n"
     ]
    }
   ],
   "source": [
    "%%time\n",
    "import numpy as np\n",
    "sparse = True\n",
    "slicing = True\n",
    "\n",
    "Dyf_u = 1.0\n",
    "Dyf_v = 0.052\n",
    "Dyf = max(Dyf_u,Dyf_v)\n",
    "\n",
    "a = 1.0 \n",
    "b = 0.001\n",
    "eps = 0.072\n",
    "\n",
    "l = 100.0 # dlugosc ukladu\n",
    "t_end = 100 # czas symulacje\n",
    "\n",
    "N = 160 # dyskretyzacja przestrzeni\n",
    "h = l/(N-1) \n",
    "dt = 0.052/(Dyf*(N-1)**2/l**2) # 0.2 z warunku CFL, krok nie moze byc wiekszy\n",
    "\n",
    "dt_dyn = (1.0/eps)/125.0\n",
    "\n",
    "sps = int(1/dt) # liczba krokow na jednostke czasu\n",
    "Nsteps=sps*t_end  # calkowita liczba krotkow \n",
    "\n",
    "print \"dt,dt_dyn\",dt,dt_dyn\n",
    "dt = min(dt,dt_dyn)\n",
    "print \"sps=\",sps,\"dt=\",dt,'Nsteps=',Nsteps\n",
    "\n",
    "# warunek poczatkowy\n",
    "u = np.zeros((N,N))\n",
    "v = np.zeros((N,N))\n",
    "\n",
    "#u[int(N/2)-5:int(N/2)+5,int(N/2)-5:int(N/2)+5]=1 # step\n",
    "\n",
    "#u[:int(N/2)+5,:]=1.0 # step\n",
    "\n",
    "#u[int(N/2)-5:int(N/2)+5,int(N/2)-20:int(N/2)+20]=1.0\n",
    "#v[int(N/2)-5:int(N/2)+3,int(N/2)-20:int(N/2)+20]=1.0\n",
    "\n",
    "#u[int(N/2)-5:int(N/2)+5,int(N/2)-20:int(N/2)+20]=1.0\n",
    "#v[int(N/2)-5:int(N/2)+5,int(N/2)-22:int(N/2)+18]=1.0\n",
    "\n",
    "#u[-20:-1,int(N/2)-5:int(N/2)+5]=1.0\n",
    "#v[-20:-1,int(N/2)-6:int(N/2)+4]=1.0\n",
    "\n",
    "#u[:5,:]=1.0\n",
    "#v[:4,:]=1.0\n",
    "\n",
    "#u[-10:,:]=1.0\n",
    "#v[-4:,:]=1.0\n",
    "\n",
    "\n",
    "u[:int(N/2),int(N/2)-5:int(N/2)+5]=1.0\n",
    "v[:int(N/2),int(N/2)-6:int(N/2)+4]=1.0\n",
    "# aby wymusic ruch falowy, przesuwamy u wzgledem v\n",
    "\n",
    "def essential_boundary_conditions(u):\n",
    "    u[:,0] = 0.0\n",
    "    u[:,-1] = 0.0\n",
    "    u[-1,:] = 0.0\n",
    "    u[0,:] = 0.0\n",
    "    v[:,0] = 0.0\n",
    "    v[:,-1] = 0.0\n",
    "    v[-1,:] = 0.0\n",
    "    v[0,:] = 0.0\n",
    "    \n",
    "\n",
    "Tlst=[]\n",
    "Tvlst=[]\n",
    "essential_boundary_conditions(u)\n",
    "\n",
    "for i in range(Nsteps):\n",
    "    if not i%sps:\n",
    "        Tlst.append(u.copy())\n",
    "        Tvlst.append(v.copy())\n",
    "    \n",
    "    u[1:-1,1:-1] = u[1:-1,1:-1] + dt*(1.0/eps*u[1:-1,1:-1]*(1-u[1:-1,1:-1])*( u[1:-1,1:-1]-(v[1:-1,1:-1]+b)/a ) + \\\n",
    "     Dyf_u*(N-1)**2/l**2*(np.diff(u,2,axis=0)[:,1:-1]+np.diff(u,2,axis=1)[1:-1,:]))\n",
    "\n",
    "    v[1:-1,1:-1] = v[1:-1,1:-1] + dt*( (u[1:-1,1:-1]-v[1:-1,1:-1]) )\n",
    "    # + \\\n",
    "    # Dyf*(N-1)**2/l**2*(np.diff(v,2,axis=0)[:,1:-1]+np.diff(v,2,axis=1)[1:-1,:]))\n",
    "    essential_boundary_conditions(u)\n",
    "    \n",
    "print \"Saved \",len(Tlst), \" from \", Nsteps"
   ]
  },
  {
   "cell_type": "code",
   "execution_count": 40,
   "metadata": {
    "collapsed": false
   },
   "outputs": [],
   "source": [
    "anim=animate([matrix_plot(u,cmap='jet',figsize=(2,2)) for u in Tlst[:35]])\n",
    "anim.save('1.gif')"
   ]
  },
  {
   "cell_type": "markdown",
   "metadata": {},
   "source": [
    "<img src='1.gif'>"
   ]
  },
  {
   "cell_type": "code",
   "execution_count": 41,
   "metadata": {
    "collapsed": false
   },
   "outputs": [],
   "source": [
    "import pylab\n",
    "\n",
    "#@interact\n",
    "def vis(ti=0):\n",
    "    print r\"t=\",dt*ti*sps\n",
    "    if False: \n",
    "        pylab.subplot(1,2,1)   \n",
    "        pylab.imshow(Tlst[ti],vmin=0,vmax=1,origin='top')\n",
    "        pylab.subplot(1,2,2) \n",
    "        pylab.imshow(Tvlst[ti],vmin=0,vmax=1,origin='top') \n",
    "        pylab.savefig('1.png',dpi=70)\n",
    "    else:\n",
    "        p =  matrix_plot(Tlst[ti])\n",
    "        p.show(figsize=(4,4))"
   ]
  },
  {
   "cell_type": "code",
   "execution_count": 42,
   "metadata": {
    "collapsed": false
   },
   "outputs": [
    {
     "name": "stdout",
     "output_type": "stream",
     "text": [
      "t= 11.8476326094696\n"
     ]
    },
    {
     "data": {
      "image/png": "[encoded data removed]",
      "text/plain": [
       "Graphics object consisting of 1 graphics primitive"
      ]
     },
     "metadata": {},
     "output_type": "display_data"
    }
   ],
   "source": [
    "vis(12)"
   ]
  },
  {
   "cell_type": "code",
   "execution_count": null,
   "metadata": {
    "collapsed": false
   },
   "outputs": [],
   "source": []
  },
  {
   "cell_type": "code",
   "execution_count": null,
   "metadata": {
    "collapsed": false
   },
   "outputs": [],
   "source": []
  },
  {
   "cell_type": "code",
   "execution_count": null,
   "metadata": {
    "collapsed": false
   },
   "outputs": [],
   "source": []
  },
  {
   "cell_type": "code",
   "execution_count": null,
   "metadata": {
    "collapsed": false
   },
   "outputs": [],
   "source": []
  },
  {
   "cell_type": "code",
   "execution_count": null,
   "metadata": {
    "collapsed": false
   },
   "outputs": [],
   "source": []
  },
  {
   "cell_type": "code",
   "execution_count": null,
   "metadata": {
    "collapsed": false
   },
   "outputs": [],
   "source": []
  },
  {
   "cell_type": "code",
   "execution_count": null,
   "metadata": {
    "collapsed": false
   },
   "outputs": [],
   "source": []
  },
  {
   "cell_type": "code",
   "execution_count": null,
   "metadata": {
    "collapsed": false
   },
   "outputs": [],
   "source": []
  },
  {
   "cell_type": "code",
   "execution_count": null,
   "metadata": {
    "collapsed": false
   },
   "outputs": [],
   "source": []
  },
  {
   "cell_type": "code",
   "execution_count": null,
   "metadata": {
    "collapsed": false
   },
   "outputs": [],
   "source": []
  },
  {
   "cell_type": "code",
   "execution_count": null,
   "metadata": {
    "collapsed": false
   },
   "outputs": [],
   "source": []
  },
  {
   "cell_type": "code",
   "execution_count": null,
   "metadata": {
    "collapsed": false
   },
   "outputs": [],
   "source": []
  },
  {
   "cell_type": "code",
   "execution_count": null,
   "metadata": {
    "collapsed": false
   },
   "outputs": [],
   "source": []
  },
  {
   "cell_type": "code",
   "execution_count": null,
   "metadata": {
    "collapsed": false
   },
   "outputs": [],
   "source": []
  },
  {
   "cell_type": "code",
   "execution_count": null,
   "metadata": {
    "collapsed": false
   },
   "outputs": [],
   "source": []
  },
  {
   "cell_type": "code",
   "execution_count": null,
   "metadata": {
    "collapsed": false
   },
   "outputs": [],
   "source": []
  }
 ],
 "metadata": {
  "kernelspec": {
   "display_name": "SageMath 7.3",
   "language": "",
   "name": "sagemath"
  },
  "language": "python",
  "language_info": {
   "codemirror_mode": {
    "name": "ipython",
    "version": 2
   },
   "file_extension": ".py",
   "mimetype": "text/x-python",
   "name": "python",
   "nbconvert_exporter": "python",
   "pygments_lexer": "ipython2",
   "version": "2.7.10"
  }
 },
 "nbformat": 4,
 "nbformat_minor": 2
}
