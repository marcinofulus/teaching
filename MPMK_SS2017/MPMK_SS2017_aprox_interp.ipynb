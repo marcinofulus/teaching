{
 "cells": [
  {
   "cell_type": "markdown",
   "metadata": {},
   "source": [
    "\n",
    "## Metoda najmniejszych kwadratów\n",
    "## Aproksymacja wielomianowa\n",
    "<p>Cel:</p>\n",
    "<ol>\n",
    "<li>Zastosowanie algebry liniowej do prostego przypadku interpolacji funkcji wielomianami $x^n$.</li>\n",
    "<li>Sage: Wykorzystanie technik operacji na macierzach i danych.</li>\n",
    "</ol>\n",
    "<p> </p>\n",
    "<p>Mamy dane punkty $(x_1,y_1),\\dots,(x_n,y_n)$. Szukamy wielomianu stopnia $n-1$ przechodzącego przez te punkty.</p>\n",
    "<ul>\n",
    "<li>$c_i$ to współczynniki wielomianu</li>\n",
    "</ul>\n",
    "<p> </p>"
   ]
  },
  {
   "cell_type": "code",
   "execution_count": 82,
   "metadata": {
    "collapsed": false
   },
   "outputs": [],
   "source": [
    "var('x')\n",
    "xs=[]\n",
    "ys=[]\n",
    "cs=[]\n",
    "n_pkts = 4\n",
    "for i in range(1,n_pkts+1):\n",
    "    xs.append(var('x%d' % i))\n",
    "    ys.append(var('y%d' % i))\n",
    "    cs.append(var('c%d' % i))\n",
    "X=vector([x^i for i in range(n_pkts)]    )\n",
    "A=(matrix([ X.subs(x==xx) for xx in xs] ))\n",
    "b=(vector(ys).column())\n",
    "c=(vector(cs).column())\n",
    "# table([[\"$A$\",\"$\\cdot$\",\"$c$\",\"$= b$\"],[A,\"$\\cdot$\",c,b]],header_row=True)"
   ]
  },
  {
   "cell_type": "code",
   "execution_count": 94,
   "metadata": {
    "collapsed": false
   },
   "outputs": [
    {
     "data": {
      "text/html": [
       "<html><script type=\"math/tex; mode=display\">\\newcommand{\\Bold}[1]{\\mathbf{#1}}\\left(\\begin{array}{rrr}\n",
       "1 & 1 & 1 \\\\\n",
       "1 & 2 & 4 \\\\\n",
       "1 & 3 & 9\n",
       "\\end{array}\\right)</script></html>"
      ],
      "text/plain": [
       "[1 1 1]\n",
       "[1 2 4]\n",
       "[1 3 9]"
      ]
     },
     "metadata": {},
     "output_type": "display_data"
    }
   ],
   "source": [
    "show(A)\n"
   ]
  },
  {
   "cell_type": "markdown",
   "metadata": {},
   "source": [
    "<p>Bierzemy konkretne punkty:</p>"
   ]
  },
  {
   "cell_type": "code",
   "execution_count": 95,
   "metadata": {
    "collapsed": false
   },
   "outputs": [
    {
     "data": {
      "text/plain": [
       "[[1, 1], [2, 2], [3, 5]]"
      ]
     },
     "execution_count": 95,
     "metadata": {},
     "output_type": "execute_result"
    }
   ],
   "source": [
    "points=[[1,1],[2,2],[3,5]]\n",
    "points"
   ]
  },
  {
   "cell_type": "code",
   "execution_count": 96,
   "metadata": {
    "collapsed": false
   },
   "outputs": [
    {
     "data": {
      "image/png": "[encoded data removed]",
      "text/plain": [
       "Graphics object consisting of 1 graphics primitive"
      ]
     },
     "metadata": {},
     "output_type": "display_data"
    }
   ],
   "source": [
    "table(  [[\"x\",\"y\"]]+points, header_row=True)\n",
    "pkt_plt=point(points,size=30)\n",
    "show(pkt_plt,figsize=4)"
   ]
  },
  {
   "cell_type": "code",
   "execution_count": 97,
   "metadata": {
    "collapsed": false
   },
   "outputs": [
    {
     "data": {
      "text/plain": [
       "[[1, 1], [2, 2], [3, 5]]"
      ]
     },
     "execution_count": 97,
     "metadata": {},
     "output_type": "execute_result"
    }
   ],
   "source": [
    "points"
   ]
  },
  {
   "cell_type": "code",
   "execution_count": 99,
   "metadata": {
    "collapsed": false
   },
   "outputs": [
    {
     "name": "stdout",
     "output_type": "stream",
     "text": [
      "3\n"
     ]
    }
   ],
   "source": [
    "npoints=len(points)\n",
    "print npoints"
   ]
  },
  {
   "cell_type": "code",
   "execution_count": 100,
   "metadata": {
    "collapsed": false
   },
   "outputs": [
    {
     "data": {
      "text/plain": [
       "[[1, 1, 1], [1, 2, 4], [1, 3, 9]]"
      ]
     },
     "execution_count": 100,
     "metadata": {},
     "output_type": "execute_result"
    }
   ],
   "source": [
    "[[x_^i for i in range(npoints)] for x_,y_ in points]"
   ]
  },
  {
   "cell_type": "code",
   "execution_count": 101,
   "metadata": {
    "collapsed": false
   },
   "outputs": [
    {
     "data": {
      "text/html": [
       "<html><script type=\"math/tex; mode=display\">\\newcommand{\\Bold}[1]{\\mathbf{#1}}\\left(\\begin{array}{rrr}\n",
       "1 & 1 & 1 \\\\\n",
       "1 & 2 & 4 \\\\\n",
       "1 & 3 & 9\n",
       "\\end{array}\\right)</script></html>"
      ],
      "text/plain": [
       "[1 1 1]\n",
       "[1 2 4]\n",
       "[1 3 9]"
      ]
     },
     "metadata": {},
     "output_type": "display_data"
    }
   ],
   "source": [
    "A = matrix( [[x_^i for i in range(npoints)] for x_,y_ in points])\n",
    "show(A)"
   ]
  },
  {
   "cell_type": "code",
   "execution_count": 102,
   "metadata": {
    "collapsed": false
   },
   "outputs": [
    {
     "data": {
      "text/plain": [
       "(1, 2, 5)"
      ]
     },
     "execution_count": 102,
     "metadata": {},
     "output_type": "execute_result"
    }
   ],
   "source": [
    "b = vector( [y_ for x_,y_ in points] )\n",
    "b"
   ]
  },
  {
   "cell_type": "code",
   "execution_count": null,
   "metadata": {
    "collapsed": false
   },
   "outputs": [],
   "source": []
  },
  {
   "cell_type": "markdown",
   "metadata": {},
   "source": [
    "Rozwiązujemy ze względu na współczynniki $c_i$:"
   ]
  },
  {
   "cell_type": "code",
   "execution_count": 105,
   "metadata": {
    "collapsed": false
   },
   "outputs": [
    {
     "data": {
      "text/plain": [
       "(2, -2, 1)"
      ]
     },
     "execution_count": 105,
     "metadata": {},
     "output_type": "execute_result"
    }
   ],
   "source": [
    "c = A.solve_right(b)\n",
    "c"
   ]
  },
  {
   "cell_type": "markdown",
   "metadata": {},
   "source": [
    "sprawdźmy:"
   ]
  },
  {
   "cell_type": "code",
   "execution_count": 110,
   "metadata": {
    "collapsed": false
   },
   "outputs": [
    {
     "data": {
      "text/plain": [
       "True"
      ]
     },
     "execution_count": 110,
     "metadata": {},
     "output_type": "execute_result"
    }
   ],
   "source": [
    "A*c==b"
   ]
  },
  {
   "cell_type": "code",
   "execution_count": null,
   "metadata": {
    "collapsed": true
   },
   "outputs": [],
   "source": []
  },
  {
   "cell_type": "code",
   "execution_count": 111,
   "metadata": {
    "collapsed": false
   },
   "outputs": [
    {
     "data": {
      "text/html": [
       "<div class=\"notruncate\">\n",
       "<table  class=\"table_form\">\n",
       "<tbody>\n",
       "<tr>\n",
       "<th><script type=\"math/tex\">A</script></th>\n",
       "<th><script type=\"math/tex\">\\cdot</script></th>\n",
       "<th><script type=\"math/tex\">c</script></th>\n",
       "<th><script type=\"math/tex\">= b</script></th>\n",
       "</tr>\n",
       "<tr class =\"row-a\">\n",
       "<td><script type=\"math/tex\">\\left(\\begin{array}{rrr}\n",
       "1 & 1 & 1 \\\\\n",
       "1 & 2 & 4 \\\\\n",
       "1 & 3 & 9\n",
       "\\end{array}\\right)</script></td>\n",
       "<td><script type=\"math/tex\">\\cdot</script></td>\n",
       "<td><script type=\"math/tex\">\\left(2,\\,-2,\\,1\\right)</script></td>\n",
       "<td><script type=\"math/tex\">\\left(1,\\,2,\\,5\\right)</script></td>\n",
       "</tr>\n",
       "</tbody>\n",
       "</table>\n",
       "</div>"
      ],
      "text/plain": [
       "  $A$                       $\\cdot$   $c$          $= b$\n",
       "+-------------------------+---------+------------+-----------+\n",
       "  [1 1 1]\n",
       "[1 2 4]\n",
       "[1 3 9]   $\\cdot$   (2, -2, 1)   (1, 2, 5)"
      ]
     },
     "execution_count": 111,
     "metadata": {},
     "output_type": "execute_result"
    }
   ],
   "source": [
    "table([[\"$A$\",\"$\\cdot$\",\"$c$\",\"$= b$\"],[A,\"$\\cdot$\",c,b]],header_row=True)"
   ]
  },
  {
   "cell_type": "code",
   "execution_count": 112,
   "metadata": {
    "collapsed": true
   },
   "outputs": [],
   "source": [
    "## Możemy utworzyć  wielomian mnożąc skalarnie wektor z elementami bazy funckji ze współczynnikami"
   ]
  },
  {
   "cell_type": "code",
   "execution_count": 113,
   "metadata": {
    "collapsed": false
   },
   "outputs": [],
   "source": [
    "var('x')\n",
    "X = vector([x^i for i in range(npoints)])"
   ]
  },
  {
   "cell_type": "code",
   "execution_count": 114,
   "metadata": {
    "collapsed": false
   },
   "outputs": [
    {
     "data": {
      "text/html": [
       "<html><script type=\"math/tex; mode=display\">\\newcommand{\\Bold}[1]{\\mathbf{#1}}x^{2} - 2 \\, x + 2</script></html>"
      ],
      "text/plain": [
       "x^2 - 2*x + 2"
      ]
     },
     "metadata": {},
     "output_type": "display_data"
    },
    {
     "data": {
      "image/png": "[encoded data removed]",
      "text/plain": [
       "Graphics object consisting of 2 graphics primitives"
      ]
     },
     "execution_count": 114,
     "metadata": {},
     "output_type": "execute_result"
    }
   ],
   "source": [
    "wielomian= c.dot_product(X)\n",
    "show(wielomian)\n",
    "plot(wielomian,(-.5,3.5),color='red',figsize=4)+pkt_plt"
   ]
  },
  {
   "cell_type": "markdown",
   "metadata": {
    "collapsed": false
   },
   "source": [
    "### Weźmy inny zestaw danych"
   ]
  },
  {
   "cell_type": "code",
   "execution_count": 75,
   "metadata": {
    "collapsed": false
   },
   "outputs": [
    {
     "data": {
      "image/png": "[encoded data removed]",
      "text/plain": [
       "Graphics object consisting of 3 graphics primitives"
      ]
     },
     "metadata": {},
     "output_type": "display_data"
    }
   ],
   "source": [
    "\n",
    "n=12\n",
    "l=[ ( 2*pi.n()/(n-1)*i   ,   sin(2*pi.n()/(n-1)*i)  ) for i in range(n)]\n",
    "\n",
    "\n",
    "A = matrix( [[x_^i for i in range(n)] for x_,y_ in l])\n",
    "b = vector( [y_ for x_,y_ in l] )\n",
    "var('x')\n",
    "X = vector([x^i for i in range(n)])\n",
    "c = A.solve_right(b)\n",
    "wielomian= c.dot_product(X)\n",
    "pp = plot(wielomian,(x,-4,12),ymin=-2,ymax=2)\n",
    "pp += plot(sin(x),(x,-4,4*pi),color='red')\n",
    "pp += point(l,color='green',size=70)\n",
    "pp.show()"
   ]
  },
  {
   "cell_type": "markdown",
   "metadata": {},
   "source": [
    "W SageMath mamy instniejącą implementacje zagadnienia Lagrange'a."
   ]
  },
  {
   "cell_type": "code",
   "execution_count": 115,
   "metadata": {
    "collapsed": false
   },
   "outputs": [
    {
     "data": {
      "image/png": "[encoded data removed]",
      "text/plain": [
       "Graphics object consisting of 3 graphics primitives"
      ]
     },
     "metadata": {},
     "output_type": "display_data"
    }
   ],
   "source": [
    "var('x')\n",
    "n=12\n",
    "l=[ ( 2*pi.n()/(n-1)*i   ,   sin(2*pi.n()/(n-1)*i)  ) for i in range(n)]\n",
    "R = PolynomialRing(RR, 'x')\n",
    "L = R.lagrange_polynomial(l)\n",
    "pp=L.plot(-4,12,ymin=-2,ymax=2)+plot(sin(x),(x,0,2*pi),color='red')+point(l,color='green',size=70)\n",
    "pp.show()"
   ]
  },
  {
   "cell_type": "markdown",
   "metadata": {},
   "source": [
    "Należy uważać na fakt, że `x` jest generatorem pierścienia  wielomianów nie zmienną symboliczą:"
   ]
  },
  {
   "cell_type": "code",
   "execution_count": 118,
   "metadata": {
    "collapsed": false
   },
   "outputs": [
    {
     "name": "stdout",
     "output_type": "stream",
     "text": [
      "<type 'sage.symbolic.expression.Expression'>\n",
      "<type 'sage.rings.polynomial.polynomial_real_mpfr_dense.PolynomialRealDense'>\n",
      "<type 'sage.rings.polynomial.polynomial_real_mpfr_dense.PolynomialRealDense'>\n",
      "<type 'sage.rings.polynomial.polynomial_real_mpfr_dense.PolynomialRealDense'>\n"
     ]
    }
   ],
   "source": [
    "var('y')\n",
    "R.<x> = PolynomialRing(RR)\n",
    "L = R.lagrange_polynomial(l)\n",
    "print type(L(y))\n",
    "print type(L)\n",
    "print type(L(x))\n",
    "print type(x)"
   ]
  },
  {
   "cell_type": "code",
   "execution_count": 121,
   "metadata": {
    "collapsed": false
   },
   "outputs": [
    {
     "data": {
      "text/plain": [
       "0.296657159743355"
      ]
     },
     "execution_count": 121,
     "metadata": {},
     "output_type": "execute_result"
    }
   ],
   "source": [
    "var('x')\n",
    "f(x)=exp(-x)*sin(x)\n",
    "f(1.1)"
   ]
  },
  {
   "cell_type": "code",
   "execution_count": null,
   "metadata": {
    "collapsed": true
   },
   "outputs": [],
   "source": []
  },
  {
   "cell_type": "markdown",
   "metadata": {
    "collapsed": false
   },
   "source": [
    "### interact \n",
    "\n",
    "[link](http://sagecell.sagemath.org/?z=eJxtkMFOhDAQhu8kvENvzLADAqImJk18gD0YrsaYZinYpLSkoBaf3gLu7kF7mE6m35_5_34KB4n3CcZRB94jn5RZ7zh6UmaWTpzmOGplx8J8tHoBwyetWunACdNLqKgqkAIgPvTMayRxfp92oMgruqNQr1SJDNljHLFw9qr5CwORVumocgN4AyYrMVUk_QhZ0KZ_3zBdnf4zR9ZZxxRThu0ODL7uWxrG2XPIYOyghG6U6aFpiCVb-hU4BqDJteg34dt4YUH_EmOwf8xHbWfIatq3H2paBmV4VoaoyyA8Dw0eNugSwO9-PRJ4KmjVpQLpZLV1PHGyTYLChi8HfR72TkqTUKf6SX1LDvd0i7S1D8XVTj692y_AH8zJgz0=&lang=sage)\n",
    "\n",
    "    var('xx')\n",
    "    f(xx)=sin(xx)\n",
    "    @interact\n",
    "    def sinpoly(n=slider(range(2,20),default=4),a=slider(srange(0.2,5,0.2),default=1) ) :\n",
    "\n",
    "        l=[ (a*2*pi.n()/(n-1)*i,exp(-0.2*a*2*pi.n()/(n-1)*i)*sin(a*2*pi.n()/(n-1)*i)) for i in range(n)]\n",
    "        R = PolynomialRing(RR, 'x')\n",
    "        L = R.lagrange_polynomial(l)\n",
    "        plt=L.plot(-4,a*2*pi+4,ymin=-1.2,ymax=1.2)+plot(exp(-0.2*x)*sin(x),(x,0,2*pi*a),color='red')+point(l,color='green',figsize=(6,3),size=70)\n",
    "        plt.show()"
   ]
  },
  {
   "cell_type": "markdown",
   "metadata": {},
   "source": [
    "### Inne bazy\n",
    "\n",
    "Bazą nie muszą być wielomiany.\n",
    "Konieczne jest jednak by był to zestaw funkcji liniowo niezależnych."
   ]
  },
  {
   "cell_type": "code",
   "execution_count": 181,
   "metadata": {
    "collapsed": true
   },
   "outputs": [],
   "source": [
    "points = [[1,1],[2,2],[3,5]]"
   ]
  },
  {
   "cell_type": "code",
   "execution_count": 182,
   "metadata": {
    "collapsed": false
   },
   "outputs": [],
   "source": [
    "x_lst = [x_ for x_,y_ in points]\n",
    "y_lst = [y_ for x_,y_ in points]"
   ]
  },
  {
   "cell_type": "code",
   "execution_count": 183,
   "metadata": {
    "collapsed": false
   },
   "outputs": [],
   "source": [
    "X = vector([x^i for i in range(npoints)])"
   ]
  },
  {
   "cell_type": "markdown",
   "metadata": {},
   "source": [
    "\n",
    "Spróbuj na przykład:\n",
    "\n",
    "```python\n",
    "    X = vector([sin(x*i) for i in range(npoints)])\n",
    "    X[0] = 1\n",
    "```\n",
    "\n",
    "albo:\n",
    "\n",
    "```python\n",
    "    X = vector([exp(x*i) for i in range(npoints)])\n",
    "```"
   ]
  },
  {
   "cell_type": "code",
   "execution_count": 184,
   "metadata": {
    "collapsed": false
   },
   "outputs": [
    {
     "data": {
      "text/plain": [
       "(1, x, x^2)"
      ]
     },
     "execution_count": 184,
     "metadata": {},
     "output_type": "execute_result"
    }
   ],
   "source": [
    "X"
   ]
  },
  {
   "cell_type": "markdown",
   "metadata": {},
   "source": [
    "Zapiszmy tworzenie macierzy $A$ w sposób niezależny od tego jaką formuła będzie w wektorze `X`:"
   ]
  },
  {
   "cell_type": "code",
   "execution_count": 185,
   "metadata": {
    "collapsed": false
   },
   "outputs": [],
   "source": [
    "A = matrix( [X.subs({x:x_}) for x_ in x_lst] ) \n",
    "b = vector(y_lst)"
   ]
  },
  {
   "cell_type": "code",
   "execution_count": 186,
   "metadata": {
    "collapsed": false
   },
   "outputs": [
    {
     "data": {
      "text/plain": [
       "[1 1 1]\n",
       "[1 2 4]\n",
       "[1 3 9]"
      ]
     },
     "execution_count": 186,
     "metadata": {},
     "output_type": "execute_result"
    }
   ],
   "source": [
    "A"
   ]
  },
  {
   "cell_type": "code",
   "execution_count": 187,
   "metadata": {
    "collapsed": false
   },
   "outputs": [],
   "source": [
    "c = A.solve_right(b)"
   ]
  },
  {
   "cell_type": "code",
   "execution_count": 188,
   "metadata": {
    "collapsed": false
   },
   "outputs": [
    {
     "data": {
      "image/png": "[encoded data removed]",
      "text/plain": [
       "Graphics object consisting of 2 graphics primitives"
      ]
     },
     "execution_count": 188,
     "metadata": {},
     "output_type": "execute_result"
    }
   ],
   "source": [
    "plot(X.dot_product(c),(x,-2,3)) + point(points,figsize=4,color='red')\n"
   ]
  },
  {
   "cell_type": "code",
   "execution_count": null,
   "metadata": {
    "collapsed": true
   },
   "outputs": [],
   "source": []
  },
  {
   "cell_type": "markdown",
   "metadata": {},
   "source": [
    "<h2>Metoda najmniejszych kwadratów</h2>\n",
    "<p>Cel:</p>\n",
    "<ol>\n",
    "<li>Zrozumienie podstaw metody najmniejszych kwadratów</li>\n",
    "<li>Sage: umiejętność operacji na macierzach i danych.</li>\n",
    "</ol>\n",
    "<p> </p>\n",
    "<p>Zamiast:</p>\n",
    "<p>$$  A x =  b$$</p>\n",
    "<p>rozwiązujemy</p>\n",
    "<p>$$ A^T A x = A^T b.$$</p>\n",
    "<p>Inaczej mówiąc, niech błąd:</p>\n",
    "<p>$$  r=b-A x$$</p>\n",
    "<p>leży w lewym jądrze A:</p>\n",
    "<p>$$A^T r =A^T( b-Ax) = A^T b-A^TAx = 0.$$</p>\n",
    "<p> </p>\n",
    "<p>$$ A^T A x = A^T b.$$</p>\n",
    "<ol> </ol>"
   ]
  },
  {
   "cell_type": "code",
   "execution_count": 189,
   "metadata": {
    "collapsed": false
   },
   "outputs": [],
   "source": [
    "var('x y t')\n",
    "points=[[0,1],[2,0],[3,4],[5,6]]"
   ]
  },
  {
   "cell_type": "code",
   "execution_count": 190,
   "metadata": {
    "collapsed": false
   },
   "outputs": [
    {
     "data": {
      "text/html": [
       "<div class=\"notruncate\">\n",
       "<table  class=\"table_form\">\n",
       "<tbody>\n",
       "<tr>\n",
       "<th><script type=\"math/tex\">A</script></th>\n",
       "<th><script type=\"math/tex\">\\cdot</script></th>\n",
       "<th><script type=\"math/tex\">c</script></th>\n",
       "<th><script type=\"math/tex\">= b</script></th>\n",
       "</tr>\n",
       "<tr class =\"row-a\">\n",
       "<td><script type=\"math/tex\">\\left(\\begin{array}{rr}\n",
       "1 & x_{1} \\\\\n",
       "1 & x_{2} \\\\\n",
       "1 & x_{3} \\\\\n",
       "1 & x_{4}\n",
       "\\end{array}\\right)</script></td>\n",
       "<td><script type=\"math/tex\">\\cdot</script></td>\n",
       "<td><script type=\"math/tex\">\\left(\\begin{array}{r}\n",
       "c_{1} \\\\\n",
       "c_{2}\n",
       "\\end{array}\\right)</script></td>\n",
       "<td><script type=\"math/tex\">\\left(\\begin{array}{r}\n",
       "y_{1} \\\\\n",
       "y_{2} \\\\\n",
       "y_{3} \\\\\n",
       "y_{4}\n",
       "\\end{array}\\right)</script></td>\n",
       "</tr>\n",
       "<tr class =\"row-b\">\n",
       "<td><script type=\"math/tex\">\\left(\\begin{array}{rr}\n",
       "4 & x_{1} + x_{2} + x_{3} + x_{4} \\\\\n",
       "x_{1} + x_{2} + x_{3} + x_{4} & x_{1}^{2} + x_{2}^{2} + x_{3}^{2} + x_{4}^{2}\n",
       "\\end{array}\\right)</script></td>\n",
       "<td><script type=\"math/tex\">\\cdot</script></td>\n",
       "<td><script type=\"math/tex\">\\left(\\begin{array}{r}\n",
       "c_{1} \\\\\n",
       "c_{2}\n",
       "\\end{array}\\right)</script></td>\n",
       "<td><script type=\"math/tex\">\\left(\\begin{array}{r}\n",
       "y_{1} + y_{2} + y_{3} + y_{4} \\\\\n",
       "x_{1} y_{1} + x_{2} y_{2} + x_{3} y_{3} + x_{4} y_{4}\n",
       "\\end{array}\\right)</script></td>\n",
       "</tr>\n",
       "</tbody>\n",
       "</table>\n",
       "</div>"
      ],
      "text/plain": [
       "  $A$                                                                                                           $\\cdot$   $c$         $= b$\n",
       "+-------------------------------------------------------------------------------------------------------------+---------+-----------+-----------------------------------------------------------------+\n",
       "  [ 1 x1]\n",
       "[ 1 x2]\n",
       "[ 1 x3]\n",
       "[ 1 x4]                                                                               $\\cdot$   [c1]\n",
       "[c2]   [y1]\n",
       "[y2]\n",
       "[y3]\n",
       "[y4]\n",
       "  [                        4         x1 + x2 + x3 + x4]\n",
       "[        x1 + x2 + x3 + x4 x1^2 + x2^2 + x3^2 + x4^2]   $\\cdot$   [c1]\n",
       "[c2]   [            y1 + y2 + y3 + y4]\n",
       "[x1*y1 + x2*y2 + x3*y3 + x4*y4]"
      ]
     },
     "execution_count": 190,
     "metadata": {},
     "output_type": "execute_result"
    }
   ],
   "source": [
    "N=len(points)\n",
    "\n",
    "X=vector([1,x])\n",
    "M=len(X)\n",
    "\n",
    "var('x')\n",
    "xs=[]\n",
    "ys=[]\n",
    "cs=[]\n",
    "for i in range(1,N+1):\n",
    "    xs.append(var('x%d' % i))\n",
    "    ys.append(var('y%d' % i))\n",
    "for i in range(1,M+1):    \n",
    "    cs.append(var('c%d' % i))\n",
    "    \n",
    "\n",
    "A=(matrix([ X.subs(x==xx) for xx in xs] ))\n",
    "b=(vector(ys).column())\n",
    "c=(vector(cs).column())\n",
    "\n",
    "\n",
    "ATA=A.transpose()*A\n",
    "ATb=A.transpose()*b\n",
    "\n",
    "table([[\"$A$\",\"$\\cdot$\",\"$c$\",\"$= b$\"],[A,\"$\\cdot$\",c,b],[ATA,\"$\\cdot$\",c,ATb]],header_row=True)"
   ]
  },
  {
   "cell_type": "code",
   "execution_count": 191,
   "metadata": {
    "collapsed": false
   },
   "outputs": [
    {
     "data": {
      "image/png": "[encoded data removed]",
      "text/plain": [
       "Graphics object consisting of 1 graphics primitive"
      ]
     },
     "metadata": {},
     "output_type": "display_data"
    }
   ],
   "source": [
    "points=[[0,1],[2,0],[3,4],[5,6]]\n",
    "table(  [[\"x\",\"y\"]]+points, header_row=True)\n",
    "pkt_plt=point(points,size=30)\n",
    "show(pkt_plt,figsize=4)"
   ]
  },
  {
   "cell_type": "code",
   "execution_count": 192,
   "metadata": {
    "collapsed": false
   },
   "outputs": [],
   "source": [
    "Alst=[]\n",
    "blst=[]\n",
    "\n",
    "for k in range(N):\n",
    "    mk=[]\n",
    "    for j in range(M):\n",
    "        mk+=[points[k][0]^j]\n",
    "    Alst+=[mk]\n",
    "    blst+=[points[k][1]]"
   ]
  },
  {
   "cell_type": "code",
   "execution_count": 193,
   "metadata": {
    "collapsed": false
   },
   "outputs": [],
   "source": [
    "A=matrix(RDF,Alst)\n",
    "b=vector(blst)\n",
    "\n",
    "ATA=A.transpose()*A\n",
    "ATb=A.transpose()*b"
   ]
  },
  {
   "cell_type": "code",
   "execution_count": 194,
   "metadata": {
    "collapsed": false
   },
   "outputs": [
    {
     "data": {
      "text/html": [
       "<div class=\"notruncate\">\n",
       "<table  class=\"table_form\">\n",
       "<tbody>\n",
       "<tr>\n",
       "<th><script type=\"math/tex\">A</script></th>\n",
       "<th><script type=\"math/tex\">\\cdot</script></th>\n",
       "<th><script type=\"math/tex\">c</script></th>\n",
       "<th><script type=\"math/tex\">= b</script></th>\n",
       "</tr>\n",
       "<tr class =\"row-a\">\n",
       "<td><script type=\"math/tex\">\\left(\\begin{array}{rr}\n",
       "1.0 & 0.0 \\\\\n",
       "1.0 & 2.0 \\\\\n",
       "1.0 & 3.0 \\\\\n",
       "1.0 & 5.0\n",
       "\\end{array}\\right)</script></td>\n",
       "<td><script type=\"math/tex\">\\cdot</script></td>\n",
       "<td><script type=\"math/tex\">\\left(\\begin{array}{r}\n",
       "c_{1} \\\\\n",
       "c_{2}\n",
       "\\end{array}\\right)</script></td>\n",
       "<td><script type=\"math/tex\">\\left(1,\\,0,\\,4,\\,6\\right)</script></td>\n",
       "</tr>\n",
       "<tr class =\"row-b\">\n",
       "<td><script type=\"math/tex\">\\left(\\begin{array}{rr}\n",
       "4.0 & 10.0 \\\\\n",
       "10.0 & 38.0\n",
       "\\end{array}\\right)</script></td>\n",
       "<td><script type=\"math/tex\">\\cdot</script></td>\n",
       "<td><script type=\"math/tex\">\\left(\\begin{array}{r}\n",
       "c_{1} \\\\\n",
       "c_{2}\n",
       "\\end{array}\\right)</script></td>\n",
       "<td><script type=\"math/tex\">\\left(11.0,\\,42.0\\right)</script></td>\n",
       "</tr>\n",
       "</tbody>\n",
       "</table>\n",
       "</div>"
      ],
      "text/plain": [
       "  $A$                                       $\\cdot$   $c$         $= b$\n",
       "+-----------------------------------------+---------+-----------+--------------+\n",
       "  [1.0 0.0]\n",
       "[1.0 2.0]\n",
       "[1.0 3.0]\n",
       "[1.0 5.0]   $\\cdot$   [c1]\n",
       "[c2]   (1, 0, 4, 6)\n",
       "  [ 4.0 10.0]\n",
       "[10.0 38.0]                   $\\cdot$   [c1]\n",
       "[c2]   (11.0, 42.0)"
      ]
     },
     "execution_count": 194,
     "metadata": {},
     "output_type": "execute_result"
    }
   ],
   "source": [
    "table([[\"$A$\",\"$\\cdot$\",\"$c$\",\"$= b$\"],[A,\"$\\cdot$\",c,b],[ATA,\"$\\cdot$\",c,ATb]],header_row=True)"
   ]
  },
  {
   "cell_type": "code",
   "execution_count": 195,
   "metadata": {
    "collapsed": false
   },
   "outputs": [],
   "source": [
    "c=ATA\\ATb"
   ]
  },
  {
   "cell_type": "code",
   "execution_count": 196,
   "metadata": {
    "collapsed": false
   },
   "outputs": [
    {
     "data": {
      "text/plain": [
       "(-0.03846153846153797, 1.1153846153846152)"
      ]
     },
     "execution_count": 196,
     "metadata": {},
     "output_type": "execute_result"
    }
   ],
   "source": [
    "c"
   ]
  },
  {
   "cell_type": "code",
   "execution_count": 197,
   "metadata": {
    "collapsed": false
   },
   "outputs": [
    {
     "data": {
      "text/html": [
       "<html><script type=\"math/tex; mode=display\">\\newcommand{\\Bold}[1]{\\mathbf{#1}}1.11538461538 \\, x - 0.0384615384615</script></html>"
      ],
      "text/plain": [
       "1.1153846153846152*x - 0.03846153846153797"
      ]
     },
     "metadata": {},
     "output_type": "display_data"
    }
   ],
   "source": [
    "wielomian= c.dot_product( X )\n",
    "show(wielomian)"
   ]
  },
  {
   "cell_type": "code",
   "execution_count": 198,
   "metadata": {
    "collapsed": false
   },
   "outputs": [
    {
     "data": {
      "image/png": "[encoded data removed]",
      "text/plain": [
       "Graphics object consisting of 2 graphics primitives"
      ]
     },
     "execution_count": 198,
     "metadata": {},
     "output_type": "execute_result"
    }
   ],
   "source": [
    "pkt_plt+plot(wielomian, (x,0,5),color='red',thickness=2,figsize=5)"
   ]
  },
  {
   "cell_type": "markdown",
   "metadata": {},
   "source": [
    "<h2>Praktyczne stosowanie interpolacji i aproksymacji w Sage</h2>\n",
    "<h3></h3>\n",
    "<p> </p>\n",
    "<p>Zagadnienie Lagrange'a w Sage:</p>"
   ]
  },
  {
   "cell_type": "code",
   "execution_count": 199,
   "metadata": {
    "collapsed": false
   },
   "outputs": [
    {
     "data": {
      "text/html": [
       "<html><script type=\"math/tex; mode=display\">\\newcommand{\\Bold}[1]{\\mathbf{#1}}\\frac{1}{2} \\, x^{2} - \\frac{1}{2} \\, x + 1</script></html>"
      ],
      "text/plain": [
       "1/2*x^2 - 1/2*x + 1"
      ]
     },
     "metadata": {},
     "output_type": "display_data"
    }
   ],
   "source": [
    "pts=[[1,1],[2,2],[3,4]]\n",
    "R = PolynomialRing(QQ, 'x')    ### x - bedzie generatorem wielomianów nad ciałem liczb wymiernych, \n",
    "                               ### R - będzie objektem reprezentującym to ciało\n",
    "L = R.lagrange_polynomial(pts) ### interpolacja Lagrange'a jest zaimplementowana w R \n",
    "show(L(x).expand() )"
   ]
  },
  {
   "cell_type": "markdown",
   "metadata": {},
   "source": [
    "<h2>Przykład: zjawisko Rungego</h2>\n",
    "\n",
    "<p>Rozważmy funkcję:</p>"
   ]
  },
  {
   "cell_type": "code",
   "execution_count": 200,
   "metadata": {
    "collapsed": false
   },
   "outputs": [
    {
     "data": {
      "image/png": "[encoded data removed]",
      "text/plain": [
       "Graphics object consisting of 1 graphics primitive"
      ]
     },
     "execution_count": 200,
     "metadata": {},
     "output_type": "execute_result"
    }
   ],
   "source": [
    "f(x)= 1/(1+25*x^2)\n",
    "plot(f,(-1,1), figsize=4)"
   ]
  },
  {
   "cell_type": "markdown",
   "metadata": {},
   "source": [
    "<p>Jej pochodne przyjmują duże wartości w $0$:</p>"
   ]
  },
  {
   "cell_type": "code",
   "execution_count": 201,
   "metadata": {
    "collapsed": false
   },
   "outputs": [
    {
     "data": {
      "text/plain": [
       "[0, -50, 0, 15000, 0, -11250000]"
      ]
     },
     "execution_count": 201,
     "metadata": {},
     "output_type": "execute_result"
    }
   ],
   "source": [
    "[ diff(1/(1+25*x^2),x,i).subs({x:0}) for i in range(1,7) ]"
   ]
  },
  {
   "cell_type": "markdown",
   "metadata": {
    "collapsed": false
   },
   "source": [
    "### Zjawisko Rungego - interact\n",
    "\n",
    "[link](http://sagecell.sagemath.org/?z=eJx9ksFu4jAQhu9IvMOIHjIGQ3F2q5UqWVqp1x4K14gilzjBJdiWHVrY4z5Xr32vOnFY0lVVHyKP_X8z_3jyW-laOrGph4PhIJcFtDFDvba7mvtK5dKhE7qUyGg6JzRoxKGq-S8C5HY4gLCOcwAOLAYFHkkIrpFN0pvx8TElnWj9ZA469xynjLLu0EJD2srUWNCzgkK9VZudlt7zMx2_V9EVm3cpX0TlGc82xqO6jpanjIytmmkkBArjQIWGIPpv78mqx6Y8m7IJYDru4aSBv2WvWvgHzyAdh-vc7JFM2dcIdIwNT5Z1-0bYpmjEWXRCYzOr236_LVh7nqGiiwUWqEi_rRZZXaTL8JYPpjpps1eiWipd4mJBITkm5CK6D6LlrBJl63Jt_-kxVOrr1s1YztO5D1PtDWhjKuN4UjopdfJpXrRQpVd_JP_ZyxWanwlrpc4xpp3YiTXhT2tq0nYXmTntMjuZJ-TT7K0LKhjBZT0c9K4-wbPMtXEm10qCNe9_zfub0XJE-9L_V4febeXTyW_lixjFInth0W_NKw2Ou-of58_iBQ==&lang=sage)\n",
    "\n",
    "```python\n",
    "    @interact\n",
    "\n",
    "    def inter1(n_pkt=slider(range(1,20),default=7) ):\n",
    "        x0  = 1\n",
    "        f(x)= 1/(1+25*x^2)\n",
    "        x_bounds=(-1,1)\n",
    "        p   = plot(f,x_bounds, thickness=2)\n",
    "\n",
    "        #n_pkt=10\n",
    "        xvals1=[cos(i/(n_pkt-1)*pi.n()) for i in range(n_pkt)]\n",
    "        xvals2=[-1+ (2*i/(n_pkt-1)).n() for i in range(n_pkt)]\n",
    "        #xvals3=[ 2*random()-1 for i in range(n_pkt) ]\n",
    "        plt=[]\n",
    "        for xvals in [xvals2,xvals1]:\n",
    "\n",
    "            pts=[(i,QQ(f(i))) for i in xvals]\n",
    "            R = PolynomialRing(QQ, 'x')\n",
    "            L = R.lagrange_polynomial(pts)\n",
    "            L_plot = plot(L(x),x_bounds, color='green', thickness=2,figsize=4)\n",
    "            plt.append(L_plot+p+point(pts,pointsize=40,color='red'))\n",
    "\n",
    "        print \"           Punkty jednorodnie położone\",\"                           Punkty Chebysheva\"\n",
    "        map(show,plt)\n",
    "```"
   ]
  },
  {
   "cell_type": "code",
   "execution_count": null,
   "metadata": {
    "collapsed": false
   },
   "outputs": [],
   "source": []
  },
  {
   "cell_type": "code",
   "execution_count": 202,
   "metadata": {
    "collapsed": false
   },
   "outputs": [],
   "source": [
    "pts=[(1,1),(2,2),(3,4)]"
   ]
  },
  {
   "cell_type": "code",
   "execution_count": 203,
   "metadata": {
    "collapsed": false
   },
   "outputs": [
    {
     "data": {
      "text/html": [
       "<html><script type=\"math/tex; mode=display\">\\newcommand{\\Bold}[1]{\\mathbf{#1}}\\frac{1}{2} x^{2} - \\frac{1}{2} x + 1</script></html>"
      ],
      "text/plain": [
       "1/2*x^2 - 1/2*x + 1"
      ]
     },
     "metadata": {},
     "output_type": "display_data"
    }
   ],
   "source": [
    "R = PolynomialRing(QQ, 'x')\n",
    "L = R.lagrange_polynomial(pts)\n",
    "show(L)"
   ]
  },
  {
   "cell_type": "code",
   "execution_count": 204,
   "metadata": {
    "collapsed": false
   },
   "outputs": [
    {
     "data": {
      "text/plain": [
       "[1, 1, 1/2]"
      ]
     },
     "execution_count": 204,
     "metadata": {},
     "output_type": "execute_result"
    }
   ],
   "source": [
    "DD=R.divided_difference(pts)\n",
    "DD"
   ]
  },
  {
   "cell_type": "code",
   "execution_count": 205,
   "metadata": {
    "collapsed": false
   },
   "outputs": [
    {
     "data": {
      "text/plain": [
       "[1, 2, 3]"
      ]
     },
     "execution_count": 205,
     "metadata": {},
     "output_type": "execute_result"
    }
   ],
   "source": [
    "xlst=map(lambda y:y[0],pts)\n",
    "xlst"
   ]
  },
  {
   "cell_type": "code",
   "execution_count": 206,
   "metadata": {
    "collapsed": false
   },
   "outputs": [
    {
     "data": {
      "text/html": [
       "<div class=\"notruncate\">\n",
       "<table  class=\"table_form\">\n",
       "<tbody>\n",
       "<tr class =\"row-a\">\n",
       "<td><script type=\"math/tex\">1</script></td>\n",
       "<td><script type=\"math/tex\">x - 1</script></td>\n",
       "<td><script type=\"math/tex\">{\\left(x - 1\\right)} {\\left(x - 2\\right)}</script></td>\n",
       "</tr>\n",
       "</tbody>\n",
       "</table>\n",
       "</div>"
      ],
      "text/plain": [
       "  1   x - 1   (x - 1)*(x - 2)"
      ]
     },
     "execution_count": 206,
     "metadata": {},
     "output_type": "execute_result"
    }
   ],
   "source": [
    "f=[1]\n",
    "for xi in xlst[:-1]:\n",
    "    f.append( f[-1]*(x-xi) )\n",
    "table(f)"
   ]
  },
  {
   "cell_type": "code",
   "execution_count": 207,
   "metadata": {
    "collapsed": false
   },
   "outputs": [
    {
     "data": {
      "text/html": [
       "<div class=\"notruncate\">\n",
       "<table  class=\"table_form\">\n",
       "<tbody>\n",
       "<tr class =\"row-a\">\n",
       "<td><script type=\"math/tex\">1</script></td>\n",
       "<td><script type=\"math/tex\">1</script></td>\n",
       "</tr>\n",
       "<tr class =\"row-b\">\n",
       "<td><script type=\"math/tex\">1</script></td>\n",
       "<td><script type=\"math/tex\">x - 1</script></td>\n",
       "</tr>\n",
       "<tr class =\"row-a\">\n",
       "<td><script type=\"math/tex\">\\frac{1}{2}</script></td>\n",
       "<td><script type=\"math/tex\">{\\left(x - 1\\right)} {\\left(x - 2\\right)}</script></td>\n",
       "</tr>\n",
       "</tbody>\n",
       "</table>\n",
       "</div>"
      ],
      "text/plain": [
       "  1     1\n",
       "  1     x - 1\n",
       "  1/2   (x - 1)*(x - 2)"
      ]
     },
     "execution_count": 207,
     "metadata": {},
     "output_type": "execute_result"
    }
   ],
   "source": [
    "table(zip(DD,f))"
   ]
  },
  {
   "cell_type": "code",
   "execution_count": 208,
   "metadata": {
    "collapsed": false
   },
   "outputs": [
    {
     "data": {
      "text/html": [
       "<html><script type=\"math/tex; mode=display\">\\newcommand{\\Bold}[1]{\\mathbf{#1}}\\frac{1}{2} \\, x^{2} - \\frac{1}{2} \\, x + 1</script></html>"
      ],
      "text/plain": [
       "1/2*x^2 - 1/2*x + 1"
      ]
     },
     "metadata": {},
     "output_type": "display_data"
    }
   ],
   "source": [
    "sum([dd*f_ for dd,f_ in zip(DD,f)]).expand().show()"
   ]
  },
  {
   "cell_type": "code",
   "execution_count": 209,
   "metadata": {
    "collapsed": false
   },
   "outputs": [
    {
     "data": {
      "text/html": [
       "<html><script type=\"math/tex; mode=display\">\\newcommand{\\Bold}[1]{\\mathbf{#1}}\\frac{1}{2} \\, x^{2} - \\frac{1}{2} \\, x + 1</script></html>"
      ],
      "text/plain": [
       "1/2*x^2 - 1/2*x + 1"
      ]
     },
     "metadata": {},
     "output_type": "display_data"
    }
   ],
   "source": [
    "DD=vector(DD)\n",
    "f=vector(f)\n",
    "f.dot_product(DD).expand().show()"
   ]
  },
  {
   "cell_type": "code",
   "execution_count": 210,
   "metadata": {
    "collapsed": false
   },
   "outputs": [
    {
     "data": {
      "text/plain": [
       "[1, 2]"
      ]
     },
     "execution_count": 210,
     "metadata": {},
     "output_type": "execute_result"
    }
   ],
   "source": [
    "xlst[:-1]"
   ]
  },
  {
   "cell_type": "code",
   "execution_count": 92,
   "metadata": {
    "collapsed": false
   },
   "outputs": [
    {
     "data": {
      "text/plain": []
     },
     "execution_count": 92,
     "metadata": {},
     "output_type": "execute_result"
    }
   ],
   "source": []
  },
  {
   "cell_type": "code",
   "execution_count": 87,
   "metadata": {
    "collapsed": false
   },
   "outputs": [
    {
     "data": {
      "text/plain": []
     },
     "execution_count": 87,
     "metadata": {},
     "output_type": "execute_result"
    }
   ],
   "source": []
  },
  {
   "cell_type": "code",
   "execution_count": 54,
   "metadata": {
    "collapsed": false
   },
   "outputs": [
    {
     "data": {
      "text/plain": []
     },
     "execution_count": 54,
     "metadata": {},
     "output_type": "execute_result"
    }
   ],
   "source": []
  },
  {
   "cell_type": "markdown",
   "metadata": {},
   "source": [
    "<h2>Praktyczne stosowanie  regresji liniowej</h2>\n",
    "<h3>find_fit - używa pakietu scipy.optimize</h3>\n",
    "<p> </p>"
   ]
  },
  {
   "cell_type": "code",
   "execution_count": 52,
   "metadata": {
    "collapsed": false
   },
   "outputs": [
    {
     "data": {
      "text/plain": []
     },
     "execution_count": 52,
     "metadata": {},
     "output_type": "execute_result"
    }
   ],
   "source": []
  },
  {
   "cell_type": "code",
   "execution_count": 211,
   "metadata": {
    "collapsed": false
   },
   "outputs": [
    {
     "data": {
      "text/plain": [
       "{b: -0.0384615384638034, a: 1.115384615384867}"
      ]
     },
     "execution_count": 211,
     "metadata": {},
     "output_type": "execute_result"
    }
   ],
   "source": [
    "var('a,b,c')\n",
    "model(x) = a*x+b\n",
    "fit = find_fit(points,model,solution_dict=True)\n",
    "fit"
   ]
  },
  {
   "cell_type": "code",
   "execution_count": 212,
   "metadata": {
    "collapsed": false
   },
   "outputs": [
    {
     "data": {
      "text/plain": [
       "x |--> 1.115384615384867*x - 0.0384615384638034"
      ]
     },
     "execution_count": 212,
     "metadata": {},
     "output_type": "execute_result"
    }
   ],
   "source": [
    "model.subs(fit)"
   ]
  },
  {
   "cell_type": "code",
   "execution_count": 213,
   "metadata": {
    "collapsed": false
   },
   "outputs": [
    {
     "data": {
      "image/png": "[encoded data removed]",
      "text/plain": [
       "Graphics object consisting of 2 graphics primitives"
      ]
     },
     "execution_count": 213,
     "metadata": {},
     "output_type": "execute_result"
    }
   ],
   "source": [
    "point(points)+plot(model.subs(fit),(x,0,10),color='red',figsize=5)"
   ]
  },
  {
   "cell_type": "code",
   "execution_count": 64,
   "metadata": {
    "collapsed": false
   },
   "outputs": [
    {
     "data": {
      "text/plain": []
     },
     "execution_count": 64,
     "metadata": {},
     "output_type": "execute_result"
    }
   ],
   "source": []
  },
  {
   "cell_type": "markdown",
   "metadata": {},
   "source": [
    "<h3>Splajny (GSL)</h3>"
   ]
  },
  {
   "cell_type": "code",
   "execution_count": 214,
   "metadata": {
    "collapsed": false
   },
   "outputs": [
    {
     "data": {
      "image/png": "[encoded data removed]",
      "text/plain": [
       "Graphics object consisting of 2 graphics primitives"
      ]
     },
     "metadata": {},
     "output_type": "display_data"
    },
    {
     "data": {
      "text/plain": [
       "[[0, 1], [2, 0], [3, 4], [5, 6]]"
      ]
     },
     "execution_count": 214,
     "metadata": {},
     "output_type": "execute_result"
    }
   ],
   "source": [
    "s = spline(points)\n",
    "show(point(points) + plot(s,1,3, hue=.8,figsize=5))\n",
    "s.list()"
   ]
  },
  {
   "cell_type": "code",
   "execution_count": 215,
   "metadata": {
    "collapsed": false
   },
   "outputs": [
    {
     "data": {
      "text/plain": [
       "[[0, 1], [2, 0], [3, 4], [5, 6]]"
      ]
     },
     "execution_count": 215,
     "metadata": {},
     "output_type": "execute_result"
    }
   ],
   "source": [
    "points"
   ]
  },
  {
   "cell_type": "code",
   "execution_count": 216,
   "metadata": {
    "collapsed": false
   },
   "outputs": [
    {
     "data": {
      "image/png": "[encoded data removed]",
      "text/plain": [
       "Graphics object consisting of 2 graphics primitives"
      ]
     },
     "metadata": {},
     "output_type": "display_data"
    },
    {
     "data": {
      "text/plain": [
       "[(0, 1),\n",
       " (1/2*sin(1) + 1, cos(1) + 1),\n",
       " (1/2*sin(2) + 2, cos(4) + 2),\n",
       " (1/2*sin(3) + 3, cos(9) + 3),\n",
       " (1/2*sin(4) + 4, cos(16) + 4),\n",
       " (1/2*sin(5) + 5, cos(25) + 5),\n",
       " (1/2*sin(6) + 6, cos(36) + 6),\n",
       " (1/2*sin(7) + 7, cos(49) + 7),\n",
       " (1/2*sin(8) + 8, cos(64) + 8),\n",
       " (1/2*sin(9) + 9, cos(81) + 9)]"
      ]
     },
     "execution_count": 216,
     "metadata": {},
     "output_type": "execute_result"
    }
   ],
   "source": [
    "v = [(i + sin(i)/2, i+cos(i^2)) for i in range(10)]\n",
    "s = spline(v)\n",
    "show(point(v) + plot(s,0,9, hue=.8,figsize=5))\n",
    "s.list()"
   ]
  },
  {
   "cell_type": "markdown",
   "metadata": {},
   "source": [
    "<h3>Bezier</h3>"
   ]
  },
  {
   "cell_type": "code",
   "execution_count": 217,
   "metadata": {
    "collapsed": false
   },
   "outputs": [
    {
     "data": {
      "image/png": "[encoded data removed]",
      "text/plain": [
       "Graphics object consisting of 2 graphics primitives"
      ]
     },
     "execution_count": 217,
     "metadata": {},
     "output_type": "execute_result"
    }
   ],
   "source": [
    "pts=[(0,0),(.15,.1),(0.7,1.6),(1,0)]\n",
    "path = [pts]\n",
    "curve = bezier_path(path, linestyle='dashed', rgbcolor='green',figsize=5)\n",
    "curve+point(pts)"
   ]
  },
  {
   "cell_type": "code",
   "execution_count": 66,
   "metadata": {
    "collapsed": false
   },
   "outputs": [
    {
     "data": {
      "text/plain": []
     },
     "execution_count": 66,
     "metadata": {},
     "output_type": "execute_result"
    }
   ],
   "source": []
  },
  {
   "cell_type": "code",
   "execution_count": null,
   "metadata": {
    "collapsed": false
   },
   "outputs": [],
   "source": []
  },
  {
   "cell_type": "code",
   "execution_count": 117,
   "metadata": {
    "collapsed": false
   },
   "outputs": [
    {
     "data": {
      "text/plain": []
     },
     "execution_count": 117,
     "metadata": {},
     "output_type": "execute_result"
    }
   ],
   "source": []
  }
 ],
 "metadata": {
  "kernelspec": {
   "display_name": "SageMath 7.3",
   "language": "",
   "name": "sagemath"
  },
  "language": "python",
  "language_info": {
   "codemirror_mode": {
    "name": "ipython",
    "version": 2
   },
   "file_extension": ".py",
   "mimetype": "text/x-python",
   "name": "python",
   "nbconvert_exporter": "python",
   "pygments_lexer": "ipython2",
   "version": "2.7.10"
  }
 },
 "nbformat": 4,
 "nbformat_minor": 1
}
