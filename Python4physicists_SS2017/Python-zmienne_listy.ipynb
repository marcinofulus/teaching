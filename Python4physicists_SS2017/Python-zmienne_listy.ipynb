{
 "cells": [
  {
   "cell_type": "markdown",
   "metadata": {
    "slideshow": {
     "slide_type": "slide"
    }
   },
   "source": [
    "## Programowanie w języku  Python  \n",
    "\n",
    "\n",
    "\n",
    "- http://mumin.pl/Skrypt_A_do_Z/\n",
    "- https://docs.python.org/3/tutorial/\n",
    "- http://books.icse.us.edu.pl/"
   ]
  },
  {
   "cell_type": "markdown",
   "metadata": {
    "slideshow": {
     "slide_type": "slide"
    }
   },
   "source": [
    "## Python \n",
    "\n",
    "<img src=\"http://upload.wikimedia.org/wikipedia/commons/thumb/6/66/Guido_van_Rossum_OSCON_2006.jpg/320px-Guido_van_Rossum_OSCON_2006.jpg\"\n",
    "align='right'> \n",
    "\n",
    "\n",
    "Język Python język programowania wysokopoziomowego, stworzony w latach 80-tych przez Guido van Rossum.\n",
    "Ideą przewodnią jest zwięzłość i czytelność kodu źródłowego.\n",
    "\n",
    "Python wspiera paradygmaty programowania:\n",
    "- imperatywny \n",
    "- objektowy\n",
    "- *funkcyjny*\n",
    "\n",
    "\n"
   ]
  },
  {
   "cell_type": "markdown",
   "metadata": {
    "slideshow": {
     "slide_type": "slide"
    }
   },
   "source": [
    "## Historia Pythona  <img src=\"http://upload.wikimedia.org/wikipedia/en/2/25/PythonProgLogo.png\" align='right'>\n",
    "- Python 1.0 - Styczeń 1994\n",
    "- Python 2.0 - Październik 16, 2000\n",
    "  - Python **2.7** - Lipiec 3, 2010\n",
    "- Python 3.0 - Grudzień 3, 2008\n",
    "  - Python **3.4** - Marzec 16, 2014\n",
    "  \n",
    "<img src=\"http://upload.wikimedia.org/wikipedia/commons/thumb/f/f8/Python_logo_and_wordmark.svg/320px-Python_logo_and_wordmark.svg.png\" align=\"left\"> \n",
    " \n"
   ]
  },
  {
   "cell_type": "code",
   "execution_count": 1,
   "metadata": {
    "collapsed": false,
    "scrolled": true,
    "slideshow": {
     "slide_type": "slide"
    }
   },
   "outputs": [
    {
     "name": "stdout",
     "output_type": "stream",
     "text": [
      "The Zen of Python, by Tim Peters\n",
      "\n",
      "Beautiful is better than ugly.\n",
      "Explicit is better than implicit.\n",
      "Simple is better than complex.\n",
      "Complex is better than complicated.\n",
      "Flat is better than nested.\n",
      "Sparse is better than dense.\n",
      "Readability counts.\n",
      "Special cases aren't special enough to break the rules.\n",
      "Although practicality beats purity.\n",
      "Errors should never pass silently.\n",
      "Unless explicitly silenced.\n",
      "In the face of ambiguity, refuse the temptation to guess.\n",
      "There should be one-- and preferably only one --obvious way to do it.\n",
      "Although that way may not be obvious at first unless you're Dutch.\n",
      "Now is better than never.\n",
      "Although never is often better than *right* now.\n",
      "If the implementation is hard to explain, it's a bad idea.\n",
      "If the implementation is easy to explain, it may be a good idea.\n",
      "Namespaces are one honking great idea -- let's do more of those!\n"
     ]
    }
   ],
   "source": [
    "import this"
   ]
  },
  {
   "cell_type": "markdown",
   "metadata": {
    "slideshow": {
     "slide_type": "slide"
    }
   },
   "source": [
    "## Cechy Pythona\n",
    "\n",
    "- W Pythonie typ posiadają  wartości, a nie zmienne, tak więc Python jest językiem z typami dynamicznymi. \n",
    "\n",
    "- Wszystkie wartości przekazywane są przez referencję.\n",
    "\n",
    "- Dla typów numerycznych zdefiniowana jest automatyczna konwersja, tak więc możliwe jest np. mnożenie liczby zespolonej przez liczbę całkowitą typu `long` bez rzutowania. "
   ]
  },
  {
   "cell_type": "markdown",
   "metadata": {
    "slideshow": {
     "slide_type": "slide"
    }
   },
   "source": [
    "## Elementy składni Pythona - literały\n",
    "\n",
    " - **Literał**  to zapis wartości stałych pewnych wbudowanych typów.  \n",
    "\n",
    "Przykłady:\n",
    "```python\n",
    "1\n",
    "1.2\n",
    "\"bleble\"\n",
    "```\n"
   ]
  },
  {
   "cell_type": "markdown",
   "metadata": {
    "slideshow": {
     "slide_type": "slide"
    }
   },
   "source": [
    "## Elementy składni Pythona - słowa kluczowe\n",
    "\n",
    "<table class=\"table table-bordered\">\n",
    "<tr><td>and</td><td>exec</td><td>not</td></tr>\n",
    "<tr><td>assert</td><td>finally</td><td>or</td></tr>\n",
    "<tr><td>break</td><td>for</td><td>pass</td></tr>\n",
    "<tr><td>class</td><td>from</td><td>print</td></tr>\n",
    "<tr><td>continue</td><td>global</td><td>raise</td></tr>\n",
    "<tr><td>def</td><td>if</td><td>return</td></tr>\n",
    "<tr><td>del</td><td>import</td><td>try</td></tr>\n",
    "<tr><td>elif</td><td>in</td><td>while</td></tr>\n",
    "<tr><td>else</td><td>is</td><td>with </td></tr>\n",
    "<tr><td>except</td><td>lambda</td><td>yield</td></tr>\n",
    "</table>\n",
    "\n"
   ]
  },
  {
   "cell_type": "markdown",
   "metadata": {
    "slideshow": {
     "slide_type": "slide"
    }
   },
   "source": [
    "## Elementy składni Pythona - operatory\n",
    "\n",
    "Następujące tokeny są operatorami:\n",
    "<P>\n",
    "<div class=\"verbatim\"><pre>\n",
    "+       -       *       **      /       //      %\n",
    "&lt;&lt;      &gt;&gt;      &amp;       |       ^       ~\n",
    "&lt;       &gt;       &lt;=      &gt;=      ==      !=      &lt;&gt;\n",
    "</pre></div>\n"
   ]
  },
  {
   "cell_type": "markdown",
   "metadata": {
    "slideshow": {
     "slide_type": "slide"
    }
   },
   "source": [
    "## Elementy składni Pythona - rozgraniczniki (*delimiters*)\n",
    "\n",
    "Następujące tokeny są rozgranicznikami:\n",
    "<div class=\"highlight-none\"><div class=\"highlight\"><pre><span></span>(       )       [       ]       {       }      @\n",
    ",       :       .       `       =       ;\n",
    "+=      -=      *=      /=      //=     %=\n",
    "&amp;=      |=      ^=      &gt;&gt;=     &lt;&lt;=     **=\n",
    "</pre></div>\n"
   ]
  },
  {
   "cell_type": "markdown",
   "metadata": {
    "slideshow": {
     "slide_type": "slide"
    }
   },
   "source": [
    "## Elementy składni Pythona - nazwy (identyfikatory)\n",
    "\n",
    "Przykłady:\n",
    "```python\n",
    "a = 12\n",
    "slowo = \"coś dobrego\"\n",
    "```\n",
    "\n"
   ]
  },
  {
   "cell_type": "markdown",
   "metadata": {
    "slideshow": {
     "slide_type": "slide"
    }
   },
   "source": [
    "## Elementy składni Pythona - komentarze\n",
    "\n",
    "Następuja linia to komentarz:\n",
    "```python\n",
    "# to jest komentarz\n",
    "# i to też\n",
    "```\n",
    "\n",
    "Uwaga: w notatniku w naturalny sposób możemy komentować kod korzytając z komórek tekstowych.\n"
   ]
  },
  {
   "cell_type": "code",
   "execution_count": 2,
   "metadata": {
    "collapsed": false,
    "slideshow": {
     "slide_type": "slide"
    }
   },
   "outputs": [
    {
     "name": "stdout",
     "output_type": "stream",
     "text": [
      "Spróbujmy sami!\n"
     ]
    }
   ],
   "source": [
    "print(\"Spróbujmy sami!\")"
   ]
  },
  {
   "cell_type": "code",
   "execution_count": null,
   "metadata": {
    "collapsed": true,
    "slideshow": {
     "slide_type": "notes"
    }
   },
   "outputs": [],
   "source": []
  },
  {
   "cell_type": "markdown",
   "metadata": {
    "slideshow": {
     "slide_type": "slide"
    }
   },
   "source": [
    "## Elementy składni Pythona\n",
    "### Typy \n",
    "\n",
    "- `bool` typ logiczny\n",
    "    True, False\n",
    "- `int`  liczba całkowita\n",
    "    1, 13\n",
    "- `ﬂoat` liczba zmiennoprzecinkowa\n",
    "    3.1415\n",
    "- `complex` liczba zespolona\n",
    "    1 + 3j\n",
    "- `str` napis (niezmienny)\n",
    "- `list` lista (zmienna zawartość i długość)\n",
    "   [2, \"Ala\", -12.32]\n",
    "- `tuple` krotka (niezmienna)\n",
    "   (2, \"Ala\", -12.32)\n",
    "- `set` zbiór (zmienny)\n",
    "   set([2, \"Ala\", -12.32])\n",
    "-  `dict` słownik (tablica asocjacyjna) (zmienny)\n",
    "    {1: \"jeden\", \"dwa\": 2}\n",
    "- `type(None)` odpowiednik null\n",
    "    None\n"
   ]
  },
  {
   "cell_type": "code",
   "execution_count": 1,
   "metadata": {
    "collapsed": false,
    "slideshow": {
     "slide_type": "slide"
    }
   },
   "outputs": [
    {
     "data": {
      "text/plain": [
       "int"
      ]
     },
     "execution_count": 1,
     "metadata": {},
     "output_type": "execute_result"
    }
   ],
   "source": [
    "type(1)"
   ]
  },
  {
   "cell_type": "markdown",
   "metadata": {
    "slideshow": {
     "slide_type": "fragment"
    }
   },
   "source": [
    "Liczba całkowita `int`, w Python 3  może być dowolnie duża."
   ]
  },
  {
   "cell_type": "markdown",
   "metadata": {
    "slideshow": {
     "slide_type": "slide"
    }
   },
   "source": [
    "## Instrukcje  sterujące\n",
    "\n",
    "### instrukcja warunkowa `if`\n",
    "\n",
    "Przykład:\n",
    "\n",
    "```python \n",
    "liczba = 12\n",
    "if liczba % 2 == 0:\n",
    "    p_czy_np = ''\n",
    "else:\n",
    "    p_czy_np = 'nie'\n",
    "    \n",
    "```"
   ]
  },
  {
   "cell_type": "code",
   "execution_count": null,
   "metadata": {
    "collapsed": true,
    "slideshow": {
     "slide_type": "slide"
    }
   },
   "outputs": [],
   "source": []
  },
  {
   "cell_type": "markdown",
   "metadata": {
    "slideshow": {
     "slide_type": "slide"
    }
   },
   "source": [
    "## Instrukcje  sterujące\n",
    "\n",
    "### pętla `for`\n",
    "\n",
    "Przykład:\n",
    "\n",
    "```python \n",
    "for i in [1,2,3,4,5]:\n",
    "    print(i)\n",
    "```"
   ]
  },
  {
   "cell_type": "code",
   "execution_count": null,
   "metadata": {
    "collapsed": true
   },
   "outputs": [],
   "source": []
  },
  {
   "cell_type": "markdown",
   "metadata": {
    "slideshow": {
     "slide_type": "slide"
    }
   },
   "source": [
    "### Moduly w Pythonie\n",
    "\n",
    "W Pythonie liblioteki zewnętrzne są zorganizowane w modułach.\n",
    "Polecenie np.:\n",
    "\n",
    "    import numpy\n",
    "\n",
    "wczytuje moduł numpy i udostępnia wszystkie jego objekty w przestrzeni nazw `numpy.`\n",
    "Można zmienić to na przykład skracając do `np`:\n",
    "\n",
    "    import numpy as np \n",
    "\n",
    "Możemy też zaimportować do bieżącej przestrzeni nazw pojedyńcze funkcje z danego modułu:\n",
    "\n",
    "    from numpy import sin,cos\n",
    "\n",
    "albo nawet wszystkie:\n",
    "\n",
    "    from numpy import *\n",
    "    \n",
    "Więcej szczegółów: https://docs.python.org/3.5/tutorial/modules.html"
   ]
  },
  {
   "cell_type": "code",
   "execution_count": 7,
   "metadata": {
    "collapsed": false,
    "slideshow": {
     "slide_type": "slide"
    }
   },
   "outputs": [
    {
     "name": "stdout",
     "output_type": "stream",
     "text": [
      "0.909297426826\n",
      "[ 0.84147098  0.90929743  0.14112001 -0.7568025 ]\n"
     ]
    }
   ],
   "source": [
    "import numpy as np \n",
    "from numpy import sin,cos\n",
    "\n",
    "print( sin(2.0))\n",
    "print( sin(np.array([1,2,3,4])))"
   ]
  },
  {
   "cell_type": "code",
   "execution_count": 8,
   "metadata": {
    "collapsed": true,
    "slideshow": {
     "slide_type": "slide"
    }
   },
   "outputs": [],
   "source": [
    "from math import sin"
   ]
  },
  {
   "cell_type": "code",
   "execution_count": null,
   "metadata": {
    "collapsed": false,
    "scrolled": false,
    "slideshow": {
     "slide_type": "slide"
    }
   },
   "outputs": [],
   "source": [
    "dir()"
   ]
  },
  {
   "cell_type": "code",
   "execution_count": null,
   "metadata": {
    "collapsed": false,
    "slideshow": {
     "slide_type": "slide"
    }
   },
   "outputs": [],
   "source": [
    "from math import *\n",
    "dir()"
   ]
  },
  {
   "cell_type": "markdown",
   "metadata": {
    "slideshow": {
     "slide_type": "slide"
    }
   },
   "source": [
    "### Help\n",
    "\n",
    "Takie polecenie działa tylko w jupyter:"
   ]
  },
  {
   "cell_type": "code",
   "execution_count": 15,
   "metadata": {
    "collapsed": true,
    "slideshow": {
     "slide_type": "fragment"
    }
   },
   "outputs": [],
   "source": [
    "atan2?"
   ]
  },
  {
   "cell_type": "markdown",
   "metadata": {
    "slideshow": {
     "slide_type": "fragment"
    }
   },
   "source": [
    "a poniższa komenda jest `buildin`-em pythonowym:"
   ]
  },
  {
   "cell_type": "code",
   "execution_count": null,
   "metadata": {
    "collapsed": false,
    "slideshow": {
     "slide_type": "fragment"
    }
   },
   "outputs": [],
   "source": [
    "help(atan2)  "
   ]
  },
  {
   "cell_type": "code",
   "execution_count": null,
   "metadata": {
    "collapsed": true,
    "slideshow": {
     "slide_type": "skip"
    }
   },
   "outputs": [],
   "source": []
  },
  {
   "cell_type": "markdown",
   "metadata": {
    "collapsed": false,
    "slideshow": {
     "slide_type": "slide"
    }
   },
   "source": [
    "### Listy\n",
    "\n",
    "Kilka funkcji, które są przydatne do pracy z listami.\n",
    "\n",
    "- len(lista) - zwraca liczbę elementów listy\n",
    "- append(x) - dodaje element x na koniec listy\n",
    "- insert(i,x) - dodaje do listy element x w miejsce o indeksie i\n",
    "- remove(x) - usuwa z listy pierwszy napotkany element x. Jeśli na -    liście nie ma elementu o wartości x, Sage wyświetli błąd.\n",
    "- pop(i) - usuwa z listy element o indeksie i, jednocześnie           zmniejszając rozmiar tablicy o 1. Jeśli wywołamy pop() bez        podawania wartości i, usuniemy ostatni element listy.\n",
    "- count(x) - zwraca liczbę wystąpień x na liście\n",
    "- sort() - sortuje elementy listy rosnąco"
   ]
  },
  {
   "cell_type": "code",
   "execution_count": 10,
   "metadata": {
    "collapsed": false,
    "slideshow": {
     "slide_type": "slide"
    }
   },
   "outputs": [
    {
     "data": {
      "text/plain": [
       "[1, 2, 3, 4]"
      ]
     },
     "execution_count": 10,
     "metadata": {},
     "output_type": "execute_result"
    }
   ],
   "source": [
    "l = [1,2,3,4]\n",
    "l "
   ]
  },
  {
   "cell_type": "code",
   "execution_count": 11,
   "metadata": {
    "collapsed": false,
    "slideshow": {
     "slide_type": "fragment"
    }
   },
   "outputs": [
    {
     "ename": "IndexError",
     "evalue": "list index out of range",
     "output_type": "error",
     "traceback": [
      "\u001b[0;31m---------------------------------------------------------------------------\u001b[0m",
      "\u001b[0;31mIndexError\u001b[0m                                Traceback (most recent call last)",
      "\u001b[0;32m<ipython-input-11-23ef5daf5560>\u001b[0m in \u001b[0;36m<module>\u001b[0;34m()\u001b[0m\n\u001b[0;32m----> 1\u001b[0;31m \u001b[0ml\u001b[0m\u001b[0;34m[\u001b[0m\u001b[0;36m4\u001b[0m\u001b[0;34m]\u001b[0m\u001b[0;34m\u001b[0m\u001b[0m\n\u001b[0m",
      "\u001b[0;31mIndexError\u001b[0m: list index out of range"
     ]
    }
   ],
   "source": [
    "l[4]"
   ]
  },
  {
   "cell_type": "code",
   "execution_count": 12,
   "metadata": {
    "collapsed": false,
    "slideshow": {
     "slide_type": "slide"
    }
   },
   "outputs": [
    {
     "name": "stdout",
     "output_type": "stream",
     "text": [
      "[1, 2, 3]\n",
      "4\n"
     ]
    }
   ],
   "source": [
    "print (l[0:3])\n",
    "print (l[3])"
   ]
  },
  {
   "cell_type": "markdown",
   "metadata": {
    "slideshow": {
     "slide_type": "slide"
    }
   },
   "source": [
    "### Iteracje po liscie:\n",
    "\n",
    "W Pythonie klasyczna pętla ``for`` jest pętlą ``for-each``, np.:"
   ]
  },
  {
   "cell_type": "code",
   "execution_count": 13,
   "metadata": {
    "collapsed": false,
    "slideshow": {
     "slide_type": "fragment"
    }
   },
   "outputs": [],
   "source": [
    "l = [1,2,33,4]"
   ]
  },
  {
   "cell_type": "code",
   "execution_count": 15,
   "metadata": {
    "collapsed": false,
    "slideshow": {
     "slide_type": "fragment"
    }
   },
   "outputs": [
    {
     "name": "stdout",
     "output_type": "stream",
     "text": [
      "1  jest na liscie [1, 2, 33, 4]\n",
      "2  jest na liscie [1, 2, 33, 4]\n",
      "33  jest na liscie [1, 2, 33, 4]\n",
      "4  jest na liscie [1, 2, 33, 4]\n"
     ]
    }
   ],
   "source": [
    "for el in l:\n"
   ]
  },
  {
   "cell_type": "markdown",
   "metadata": {
    "slideshow": {
     "slide_type": "slide"
    }
   },
   "source": [
    "Ponieważ możemy automatycznie wygenerować listę liczb całkowitych z dowolnym krokiem  (zob. ``help(range)``):"
   ]
  },
  {
   "cell_type": "code",
   "execution_count": 16,
   "metadata": {
    "collapsed": false,
    "slideshow": {
     "slide_type": "slide"
    }
   },
   "outputs": [
    {
     "data": {
      "text/plain": [
       "range(0, 10)"
      ]
     },
     "execution_count": 16,
     "metadata": {},
     "output_type": "execute_result"
    }
   ],
   "source": [
    "range(10)"
   ]
  },
  {
   "cell_type": "markdown",
   "metadata": {
    "slideshow": {
     "slide_type": "slide"
    }
   },
   "source": [
    "to można w następujący sposób tworzyć pętle znane z C, Fortranu itp.: "
   ]
  },
  {
   "cell_type": "code",
   "execution_count": 18,
   "metadata": {
    "collapsed": false,
    "slideshow": {
     "slide_type": "slide"
    }
   },
   "outputs": [
    {
     "name": "stdout",
     "output_type": "stream",
     "text": [
      "10\n",
      "12\n",
      "14\n",
      "16\n",
      "18\n"
     ]
    }
   ],
   "source": [
    "for el in range(10,20,2):\n",
    "    print (el)\n",
    "    "
   ]
  },
  {
   "cell_type": "markdown",
   "metadata": {
    "slideshow": {
     "slide_type": "slide"
    }
   },
   "source": [
    "### Odwzorowywanie list (list comprehensions)\n",
    "\n",
    "\n",
    "Warto zajrzeć do:\n",
    "\n",
    " https://docs.python.org/3.5/tutorial/datastructures.html#list-comprehensions\n",
    "  \n",
    "\n",
    "Jest to zwięzły zapis odpowiadający matematycznemu, np.:\n",
    "\n",
    "$$ a^2 \\;\\mathrm{ dla }\\; a\\in \\{1,2,3\\}$$\n"
   ]
  },
  {
   "cell_type": "code",
   "execution_count": 19,
   "metadata": {
    "collapsed": false,
    "slideshow": {
     "slide_type": "fragment"
    }
   },
   "outputs": [
    {
     "data": {
      "text/plain": [
       "[1, 4, 9]"
      ]
     },
     "execution_count": 19,
     "metadata": {},
     "output_type": "execute_result"
    }
   ],
   "source": [
    "[a**2 for a in [1,2,3]]"
   ]
  },
  {
   "cell_type": "code",
   "execution_count": 20,
   "metadata": {
    "collapsed": false,
    "slideshow": {
     "slide_type": "fragment"
    }
   },
   "outputs": [
    {
     "data": {
      "text/plain": [
       "[1, 4]"
      ]
     },
     "execution_count": 20,
     "metadata": {},
     "output_type": "execute_result"
    }
   ],
   "source": [
    "[a**2 for a in [1,2,3] if a<3]"
   ]
  },
  {
   "cell_type": "markdown",
   "metadata": {
    "slideshow": {
     "slide_type": "slide"
    }
   },
   "source": [
    "Ten sam efekt można otrzymać stosując pętle for w klasyczny sposób:"
   ]
  },
  {
   "cell_type": "code",
   "execution_count": 22,
   "metadata": {
    "collapsed": false,
    "slideshow": {
     "slide_type": "fragment"
    }
   },
   "outputs": [
    {
     "name": "stdout",
     "output_type": "stream",
     "text": [
      "[11, 22, 44]\n",
      "[121, 484, 1936]\n"
     ]
    }
   ],
   "source": [
    "l  = [11,22,44]\n",
    "print(l)\n",
    "l2 = []\n",
    "for el in l:\n",
    "    l2.append(el**2)\n",
    "print(l2)"
   ]
  },
  {
   "cell_type": "markdown",
   "metadata": {
    "slideshow": {
     "slide_type": "slide"
    }
   },
   "source": [
    "Można zagnieżdżać pętle:"
   ]
  },
  {
   "cell_type": "code",
   "execution_count": 23,
   "metadata": {
    "collapsed": false,
    "slideshow": {
     "slide_type": "fragment"
    }
   },
   "outputs": [
    {
     "data": {
      "text/plain": [
       "[(0, 1), (0, 2), (1, 0), (1, 2), (2, 0), (2, 1), (3, 0), (3, 1), (3, 2)]"
      ]
     },
     "execution_count": 23,
     "metadata": {},
     "output_type": "execute_result"
    }
   ],
   "source": [
    "[(i,j) for i in range(4) for j in range(3) if i!=j]"
   ]
  },
  {
   "cell_type": "markdown",
   "metadata": {
    "collapsed": true,
    "slideshow": {
     "slide_type": "slide"
    }
   },
   "source": [
    "### Model programowania  Map - Reduce\n",
    "\n",
    "http://en.wikipedia.org/wiki/MapReduce\n",
    "\n",
    "\n",
    "\n",
    "Python ma wbudowane funkcje umożliwiające wyrażanie zagadnienia w postaci operacji mapowania i redukcji dla danych znajdujących się na liście. \n",
    "\n"
   ]
  },
  {
   "cell_type": "code",
   "execution_count": 24,
   "metadata": {
    "collapsed": true,
    "slideshow": {
     "slide_type": "slide"
    }
   },
   "outputs": [],
   "source": [
    "def f(x):\n",
    "    return x+2"
   ]
  },
  {
   "cell_type": "code",
   "execution_count": 25,
   "metadata": {
    "collapsed": false,
    "slideshow": {
     "slide_type": "slide"
    }
   },
   "outputs": [
    {
     "data": {
      "text/plain": [
       "<map at 0x7f9ec150c6d8>"
      ]
     },
     "execution_count": 25,
     "metadata": {},
     "output_type": "execute_result"
    }
   ],
   "source": [
    "l  = [11,22,44]\n",
    "map( f, l ) "
   ]
  },
  {
   "cell_type": "code",
   "execution_count": 26,
   "metadata": {
    "collapsed": false,
    "slideshow": {
     "slide_type": "slide"
    }
   },
   "outputs": [
    {
     "data": {
      "text/plain": [
       "77"
      ]
     },
     "execution_count": 26,
     "metadata": {},
     "output_type": "execute_result"
    }
   ],
   "source": [
    "sum( l ) "
   ]
  },
  {
   "cell_type": "code",
   "execution_count": 29,
   "metadata": {
    "collapsed": false,
    "slideshow": {
     "slide_type": "slide"
    }
   },
   "outputs": [
    {
     "data": {
      "text/plain": [
       "10648"
      ]
     },
     "execution_count": 29,
     "metadata": {},
     "output_type": "execute_result"
    }
   ],
   "source": [
    "import functools \n",
    "def prod(x,y):\n",
    "    return x*y\n",
    "functools.reduce ( prod, l )"
   ]
  },
  {
   "cell_type": "code",
   "execution_count": 31,
   "metadata": {
    "collapsed": false,
    "slideshow": {
     "slide_type": "slide"
    }
   },
   "outputs": [
    {
     "name": "stdout",
     "output_type": "stream",
     "text": [
      "[11, 22, 44] 44\n"
     ]
    }
   ],
   "source": [
    "def maks(x,y):\n",
    "    return max(x,y)\n",
    "            \n",
    "print( l, functools.reduce ( maks, l ))"
   ]
  },
  {
   "cell_type": "code",
   "execution_count": 35,
   "metadata": {
    "collapsed": false,
    "slideshow": {
     "slide_type": "slide"
    }
   },
   "outputs": [
    {
     "data": {
      "text/plain": [
       "44"
      ]
     },
     "execution_count": 35,
     "metadata": {},
     "output_type": "execute_result"
    }
   ],
   "source": [
    "max(l)"
   ]
  },
  {
   "cell_type": "code",
   "execution_count": null,
   "metadata": {
    "collapsed": true
   },
   "outputs": [],
   "source": []
  }
 ],
 "metadata": {
  "celltoolbar": "Slideshow",
  "kernelspec": {
   "display_name": "Python 3",
   "language": "python",
   "name": "python3"
  },
  "language_info": {
   "codemirror_mode": {
    "name": "ipython",
    "version": 3
   },
   "file_extension": ".py",
   "mimetype": "text/x-python",
   "name": "python",
   "nbconvert_exporter": "python",
   "pygments_lexer": "ipython3",
   "version": "3.5.2"
  }
 },
 "nbformat": 4,
 "nbformat_minor": 0
}
