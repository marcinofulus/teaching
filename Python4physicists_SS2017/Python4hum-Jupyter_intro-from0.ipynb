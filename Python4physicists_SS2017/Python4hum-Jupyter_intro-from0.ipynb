{
 "cells": [
  {
   "cell_type": "markdown",
   "metadata": {
    "slideshow": {
     "slide_type": "slide"
    }
   },
   "source": [
    "# Jupyter notebook\n",
    "\n"
   ]
  },
  {
   "cell_type": "markdown",
   "metadata": {
    "slideshow": {
     "slide_type": "slide"
    }
   },
   "source": [
    "# Sposoby interakcji z programem komputerowym:\n",
    "\n",
    " - terminal tekstowy\n",
    " - GUI\n",
    " - notatnik (**NEW!**)"
   ]
  },
  {
   "cell_type": "markdown",
   "metadata": {
    "slideshow": {
     "slide_type": "slide"
    }
   },
   "source": [
    "# Jupyter\n",
    "Środowisko typu \"notatnik\"\n",
    "<img src=\"http://jupyter.org/assets/main-logo.svg\" width=\"20%\" align=\"right\">\n",
    "\n",
    "Notatnik:\n",
    "\n",
    "  - Dokument\n",
    "  - Środowisko\n",
    "  - Aplikacja \"sieciowa\"\n",
    "\n",
    "\n"
   ]
  },
  {
   "cell_type": "markdown",
   "metadata": {
    "slideshow": {
     "slide_type": "slide"
    }
   },
   "source": [
    "# Jupyterhub \n",
    "<img src=\"http://jupyter.org/assets/hublogo.svg\" width=\"50%\" align=\"right\">\n"
   ]
  },
  {
   "cell_type": "markdown",
   "metadata": {
    "slideshow": {
     "slide_type": "subslide"
    }
   },
   "source": [
    "# Jupyterhub \n",
    "\n",
    "<img src=\"figs/what_is_jupyterhub.png\"  align='center'>\n",
    "* http://www.slideshare.net/willingc/jupyterhub-a-thing-explainer-overview-66104290 *"
   ]
  },
  {
   "cell_type": "markdown",
   "metadata": {
    "slideshow": {
     "slide_type": "slide"
    }
   },
   "source": [
    "# alfa - jupyterhub @ UŚ \n",
    "\n",
    "<img src=\"http://jupyter.org/assets/hublogo.svg\" width='120px' align='right'>\n",
    "\n",
    "## **adres:** http://alfa.smcebi.us.edu.pl\n",
    "\n",
    "Wymaga współczesnej przeglądarki internetowej.\n",
    "\n",
    "\n",
    " "
   ]
  },
  {
   "cell_type": "markdown",
   "metadata": {
    "collapsed": false,
    "slideshow": {
     "slide_type": "slide"
    }
   },
   "source": [
    "# Informacje:\n",
    "\n",
    "\n",
    "- Admin: Mirosław Ziółkowski\n",
    "- strona www: **http://www.smcebi.us.edu.pl/infrastruktura-it/**\n",
    "            \n",
    "                                smcebi.edu.pl\n",
    "\n",
    "- **zmiana hasła**\n"
   ]
  },
  {
   "cell_type": "markdown",
   "metadata": {
    "slideshow": {
     "slide_type": "slide"
    }
   },
   "source": [
    "#  Jupyter notebook\n",
    "\n",
    " - komórki tekstowe (markdown cells) - [przykład](https://nbviewer.jupyter.org/github/ipython/ipython/blob/3.x/examples/IPython%20Kernel/Rich%20Output.ipynb)\n",
    " - komórki z kodem (code cells)\n",
    " - *kernel* - czyli jądro obsługuje komórki z kodem\n",
    " - lista kerneli (jąder) jest długa...."
   ]
  },
  {
   "cell_type": "markdown",
   "metadata": {
    "slideshow": {
     "slide_type": "slide"
    }
   },
   "source": [
    "## system $\\LaTeX$:\n",
    "\n",
    "\n",
    "\\begin{align}\n",
    "  \\nabla \\times \\vec{\\mathbf{B}} -\\, \\frac1c\\, \\frac{\\partial\\vec{\\mathbf{E}}}{\\partial t} & = \\frac{4\\pi}{c}\\vec{\\mathbf{j}} \\\\\n",
    "  \\nabla \\cdot \\vec{\\mathbf{E}} & = 4 \\pi \\rho \\\\\n",
    "  \\nabla \\times \\vec{\\mathbf{E}}\\, +\\, \\frac1c\\, \\frac{\\partial\\vec{\\mathbf{B}}}{\\partial t} & = \\vec{\\mathbf{0}} \\\\\n",
    "  \\nabla \\cdot \\vec{\\mathbf{B}} & = 0\n",
    "\\end{align}\n",
    "\n"
   ]
  },
  {
   "cell_type": "markdown",
   "metadata": {
    "slideshow": {
     "slide_type": "subslide"
    }
   },
   "source": [
    "# Markdown \n",
    "\n",
    "asdfa sdfa sdf adf df\n",
    "asdf asfd s\n",
    "\n",
    " - asdf asdf\n",
    " - asd fas f\n",
    " - asd fa\n",
    " \n",
    "1. a dsfa\n",
    "2. asd fa\n",
    "2. sadf asd"
   ]
  },
  {
   "cell_type": "code",
   "execution_count": null,
   "metadata": {
    "collapsed": true
   },
   "outputs": [],
   "source": []
  },
  {
   "cell_type": "code",
   "execution_count": 3,
   "metadata": {
    "collapsed": false,
    "slideshow": {
     "slide_type": "slide"
    }
   },
   "outputs": [
    {
     "name": "stdout",
     "output_type": "stream",
     "text": [
      "0\n",
      "1\n",
      "2\n",
      "3\n"
     ]
    }
   ],
   "source": [
    "for i in range(4):\n",
    "    print(i)"
   ]
  },
  {
   "cell_type": "code",
   "execution_count": 4,
   "metadata": {
    "collapsed": true,
    "slideshow": {
     "slide_type": "slide"
    }
   },
   "outputs": [],
   "source": [
    "%matplotlib notebook\n",
    "import matplotlib.pyplot as plt\n",
    "import numpy as np"
   ]
  },
  {
   "cell_type": "code",
   "execution_count": 5,
   "metadata": {
    "collapsed": false,
    "slideshow": {
     "slide_type": "subslide"
    }
   },
   "outputs": [
    {
     "data": {
      "application/javascript": [
       "/* Put everything inside the global mpl namespace */\n",
       "window.mpl = {};\n",
       "\n",
       "mpl.get_websocket_type = function() {\n",
       "    if (typeof(WebSocket) !== 'undefined') {\n",
       "        return WebSocket;\n",
       "    } else if (typeof(MozWebSocket) !== 'undefined') {\n",
       "        return MozWebSocket;\n",
       "    } else {\n",
       "        alert('Your browser does not have WebSocket support.' +\n",
       "              'Please try Chrome, Safari or Firefox ≥ 6. ' +\n",
       "              'Firefox 4 and 5 are also supported but you ' +\n",
       "              'have to enable WebSockets in about:config.');\n",
       "    };\n",
       "}\n",
       "\n",
       "mpl.figure = function(figure_id, websocket, ondownload, parent_element) {\n",
       "    this.id = figure_id;\n",
       "\n",
       "    this.ws = websocket;\n",
       "\n",
       "    this.supports_binary = (this.ws.binaryType != undefined);\n",
       "\n",
       "    if (!this.supports_binary) {\n",
       "        var warnings = document.getElementById(\"mpl-warnings\");\n",
       "        if (warnings) {\n",
       "            warnings.style.display = 'block';\n",
       "            warnings.textContent = (\n",
       "                \"This browser does not support binary websocket messages. \" +\n",
       "                    \"Performance may be slow.\");\n",
       "        }\n",
       "    }\n",
       "\n",
       "    this.imageObj = new Image();\n",
       "\n",
       "    this.context = undefined;\n",
       "    this.message = undefined;\n",
       "    this.canvas = undefined;\n",
       "    this.rubberband_canvas = undefined;\n",
       "    this.rubberband_context = undefined;\n",
       "    this.format_dropdown = undefined;\n",
       "\n",
       "    this.image_mode = 'full';\n",
       "\n",
       "    this.root = $('<div/>');\n",
       "    this._root_extra_style(this.root)\n",
       "    this.root.attr('style', 'display: inline-block');\n",
       "\n",
       "    $(parent_element).append(this.root);\n",
       "\n",
       "    this._init_header(this);\n",
       "    this._init_canvas(this);\n",
       "    this._init_toolbar(this);\n",
       "\n",
       "    var fig = this;\n",
       "\n",
       "    this.waiting = false;\n",
       "\n",
       "    this.ws.onopen =  function () {\n",
       "            fig.send_message(\"supports_binary\", {value: fig.supports_binary});\n",
       "            fig.send_message(\"send_image_mode\", {});\n",
       "            fig.send_message(\"refresh\", {});\n",
       "        }\n",
       "\n",
       "    this.imageObj.onload = function() {\n",
       "            if (fig.image_mode == 'full') {\n",
       "                // Full images could contain transparency (where diff images\n",
       "                // almost always do), so we need to clear the canvas so that\n",
       "                // there is no ghosting.\n",
       "                fig.context.clearRect(0, 0, fig.canvas.width, fig.canvas.height);\n",
       "            }\n",
       "            fig.context.drawImage(fig.imageObj, 0, 0);\n",
       "        };\n",
       "\n",
       "    this.imageObj.onunload = function() {\n",
       "        this.ws.close();\n",
       "    }\n",
       "\n",
       "    this.ws.onmessage = this._make_on_message_function(this);\n",
       "\n",
       "    this.ondownload = ondownload;\n",
       "}\n",
       "\n",
       "mpl.figure.prototype._init_header = function() {\n",
       "    var titlebar = $(\n",
       "        '<div class=\"ui-dialog-titlebar ui-widget-header ui-corner-all ' +\n",
       "        'ui-helper-clearfix\"/>');\n",
       "    var titletext = $(\n",
       "        '<div class=\"ui-dialog-title\" style=\"width: 100%; ' +\n",
       "        'text-align: center; padding: 3px;\"/>');\n",
       "    titlebar.append(titletext)\n",
       "    this.root.append(titlebar);\n",
       "    this.header = titletext[0];\n",
       "}\n",
       "\n",
       "\n",
       "\n",
       "mpl.figure.prototype._canvas_extra_style = function(canvas_div) {\n",
       "\n",
       "}\n",
       "\n",
       "\n",
       "mpl.figure.prototype._root_extra_style = function(canvas_div) {\n",
       "\n",
       "}\n",
       "\n",
       "mpl.figure.prototype._init_canvas = function() {\n",
       "    var fig = this;\n",
       "\n",
       "    var canvas_div = $('<div/>');\n",
       "\n",
       "    canvas_div.attr('style', 'position: relative; clear: both; outline: 0');\n",
       "\n",
       "    function canvas_keyboard_event(event) {\n",
       "        return fig.key_event(event, event['data']);\n",
       "    }\n",
       "\n",
       "    canvas_div.keydown('key_press', canvas_keyboard_event);\n",
       "    canvas_div.keyup('key_release', canvas_keyboard_event);\n",
       "    this.canvas_div = canvas_div\n",
       "    this._canvas_extra_style(canvas_div)\n",
       "    this.root.append(canvas_div);\n",
       "\n",
       "    var canvas = $('<canvas/>');\n",
       "    canvas.addClass('mpl-canvas');\n",
       "    canvas.attr('style', \"left: 0; top: 0; z-index: 0; outline: 0\")\n",
       "\n",
       "    this.canvas = canvas[0];\n",
       "    this.context = canvas[0].getContext(\"2d\");\n",
       "\n",
       "    var rubberband = $('<canvas/>');\n",
       "    rubberband.attr('style', \"position: absolute; left: 0; top: 0; z-index: 1;\")\n",
       "\n",
       "    var pass_mouse_events = true;\n",
       "\n",
       "    canvas_div.resizable({\n",
       "        start: function(event, ui) {\n",
       "            pass_mouse_events = false;\n",
       "        },\n",
       "        resize: function(event, ui) {\n",
       "            fig.request_resize(ui.size.width, ui.size.height);\n",
       "        },\n",
       "        stop: function(event, ui) {\n",
       "            pass_mouse_events = true;\n",
       "            fig.request_resize(ui.size.width, ui.size.height);\n",
       "        },\n",
       "    });\n",
       "\n",
       "    function mouse_event_fn(event) {\n",
       "        if (pass_mouse_events)\n",
       "            return fig.mouse_event(event, event['data']);\n",
       "    }\n",
       "\n",
       "    rubberband.mousedown('button_press', mouse_event_fn);\n",
       "    rubberband.mouseup('button_release', mouse_event_fn);\n",
       "    // Throttle sequential mouse events to 1 every 20ms.\n",
       "    rubberband.mousemove('motion_notify', mouse_event_fn);\n",
       "\n",
       "    rubberband.mouseenter('figure_enter', mouse_event_fn);\n",
       "    rubberband.mouseleave('figure_leave', mouse_event_fn);\n",
       "\n",
       "    canvas_div.on(\"wheel\", function (event) {\n",
       "        event = event.originalEvent;\n",
       "        event['data'] = 'scroll'\n",
       "        if (event.deltaY < 0) {\n",
       "            event.step = 1;\n",
       "        } else {\n",
       "            event.step = -1;\n",
       "        }\n",
       "        mouse_event_fn(event);\n",
       "    });\n",
       "\n",
       "    canvas_div.append(canvas);\n",
       "    canvas_div.append(rubberband);\n",
       "\n",
       "    this.rubberband = rubberband;\n",
       "    this.rubberband_canvas = rubberband[0];\n",
       "    this.rubberband_context = rubberband[0].getContext(\"2d\");\n",
       "    this.rubberband_context.strokeStyle = \"#000000\";\n",
       "\n",
       "    this._resize_canvas = function(width, height) {\n",
       "        // Keep the size of the canvas, canvas container, and rubber band\n",
       "        // canvas in synch.\n",
       "        canvas_div.css('width', width)\n",
       "        canvas_div.css('height', height)\n",
       "\n",
       "        canvas.attr('width', width);\n",
       "        canvas.attr('height', height);\n",
       "\n",
       "        rubberband.attr('width', width);\n",
       "        rubberband.attr('height', height);\n",
       "    }\n",
       "\n",
       "    // Set the figure to an initial 600x600px, this will subsequently be updated\n",
       "    // upon first draw.\n",
       "    this._resize_canvas(600, 600);\n",
       "\n",
       "    // Disable right mouse context menu.\n",
       "    $(this.rubberband_canvas).bind(\"contextmenu\",function(e){\n",
       "        return false;\n",
       "    });\n",
       "\n",
       "    function set_focus () {\n",
       "        canvas.focus();\n",
       "        canvas_div.focus();\n",
       "    }\n",
       "\n",
       "    window.setTimeout(set_focus, 100);\n",
       "}\n",
       "\n",
       "mpl.figure.prototype._init_toolbar = function() {\n",
       "    var fig = this;\n",
       "\n",
       "    var nav_element = $('<div/>')\n",
       "    nav_element.attr('style', 'width: 100%');\n",
       "    this.root.append(nav_element);\n",
       "\n",
       "    // Define a callback function for later on.\n",
       "    function toolbar_event(event) {\n",
       "        return fig.toolbar_button_onclick(event['data']);\n",
       "    }\n",
       "    function toolbar_mouse_event(event) {\n",
       "        return fig.toolbar_button_onmouseover(event['data']);\n",
       "    }\n",
       "\n",
       "    for(var toolbar_ind in mpl.toolbar_items) {\n",
       "        var name = mpl.toolbar_items[toolbar_ind][0];\n",
       "        var tooltip = mpl.toolbar_items[toolbar_ind][1];\n",
       "        var image = mpl.toolbar_items[toolbar_ind][2];\n",
       "        var method_name = mpl.toolbar_items[toolbar_ind][3];\n",
       "\n",
       "        if (!name) {\n",
       "            // put a spacer in here.\n",
       "            continue;\n",
       "        }\n",
       "        var button = $('<button/>');\n",
       "        button.addClass('ui-button ui-widget ui-state-default ui-corner-all ' +\n",
       "                        'ui-button-icon-only');\n",
       "        button.attr('role', 'button');\n",
       "        button.attr('aria-disabled', 'false');\n",
       "        button.click(method_name, toolbar_event);\n",
       "        button.mouseover(tooltip, toolbar_mouse_event);\n",
       "\n",
       "        var icon_img = $('<span/>');\n",
       "        icon_img.addClass('ui-button-icon-primary ui-icon');\n",
       "        icon_img.addClass(image);\n",
       "        icon_img.addClass('ui-corner-all');\n",
       "\n",
       "        var tooltip_span = $('<span/>');\n",
       "        tooltip_span.addClass('ui-button-text');\n",
       "        tooltip_span.html(tooltip);\n",
       "\n",
       "        button.append(icon_img);\n",
       "        button.append(tooltip_span);\n",
       "\n",
       "        nav_element.append(button);\n",
       "    }\n",
       "\n",
       "    var fmt_picker_span = $('<span/>');\n",
       "\n",
       "    var fmt_picker = $('<select/>');\n",
       "    fmt_picker.addClass('mpl-toolbar-option ui-widget ui-widget-content');\n",
       "    fmt_picker_span.append(fmt_picker);\n",
       "    nav_element.append(fmt_picker_span);\n",
       "    this.format_dropdown = fmt_picker[0];\n",
       "\n",
       "    for (var ind in mpl.extensions) {\n",
       "        var fmt = mpl.extensions[ind];\n",
       "        var option = $(\n",
       "            '<option/>', {selected: fmt === mpl.default_extension}).html(fmt);\n",
       "        fmt_picker.append(option)\n",
       "    }\n",
       "\n",
       "    // Add hover states to the ui-buttons\n",
       "    $( \".ui-button\" ).hover(\n",
       "        function() { $(this).addClass(\"ui-state-hover\");},\n",
       "        function() { $(this).removeClass(\"ui-state-hover\");}\n",
       "    );\n",
       "\n",
       "    var status_bar = $('<span class=\"mpl-message\"/>');\n",
       "    nav_element.append(status_bar);\n",
       "    this.message = status_bar[0];\n",
       "}\n",
       "\n",
       "mpl.figure.prototype.request_resize = function(x_pixels, y_pixels) {\n",
       "    // Request matplotlib to resize the figure. Matplotlib will then trigger a resize in the client,\n",
       "    // which will in turn request a refresh of the image.\n",
       "    this.send_message('resize', {'width': x_pixels, 'height': y_pixels});\n",
       "}\n",
       "\n",
       "mpl.figure.prototype.send_message = function(type, properties) {\n",
       "    properties['type'] = type;\n",
       "    properties['figure_id'] = this.id;\n",
       "    this.ws.send(JSON.stringify(properties));\n",
       "}\n",
       "\n",
       "mpl.figure.prototype.send_draw_message = function() {\n",
       "    if (!this.waiting) {\n",
       "        this.waiting = true;\n",
       "        this.ws.send(JSON.stringify({type: \"draw\", figure_id: this.id}));\n",
       "    }\n",
       "}\n",
       "\n",
       "\n",
       "mpl.figure.prototype.handle_save = function(fig, msg) {\n",
       "    var format_dropdown = fig.format_dropdown;\n",
       "    var format = format_dropdown.options[format_dropdown.selectedIndex].value;\n",
       "    fig.ondownload(fig, format);\n",
       "}\n",
       "\n",
       "\n",
       "mpl.figure.prototype.handle_resize = function(fig, msg) {\n",
       "    var size = msg['size'];\n",
       "    if (size[0] != fig.canvas.width || size[1] != fig.canvas.height) {\n",
       "        fig._resize_canvas(size[0], size[1]);\n",
       "        fig.send_message(\"refresh\", {});\n",
       "    };\n",
       "}\n",
       "\n",
       "mpl.figure.prototype.handle_rubberband = function(fig, msg) {\n",
       "    var x0 = msg['x0'];\n",
       "    var y0 = fig.canvas.height - msg['y0'];\n",
       "    var x1 = msg['x1'];\n",
       "    var y1 = fig.canvas.height - msg['y1'];\n",
       "    x0 = Math.floor(x0) + 0.5;\n",
       "    y0 = Math.floor(y0) + 0.5;\n",
       "    x1 = Math.floor(x1) + 0.5;\n",
       "    y1 = Math.floor(y1) + 0.5;\n",
       "    var min_x = Math.min(x0, x1);\n",
       "    var min_y = Math.min(y0, y1);\n",
       "    var width = Math.abs(x1 - x0);\n",
       "    var height = Math.abs(y1 - y0);\n",
       "\n",
       "    fig.rubberband_context.clearRect(\n",
       "        0, 0, fig.canvas.width, fig.canvas.height);\n",
       "\n",
       "    fig.rubberband_context.strokeRect(min_x, min_y, width, height);\n",
       "}\n",
       "\n",
       "mpl.figure.prototype.handle_figure_label = function(fig, msg) {\n",
       "    // Updates the figure title.\n",
       "    fig.header.textContent = msg['label'];\n",
       "}\n",
       "\n",
       "mpl.figure.prototype.handle_cursor = function(fig, msg) {\n",
       "    var cursor = msg['cursor'];\n",
       "    switch(cursor)\n",
       "    {\n",
       "    case 0:\n",
       "        cursor = 'pointer';\n",
       "        break;\n",
       "    case 1:\n",
       "        cursor = 'default';\n",
       "        break;\n",
       "    case 2:\n",
       "        cursor = 'crosshair';\n",
       "        break;\n",
       "    case 3:\n",
       "        cursor = 'move';\n",
       "        break;\n",
       "    }\n",
       "    fig.rubberband_canvas.style.cursor = cursor;\n",
       "}\n",
       "\n",
       "mpl.figure.prototype.handle_message = function(fig, msg) {\n",
       "    fig.message.textContent = msg['message'];\n",
       "}\n",
       "\n",
       "mpl.figure.prototype.handle_draw = function(fig, msg) {\n",
       "    // Request the server to send over a new figure.\n",
       "    fig.send_draw_message();\n",
       "}\n",
       "\n",
       "mpl.figure.prototype.handle_image_mode = function(fig, msg) {\n",
       "    fig.image_mode = msg['mode'];\n",
       "}\n",
       "\n",
       "mpl.figure.prototype.updated_canvas_event = function() {\n",
       "    // Called whenever the canvas gets updated.\n",
       "    this.send_message(\"ack\", {});\n",
       "}\n",
       "\n",
       "// A function to construct a web socket function for onmessage handling.\n",
       "// Called in the figure constructor.\n",
       "mpl.figure.prototype._make_on_message_function = function(fig) {\n",
       "    return function socket_on_message(evt) {\n",
       "        if (evt.data instanceof Blob) {\n",
       "            /* FIXME: We get \"Resource interpreted as Image but\n",
       "             * transferred with MIME type text/plain:\" errors on\n",
       "             * Chrome.  But how to set the MIME type?  It doesn't seem\n",
       "             * to be part of the websocket stream */\n",
       "            evt.data.type = \"image/png\";\n",
       "\n",
       "            /* Free the memory for the previous frames */\n",
       "            if (fig.imageObj.src) {\n",
       "                (window.URL || window.webkitURL).revokeObjectURL(\n",
       "                    fig.imageObj.src);\n",
       "            }\n",
       "\n",
       "            fig.imageObj.src = (window.URL || window.webkitURL).createObjectURL(\n",
       "                evt.data);\n",
       "            fig.updated_canvas_event();\n",
       "            fig.waiting = false;\n",
       "            return;\n",
       "        }\n",
       "        else if (typeof evt.data === 'string' && evt.data.slice(0, 21) == \"data:image/png;base64\") {\n",
       "            fig.imageObj.src = evt.data;\n",
       "            fig.updated_canvas_event();\n",
       "            fig.waiting = false;\n",
       "            return;\n",
       "        }\n",
       "\n",
       "        var msg = JSON.parse(evt.data);\n",
       "        var msg_type = msg['type'];\n",
       "\n",
       "        // Call the  \"handle_{type}\" callback, which takes\n",
       "        // the figure and JSON message as its only arguments.\n",
       "        try {\n",
       "            var callback = fig[\"handle_\" + msg_type];\n",
       "        } catch (e) {\n",
       "            console.log(\"No handler for the '\" + msg_type + \"' message type: \", msg);\n",
       "            return;\n",
       "        }\n",
       "\n",
       "        if (callback) {\n",
       "            try {\n",
       "                // console.log(\"Handling '\" + msg_type + \"' message: \", msg);\n",
       "                callback(fig, msg);\n",
       "            } catch (e) {\n",
       "                console.log(\"Exception inside the 'handler_\" + msg_type + \"' callback:\", e, e.stack, msg);\n",
       "            }\n",
       "        }\n",
       "    };\n",
       "}\n",
       "\n",
       "// from http://stackoverflow.com/questions/1114465/getting-mouse-location-in-canvas\n",
       "mpl.findpos = function(e) {\n",
       "    //this section is from http://www.quirksmode.org/js/events_properties.html\n",
       "    var targ;\n",
       "    if (!e)\n",
       "        e = window.event;\n",
       "    if (e.target)\n",
       "        targ = e.target;\n",
       "    else if (e.srcElement)\n",
       "        targ = e.srcElement;\n",
       "    if (targ.nodeType == 3) // defeat Safari bug\n",
       "        targ = targ.parentNode;\n",
       "\n",
       "    // jQuery normalizes the pageX and pageY\n",
       "    // pageX,Y are the mouse positions relative to the document\n",
       "    // offset() returns the position of the element relative to the document\n",
       "    var x = e.pageX - $(targ).offset().left;\n",
       "    var y = e.pageY - $(targ).offset().top;\n",
       "\n",
       "    return {\"x\": x, \"y\": y};\n",
       "};\n",
       "\n",
       "/*\n",
       " * return a copy of an object with only non-object keys\n",
       " * we need this to avoid circular references\n",
       " * http://stackoverflow.com/a/24161582/3208463\n",
       " */\n",
       "function simpleKeys (original) {\n",
       "  return Object.keys(original).reduce(function (obj, key) {\n",
       "    if (typeof original[key] !== 'object')\n",
       "        obj[key] = original[key]\n",
       "    return obj;\n",
       "  }, {});\n",
       "}\n",
       "\n",
       "mpl.figure.prototype.mouse_event = function(event, name) {\n",
       "    var canvas_pos = mpl.findpos(event)\n",
       "\n",
       "    if (name === 'button_press')\n",
       "    {\n",
       "        this.canvas.focus();\n",
       "        this.canvas_div.focus();\n",
       "    }\n",
       "\n",
       "    var x = canvas_pos.x;\n",
       "    var y = canvas_pos.y;\n",
       "\n",
       "    this.send_message(name, {x: x, y: y, button: event.button,\n",
       "                             step: event.step,\n",
       "                             guiEvent: simpleKeys(event)});\n",
       "\n",
       "    /* This prevents the web browser from automatically changing to\n",
       "     * the text insertion cursor when the button is pressed.  We want\n",
       "     * to control all of the cursor setting manually through the\n",
       "     * 'cursor' event from matplotlib */\n",
       "    event.preventDefault();\n",
       "    return false;\n",
       "}\n",
       "\n",
       "mpl.figure.prototype._key_event_extra = function(event, name) {\n",
       "    // Handle any extra behaviour associated with a key event\n",
       "}\n",
       "\n",
       "mpl.figure.prototype.key_event = function(event, name) {\n",
       "\n",
       "    // Prevent repeat events\n",
       "    if (name == 'key_press')\n",
       "    {\n",
       "        if (event.which === this._key)\n",
       "            return;\n",
       "        else\n",
       "            this._key = event.which;\n",
       "    }\n",
       "    if (name == 'key_release')\n",
       "        this._key = null;\n",
       "\n",
       "    var value = '';\n",
       "    if (event.ctrlKey && event.which != 17)\n",
       "        value += \"ctrl+\";\n",
       "    if (event.altKey && event.which != 18)\n",
       "        value += \"alt+\";\n",
       "    if (event.shiftKey && event.which != 16)\n",
       "        value += \"shift+\";\n",
       "\n",
       "    value += 'k';\n",
       "    value += event.which.toString();\n",
       "\n",
       "    this._key_event_extra(event, name);\n",
       "\n",
       "    this.send_message(name, {key: value,\n",
       "                             guiEvent: simpleKeys(event)});\n",
       "    return false;\n",
       "}\n",
       "\n",
       "mpl.figure.prototype.toolbar_button_onclick = function(name) {\n",
       "    if (name == 'download') {\n",
       "        this.handle_save(this, null);\n",
       "    } else {\n",
       "        this.send_message(\"toolbar_button\", {name: name});\n",
       "    }\n",
       "};\n",
       "\n",
       "mpl.figure.prototype.toolbar_button_onmouseover = function(tooltip) {\n",
       "    this.message.textContent = tooltip;\n",
       "};\n",
       "mpl.toolbar_items = [[\"Home\", \"Reset original view\", \"fa fa-home icon-home\", \"home\"], [\"Back\", \"Back to  previous view\", \"fa fa-arrow-left icon-arrow-left\", \"back\"], [\"Forward\", \"Forward to next view\", \"fa fa-arrow-right icon-arrow-right\", \"forward\"], [\"\", \"\", \"\", \"\"], [\"Pan\", \"Pan axes with left mouse, zoom with right\", \"fa fa-arrows icon-move\", \"pan\"], [\"Zoom\", \"Zoom to rectangle\", \"fa fa-square-o icon-check-empty\", \"zoom\"], [\"\", \"\", \"\", \"\"], [\"Download\", \"Download plot\", \"fa fa-floppy-o icon-save\", \"download\"]];\n",
       "\n",
       "mpl.extensions = [\"eps\", \"jpeg\", \"pdf\", \"png\", \"ps\", \"raw\", \"svg\", \"tif\"];\n",
       "\n",
       "mpl.default_extension = \"png\";var comm_websocket_adapter = function(comm) {\n",
       "    // Create a \"websocket\"-like object which calls the given IPython comm\n",
       "    // object with the appropriate methods. Currently this is a non binary\n",
       "    // socket, so there is still some room for performance tuning.\n",
       "    var ws = {};\n",
       "\n",
       "    ws.close = function() {\n",
       "        comm.close()\n",
       "    };\n",
       "    ws.send = function(m) {\n",
       "        //console.log('sending', m);\n",
       "        comm.send(m);\n",
       "    };\n",
       "    // Register the callback with on_msg.\n",
       "    comm.on_msg(function(msg) {\n",
       "        //console.log('receiving', msg['content']['data'], msg);\n",
       "        // Pass the mpl event to the overriden (by mpl) onmessage function.\n",
       "        ws.onmessage(msg['content']['data'])\n",
       "    });\n",
       "    return ws;\n",
       "}\n",
       "\n",
       "mpl.mpl_figure_comm = function(comm, msg) {\n",
       "    // This is the function which gets called when the mpl process\n",
       "    // starts-up an IPython Comm through the \"matplotlib\" channel.\n",
       "\n",
       "    var id = msg.content.data.id;\n",
       "    // Get hold of the div created by the display call when the Comm\n",
       "    // socket was opened in Python.\n",
       "    var element = $(\"#\" + id);\n",
       "    var ws_proxy = comm_websocket_adapter(comm)\n",
       "\n",
       "    function ondownload(figure, format) {\n",
       "        window.open(figure.imageObj.src);\n",
       "    }\n",
       "\n",
       "    var fig = new mpl.figure(id, ws_proxy,\n",
       "                           ondownload,\n",
       "                           element.get(0));\n",
       "\n",
       "    // Call onopen now - mpl needs it, as it is assuming we've passed it a real\n",
       "    // web socket which is closed, not our websocket->open comm proxy.\n",
       "    ws_proxy.onopen();\n",
       "\n",
       "    fig.parent_element = element.get(0);\n",
       "    fig.cell_info = mpl.find_output_cell(\"<div id='\" + id + \"'></div>\");\n",
       "    if (!fig.cell_info) {\n",
       "        console.error(\"Failed to find cell for figure\", id, fig);\n",
       "        return;\n",
       "    }\n",
       "\n",
       "    var output_index = fig.cell_info[2]\n",
       "    var cell = fig.cell_info[0];\n",
       "\n",
       "};\n",
       "\n",
       "mpl.figure.prototype.handle_close = function(fig, msg) {\n",
       "    fig.root.unbind('remove')\n",
       "\n",
       "    // Update the output cell to use the data from the current canvas.\n",
       "    fig.push_to_output();\n",
       "    var dataURL = fig.canvas.toDataURL();\n",
       "    // Re-enable the keyboard manager in IPython - without this line, in FF,\n",
       "    // the notebook keyboard shortcuts fail.\n",
       "    IPython.keyboard_manager.enable()\n",
       "    $(fig.parent_element).html('<img src=\"' + dataURL + '\">');\n",
       "    fig.close_ws(fig, msg);\n",
       "}\n",
       "\n",
       "mpl.figure.prototype.close_ws = function(fig, msg){\n",
       "    fig.send_message('closing', msg);\n",
       "    // fig.ws.close()\n",
       "}\n",
       "\n",
       "mpl.figure.prototype.push_to_output = function(remove_interactive) {\n",
       "    // Turn the data on the canvas into data in the output cell.\n",
       "    var dataURL = this.canvas.toDataURL();\n",
       "    this.cell_info[1]['text/html'] = '<img src=\"' + dataURL + '\">';\n",
       "}\n",
       "\n",
       "mpl.figure.prototype.updated_canvas_event = function() {\n",
       "    // Tell IPython that the notebook contents must change.\n",
       "    IPython.notebook.set_dirty(true);\n",
       "    this.send_message(\"ack\", {});\n",
       "    var fig = this;\n",
       "    // Wait a second, then push the new image to the DOM so\n",
       "    // that it is saved nicely (might be nice to debounce this).\n",
       "    setTimeout(function () { fig.push_to_output() }, 1000);\n",
       "}\n",
       "\n",
       "mpl.figure.prototype._init_toolbar = function() {\n",
       "    var fig = this;\n",
       "\n",
       "    var nav_element = $('<div/>')\n",
       "    nav_element.attr('style', 'width: 100%');\n",
       "    this.root.append(nav_element);\n",
       "\n",
       "    // Define a callback function for later on.\n",
       "    function toolbar_event(event) {\n",
       "        return fig.toolbar_button_onclick(event['data']);\n",
       "    }\n",
       "    function toolbar_mouse_event(event) {\n",
       "        return fig.toolbar_button_onmouseover(event['data']);\n",
       "    }\n",
       "\n",
       "    for(var toolbar_ind in mpl.toolbar_items){\n",
       "        var name = mpl.toolbar_items[toolbar_ind][0];\n",
       "        var tooltip = mpl.toolbar_items[toolbar_ind][1];\n",
       "        var image = mpl.toolbar_items[toolbar_ind][2];\n",
       "        var method_name = mpl.toolbar_items[toolbar_ind][3];\n",
       "\n",
       "        if (!name) { continue; };\n",
       "\n",
       "        var button = $('<button class=\"btn btn-default\" href=\"#\" title=\"' + name + '\"><i class=\"fa ' + image + ' fa-lg\"></i></button>');\n",
       "        button.click(method_name, toolbar_event);\n",
       "        button.mouseover(tooltip, toolbar_mouse_event);\n",
       "        nav_element.append(button);\n",
       "    }\n",
       "\n",
       "    // Add the status bar.\n",
       "    var status_bar = $('<span class=\"mpl-message\" style=\"text-align:right; float: right;\"/>');\n",
       "    nav_element.append(status_bar);\n",
       "    this.message = status_bar[0];\n",
       "\n",
       "    // Add the close button to the window.\n",
       "    var buttongrp = $('<div class=\"btn-group inline pull-right\"></div>');\n",
       "    var button = $('<button class=\"btn btn-mini btn-primary\" href=\"#\" title=\"Stop Interaction\"><i class=\"fa fa-power-off icon-remove icon-large\"></i></button>');\n",
       "    button.click(function (evt) { fig.handle_close(fig, {}); } );\n",
       "    button.mouseover('Stop Interaction', toolbar_mouse_event);\n",
       "    buttongrp.append(button);\n",
       "    var titlebar = this.root.find($('.ui-dialog-titlebar'));\n",
       "    titlebar.prepend(buttongrp);\n",
       "}\n",
       "\n",
       "mpl.figure.prototype._root_extra_style = function(el){\n",
       "    var fig = this\n",
       "    el.on(\"remove\", function(){\n",
       "\tfig.close_ws(fig, {});\n",
       "    });\n",
       "}\n",
       "\n",
       "mpl.figure.prototype._canvas_extra_style = function(el){\n",
       "    // this is important to make the div 'focusable\n",
       "    el.attr('tabindex', 0)\n",
       "    // reach out to IPython and tell the keyboard manager to turn it's self\n",
       "    // off when our div gets focus\n",
       "\n",
       "    // location in version 3\n",
       "    if (IPython.notebook.keyboard_manager) {\n",
       "        IPython.notebook.keyboard_manager.register_events(el);\n",
       "    }\n",
       "    else {\n",
       "        // location in version 2\n",
       "        IPython.keyboard_manager.register_events(el);\n",
       "    }\n",
       "\n",
       "}\n",
       "\n",
       "mpl.figure.prototype._key_event_extra = function(event, name) {\n",
       "    var manager = IPython.notebook.keyboard_manager;\n",
       "    if (!manager)\n",
       "        manager = IPython.keyboard_manager;\n",
       "\n",
       "    // Check for shift+enter\n",
       "    if (event.shiftKey && event.which == 13) {\n",
       "        this.canvas_div.blur();\n",
       "        // select the cell after this one\n",
       "        var index = IPython.notebook.find_cell_index(this.cell_info[0]);\n",
       "        IPython.notebook.select(index + 1);\n",
       "    }\n",
       "}\n",
       "\n",
       "mpl.figure.prototype.handle_save = function(fig, msg) {\n",
       "    fig.ondownload(fig, null);\n",
       "}\n",
       "\n",
       "\n",
       "mpl.find_output_cell = function(html_output) {\n",
       "    // Return the cell and output element which can be found *uniquely* in the notebook.\n",
       "    // Note - this is a bit hacky, but it is done because the \"notebook_saving.Notebook\"\n",
       "    // IPython event is triggered only after the cells have been serialised, which for\n",
       "    // our purposes (turning an active figure into a static one), is too late.\n",
       "    var cells = IPython.notebook.get_cells();\n",
       "    var ncells = cells.length;\n",
       "    for (var i=0; i<ncells; i++) {\n",
       "        var cell = cells[i];\n",
       "        if (cell.cell_type === 'code'){\n",
       "            for (var j=0; j<cell.output_area.outputs.length; j++) {\n",
       "                var data = cell.output_area.outputs[j];\n",
       "                if (data.data) {\n",
       "                    // IPython >= 3 moved mimebundle to data attribute of output\n",
       "                    data = data.data;\n",
       "                }\n",
       "                if (data['text/html'] == html_output) {\n",
       "                    return [cell, data, j];\n",
       "                }\n",
       "            }\n",
       "        }\n",
       "    }\n",
       "}\n",
       "\n",
       "// Register the function which deals with the matplotlib target/channel.\n",
       "// The kernel may be null if the page has been refreshed.\n",
       "if (IPython.notebook.kernel != null) {\n",
       "    IPython.notebook.kernel.comm_manager.register_target('matplotlib', mpl.mpl_figure_comm);\n",
       "}\n"
      ],
      "text/plain": [
       "<IPython.core.display.Javascript object>"
      ]
     },
     "metadata": {},
     "output_type": "display_data"
    },
    {
     "data": {
      "text/html": [
       "<img src=\"data:image/png;base64,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\">"
      ],
      "text/plain": [
       "<IPython.core.display.HTML object>"
      ]
     },
     "metadata": {},
     "output_type": "display_data"
    },
    {
     "data": {
      "text/plain": [
       "[<matplotlib.lines.Line2D at 0x7fcdb69d2748>]"
      ]
     },
     "execution_count": 5,
     "metadata": {},
     "output_type": "execute_result"
    }
   ],
   "source": [
    "X = np.linspace(-np.pi, np.pi, 656)\n",
    "F = np.sin(1/(X**2+0.07))\n",
    "plt.plot(X,F)"
   ]
  },
  {
   "cell_type": "markdown",
   "metadata": {
    "slideshow": {
     "slide_type": "slide"
    }
   },
   "source": [
    "# widgets"
   ]
  },
  {
   "cell_type": "code",
   "execution_count": 9,
   "metadata": {
    "collapsed": false,
    "slideshow": {
     "slide_type": "fragment"
    }
   },
   "outputs": [
    {
     "name": "stdout",
     "output_type": "stream",
     "text": [
      "7\n"
     ]
    }
   ],
   "source": [
    "from ipywidgets import interact\n",
    "def f(x):\n",
    "    print(x)\n",
    "\n",
    "interact(f, x=10);"
   ]
  },
  {
   "cell_type": "code",
   "execution_count": 22,
   "metadata": {
    "collapsed": false,
    "slideshow": {
     "slide_type": "slide"
    }
   },
   "outputs": [],
   "source": [
    "from ipywidgets import widgets\n",
    "w = widgets.IntSlider(min=0,max=10,value=3,step=1,width=\"430px\")"
   ]
  },
  {
   "cell_type": "code",
   "execution_count": 24,
   "metadata": {
    "collapsed": true,
    "slideshow": {
     "slide_type": "fragment"
    }
   },
   "outputs": [],
   "source": [
    "w"
   ]
  },
  {
   "cell_type": "code",
   "execution_count": 25,
   "metadata": {
    "collapsed": false,
    "slideshow": {
     "slide_type": "fragment"
    }
   },
   "outputs": [
    {
     "data": {
      "text/plain": [
       "8"
      ]
     },
     "execution_count": 25,
     "metadata": {},
     "output_type": "execute_result"
    }
   ],
   "source": [
    "w.value"
   ]
  },
  {
   "cell_type": "code",
   "execution_count": 28,
   "metadata": {
    "collapsed": false,
    "slideshow": {
     "slide_type": "fragment"
    }
   },
   "outputs": [],
   "source": [
    "w.value = 4"
   ]
  },
  {
   "cell_type": "markdown",
   "metadata": {
    "slideshow": {
     "slide_type": "slide"
    }
   },
   "source": [
    "## Notebook magics\n",
    "\n",
    "Komórki zaczynające się od \n",
    "\n",
    " - \"%\" - line magics\n",
    " - \"%%\" - cell magics\n",
    " \n"
   ]
  },
  {
   "cell_type": "markdown",
   "metadata": {
    "slideshow": {
     "slide_type": "slide"
    }
   },
   "source": [
    "## Line magics - przykład"
   ]
  },
  {
   "cell_type": "code",
   "execution_count": 29,
   "metadata": {
    "collapsed": false,
    "slideshow": {
     "slide_type": "fragment"
    }
   },
   "outputs": [
    {
     "name": "stdout",
     "output_type": "stream",
     "text": [
      "The slowest run took 30.38 times longer than the fastest. This could mean that an intermediate result is being cached.\n",
      "1000000 loops, best of 3: 173 ns per loop\n"
     ]
    }
   ],
   "source": [
    "from  math import sin,cos\n",
    "%timeit sin(cos(sin(1.23))) "
   ]
  },
  {
   "cell_type": "code",
   "execution_count": 30,
   "metadata": {
    "collapsed": false,
    "slideshow": {
     "slide_type": "notes"
    }
   },
   "outputs": [
    {
     "name": "stdout",
     "output_type": "stream",
     "text": [
      "10 loops, best of 3: 73.7 ms per loop\n"
     ]
    }
   ],
   "source": [
    "import numpy as np \n",
    "%timeit np.sum(np.sin(np.random.randn(int(1e6))))"
   ]
  },
  {
   "cell_type": "code",
   "execution_count": 14,
   "metadata": {
    "collapsed": false,
    "slideshow": {
     "slide_type": "notes"
    }
   },
   "outputs": [
    {
     "name": "stdout",
     "output_type": "stream",
     "text": [
      "10 loops, best of 3: 72.2 ms per loop\n"
     ]
    }
   ],
   "source": [
    "%timeit np.sum(np.sin(np.random.randn(int(1e6))))"
   ]
  },
  {
   "cell_type": "code",
   "execution_count": 31,
   "metadata": {
    "collapsed": false,
    "slideshow": {
     "slide_type": "notes"
    }
   },
   "outputs": [
    {
     "name": "stdout",
     "output_type": "stream",
     "text": [
      "CPU times: user 76 ms, sys: 8 ms, total: 84 ms\n",
      "Wall time: 81.6 ms\n"
     ]
    },
    {
     "data": {
      "text/plain": [
       "-127.15000366106875"
      ]
     },
     "execution_count": 31,
     "metadata": {},
     "output_type": "execute_result"
    }
   ],
   "source": [
    "%time np.sum(np.sin(np.random.randn(int(1e6))))"
   ]
  },
  {
   "cell_type": "code",
   "execution_count": 16,
   "metadata": {
    "collapsed": false,
    "slideshow": {
     "slide_type": "fragment"
    }
   },
   "outputs": [
    {
     "name": "stdout",
     "output_type": "stream",
     "text": [
      "/home/users/marcin.kostur/Jupyter_SMCEBI\n",
      "Plik: Anim_gizeh_4fractallab.ipynb\n",
      "Plik: Examples_pythreejs.ipynb\n",
      "Plik: FAQ.ipynb\n",
      "Plik: Images_in_jupyter.ipynb\n",
      "Plik: Jupyter_intro-from0.ipynb\n",
      "Plik: Jupyter_intro.ipynb\n",
      "Plik: NBgrader\n",
      "Plik: Untitled.ipynb\n",
      "Plik: Untitled1.ipynb\n",
      "Plik: Untitled2.ipynb\n",
      "Plik: Untitled3.ipynb\n",
      "Plik: a2ztutors.txt\n",
      "Plik: async_tst.ipynb\n",
      "Plik: blueradsquares.gif\n",
      "Plik: chk_users.ipynb\n",
      "Plik: circle.gif\n",
      "Plik: demo_tests_etc.ipynb\n",
      "Plik: movie.mp4\n",
      "Plik: mpl_example.ipynb\n",
      "Plik: numpy_speed.ipynb\n",
      "Plik: program.py\n",
      "Plik: rk_test.ipynb\n",
      "Plik: update_dynamically_mpl_widget.ipynb\n",
      "Plik: users_smcebi.ipynb\n",
      "Plik: vpython.ipynb\n",
      "Plik: wat.ipynb\n",
      "Plik: what_is_jupyterhub.png\n",
      "Plik: yingyang.gif\n"
     ]
    }
   ],
   "source": [
    "%%sh\n",
    "pwd\n",
    "for i in `ls`\n",
    "do\n",
    " echo Plik: $i\n",
    "done"
   ]
  },
  {
   "cell_type": "markdown",
   "metadata": {},
   "source": [
    "## Widget callback przykład"
   ]
  },
  {
   "cell_type": "code",
   "execution_count": 32,
   "metadata": {
    "collapsed": true
   },
   "outputs": [],
   "source": [
    "from ipywidgets import widgets"
   ]
  },
  {
   "cell_type": "code",
   "execution_count": 33,
   "metadata": {
    "collapsed": true
   },
   "outputs": [],
   "source": [
    "w = widgets.Text()"
   ]
  },
  {
   "cell_type": "code",
   "execution_count": 34,
   "metadata": {
    "collapsed": false
   },
   "outputs": [
    {
     "name": "stdout",
     "output_type": "stream",
     "text": [
      "OK uuu\n",
      "OK uuuhh\n",
      "OK ---- uuuhh\n",
      "OK ---- uuuhh\n"
     ]
    }
   ],
   "source": [
    "w"
   ]
  },
  {
   "cell_type": "code",
   "execution_count": 37,
   "metadata": {
    "collapsed": true
   },
   "outputs": [],
   "source": [
    "def mojcallback(w):\n",
    "    \n",
    "    print(\"OK ----\",w.value)\n",
    "    \n",
    "w.on_submit(mojcallback)"
   ]
  },
  {
   "cell_type": "code",
   "execution_count": 5,
   "metadata": {
    "collapsed": true
   },
   "outputs": [],
   "source": [
    "w.value = \"dads\""
   ]
  },
  {
   "cell_type": "code",
   "execution_count": null,
   "metadata": {
    "collapsed": true
   },
   "outputs": [],
   "source": []
  },
  {
   "cell_type": "code",
   "execution_count": null,
   "metadata": {
    "collapsed": true
   },
   "outputs": [],
   "source": []
  }
 ],
 "metadata": {
  "celltoolbar": "Slideshow",
  "kernelspec": {
   "display_name": "Python 3",
   "language": "python",
   "name": "python3"
  },
  "language_info": {
   "codemirror_mode": {
    "name": "ipython",
    "version": 3
   },
   "file_extension": ".py",
   "mimetype": "text/x-python",
   "name": "python",
   "nbconvert_exporter": "python",
   "pygments_lexer": "ipython3",
   "version": "3.5.2"
  }
 },
 "nbformat": 4,
 "nbformat_minor": 1
}
